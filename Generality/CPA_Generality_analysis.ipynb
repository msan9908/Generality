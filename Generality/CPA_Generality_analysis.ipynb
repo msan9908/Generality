{
 "cells": [
  {
   "cell_type": "code",
   "execution_count": 24,
   "metadata": {},
   "outputs": [],
   "source": [
    "import numpy as np\n",
    "import plotly.express as px\n",
    "import pandas as pd\n",
    "from functions.common_functions import *\n",
    "import plotly.io as pio\n"
   ]
  },
  {
   "cell_type": "code",
   "execution_count": 25,
   "metadata": {},
   "outputs": [],
   "source": [
    "df_ee = pd.read_csv(\"../data/CPA_virtual_clusters_predictions.csv\")\n"
   ]
  },
  {
   "cell_type": "code",
   "execution_count": 27,
   "metadata": {},
   "outputs": [
    {
     "data": {
      "text/html": [
       "<div>\n",
       "<style scoped>\n",
       "    .dataframe tbody tr th:only-of-type {\n",
       "        vertical-align: middle;\n",
       "    }\n",
       "\n",
       "    .dataframe tbody tr th {\n",
       "        vertical-align: top;\n",
       "    }\n",
       "\n",
       "    .dataframe thead th {\n",
       "        text-align: right;\n",
       "    }\n",
       "</style>\n",
       "<table border=\"1\" class=\"dataframe\">\n",
       "  <thead>\n",
       "    <tr style=\"text-align: right;\">\n",
       "      <th></th>\n",
       "      <th>Rxn_Type</th>\n",
       "      <th>Imine</th>\n",
       "      <th>Nucleophile</th>\n",
       "      <th>rxn</th>\n",
       "      <th>net_rxn</th>\n",
       "      <th>Catalyst_Ar_grp</th>\n",
       "      <th>cluster_label</th>\n",
       "      <th>Predicted ee</th>\n",
       "    </tr>\n",
       "  </thead>\n",
       "  <tbody>\n",
       "    <tr>\n",
       "      <th>0</th>\n",
       "      <td>Virtual</td>\n",
       "      <td>(Z)-Iminium 45</td>\n",
       "      <td>N11</td>\n",
       "      <td>(Z)-Iminium 45N11</td>\n",
       "      <td>(Z)-Iminium 45N11L15</td>\n",
       "      <td>L15</td>\n",
       "      <td>3</td>\n",
       "      <td>62.699802</td>\n",
       "    </tr>\n",
       "    <tr>\n",
       "      <th>1</th>\n",
       "      <td>Virtual</td>\n",
       "      <td>(E)-Iminium 90</td>\n",
       "      <td>N11</td>\n",
       "      <td>(E)-Iminium 90N11</td>\n",
       "      <td>(E)-Iminium 90N11L15</td>\n",
       "      <td>L15</td>\n",
       "      <td>14</td>\n",
       "      <td>74.473810</td>\n",
       "    </tr>\n",
       "    <tr>\n",
       "      <th>2</th>\n",
       "      <td>Virtual</td>\n",
       "      <td>(E)-Iminium 70</td>\n",
       "      <td>N11</td>\n",
       "      <td>(E)-Iminium 70N11</td>\n",
       "      <td>(E)-Iminium 70N11L15</td>\n",
       "      <td>L15</td>\n",
       "      <td>16</td>\n",
       "      <td>84.758680</td>\n",
       "    </tr>\n",
       "    <tr>\n",
       "      <th>3</th>\n",
       "      <td>Virtual</td>\n",
       "      <td>(E)-Iminium 72</td>\n",
       "      <td>N11</td>\n",
       "      <td>(E)-Iminium 72N11</td>\n",
       "      <td>(E)-Iminium 72N11L15</td>\n",
       "      <td>L15</td>\n",
       "      <td>14</td>\n",
       "      <td>75.421135</td>\n",
       "    </tr>\n",
       "    <tr>\n",
       "      <th>4</th>\n",
       "      <td>Virtual</td>\n",
       "      <td>(E)-Iminium 77</td>\n",
       "      <td>N11</td>\n",
       "      <td>(E)-Iminium 77N11</td>\n",
       "      <td>(E)-Iminium 77N11L15</td>\n",
       "      <td>L15</td>\n",
       "      <td>14</td>\n",
       "      <td>78.793106</td>\n",
       "    </tr>\n",
       "    <tr>\n",
       "      <th>...</th>\n",
       "      <td>...</td>\n",
       "      <td>...</td>\n",
       "      <td>...</td>\n",
       "      <td>...</td>\n",
       "      <td>...</td>\n",
       "      <td>...</td>\n",
       "      <td>...</td>\n",
       "      <td>...</td>\n",
       "    </tr>\n",
       "    <tr>\n",
       "      <th>125455</th>\n",
       "      <td>Virtual</td>\n",
       "      <td>(E)-Iminium 151</td>\n",
       "      <td>N26</td>\n",
       "      <td>(E)-Iminium 151N26</td>\n",
       "      <td>(E)-Iminium 151N26L9</td>\n",
       "      <td>L9</td>\n",
       "      <td>39</td>\n",
       "      <td>72.179700</td>\n",
       "    </tr>\n",
       "    <tr>\n",
       "      <th>125456</th>\n",
       "      <td>Virtual</td>\n",
       "      <td>(E)-Iminium 111</td>\n",
       "      <td>N26</td>\n",
       "      <td>(E)-Iminium 111N26</td>\n",
       "      <td>(E)-Iminium 111N26L9</td>\n",
       "      <td>L9</td>\n",
       "      <td>48</td>\n",
       "      <td>80.431854</td>\n",
       "    </tr>\n",
       "    <tr>\n",
       "      <th>125457</th>\n",
       "      <td>Virtual</td>\n",
       "      <td>(Z)-Iminium 3</td>\n",
       "      <td>N26</td>\n",
       "      <td>(Z)-Iminium 3N26</td>\n",
       "      <td>(Z)-Iminium 3N26L9</td>\n",
       "      <td>L9</td>\n",
       "      <td>0</td>\n",
       "      <td>65.993330</td>\n",
       "    </tr>\n",
       "    <tr>\n",
       "      <th>125458</th>\n",
       "      <td>Virtual</td>\n",
       "      <td>(E)-Iminium 112</td>\n",
       "      <td>N26</td>\n",
       "      <td>(E)-Iminium 112N26</td>\n",
       "      <td>(E)-Iminium 112N26L9</td>\n",
       "      <td>L9</td>\n",
       "      <td>48</td>\n",
       "      <td>73.164080</td>\n",
       "    </tr>\n",
       "    <tr>\n",
       "      <th>125459</th>\n",
       "      <td>Virtual</td>\n",
       "      <td>(E)-Iminium 132</td>\n",
       "      <td>N26</td>\n",
       "      <td>(E)-Iminium 132N26</td>\n",
       "      <td>(E)-Iminium 132N26L9</td>\n",
       "      <td>L9</td>\n",
       "      <td>20</td>\n",
       "      <td>82.570755</td>\n",
       "    </tr>\n",
       "  </tbody>\n",
       "</table>\n",
       "<p>125460 rows × 8 columns</p>\n",
       "</div>"
      ],
      "text/plain": [
       "       Rxn_Type            Imine Nucleophile                 rxn   \n",
       "0       Virtual   (Z)-Iminium 45         N11   (Z)-Iminium 45N11  \\\n",
       "1       Virtual   (E)-Iminium 90         N11   (E)-Iminium 90N11   \n",
       "2       Virtual   (E)-Iminium 70         N11   (E)-Iminium 70N11   \n",
       "3       Virtual   (E)-Iminium 72         N11   (E)-Iminium 72N11   \n",
       "4       Virtual   (E)-Iminium 77         N11   (E)-Iminium 77N11   \n",
       "...         ...              ...         ...                 ...   \n",
       "125455  Virtual  (E)-Iminium 151         N26  (E)-Iminium 151N26   \n",
       "125456  Virtual  (E)-Iminium 111         N26  (E)-Iminium 111N26   \n",
       "125457  Virtual    (Z)-Iminium 3         N26    (Z)-Iminium 3N26   \n",
       "125458  Virtual  (E)-Iminium 112         N26  (E)-Iminium 112N26   \n",
       "125459  Virtual  (E)-Iminium 132         N26  (E)-Iminium 132N26   \n",
       "\n",
       "                     net_rxn Catalyst_Ar_grp  cluster_label  Predicted ee  \n",
       "0       (Z)-Iminium 45N11L15             L15              3     62.699802  \n",
       "1       (E)-Iminium 90N11L15             L15             14     74.473810  \n",
       "2       (E)-Iminium 70N11L15             L15             16     84.758680  \n",
       "3       (E)-Iminium 72N11L15             L15             14     75.421135  \n",
       "4       (E)-Iminium 77N11L15             L15             14     78.793106  \n",
       "...                      ...             ...            ...           ...  \n",
       "125455  (E)-Iminium 151N26L9              L9             39     72.179700  \n",
       "125456  (E)-Iminium 111N26L9              L9             48     80.431854  \n",
       "125457    (Z)-Iminium 3N26L9              L9              0     65.993330  \n",
       "125458  (E)-Iminium 112N26L9              L9             48     73.164080  \n",
       "125459  (E)-Iminium 132N26L9              L9             20     82.570755  \n",
       "\n",
       "[125460 rows x 8 columns]"
      ]
     },
     "execution_count": 27,
     "metadata": {},
     "output_type": "execute_result"
    }
   ],
   "source": [
    "df_ee"
   ]
  },
  {
   "cell_type": "markdown",
   "metadata": {},
   "source": [
    "# Generality"
   ]
  },
  {
   "cell_type": "code",
   "execution_count": 28,
   "metadata": {},
   "outputs": [
    {
     "data": {
      "image/png": "[encoded data removed]",
      "text/plain": [
       "<Figure size 640x480 with 1 Axes>"
      ]
     },
     "metadata": {},
     "output_type": "display_data"
    }
   ],
   "source": [
    "import matplotlib.pyplot as plt\n",
    "\n",
    "cats = df_ee['Catalyst_Ar_grp'].unique()\n",
    "diversity =[]\n",
    "threshold =[]\n",
    "generality_df = pd.DataFrame(columns=cats)\n",
    "id=0\n",
    "for i in np.arange(0,100,1):\n",
    "    \n",
    "    cat_list = []\n",
    "    gen_list = []\n",
    "    cluster_label_list = []\n",
    "    cluster_label_ee_list = []\n",
    "    for cat in cats:\n",
    "        generality, cluster_labels, cluster_label_ee = calc_generality(df_ee,cat,'Catalyst_Ar_grp','Predicted ee', df_ee['cluster_label'], i)\n",
    "        cat_list.append(cat)\n",
    "        gen_list.append(generality)\n",
    "        cluster_label_list.append(cluster_labels)\n",
    "        cluster_label_ee_list.append(cluster_label_ee)\n",
    "    diversity.append(np.std(gen_list))\n",
    "    generality_df.loc[id] = gen_list\n",
    "    threshold.append(i)\n",
    "    id+=1\n",
    "\n",
    "plt.scatter(threshold,diversity)\n",
    "plt.xlabel('threshold')\n",
    "\n",
    "plt.ylabel('Std(Generality)')\n",
    "\n",
    "opt_threshold = np.argmax(diversity)"
   ]
  },
  {
   "cell_type": "code",
   "execution_count": 29,
   "metadata": {},
   "outputs": [
    {
     "data": {
      "text/plain": [
       "65"
      ]
     },
     "execution_count": 29,
     "metadata": {},
     "output_type": "execute_result"
    }
   ],
   "source": [
    "opt_threshold"
   ]
  },
  {
   "cell_type": "code",
   "execution_count": 30,
   "metadata": {},
   "outputs": [
    {
     "data": {
      "application/vnd.plotly.v1+json": {
       "config": {
        "plotlyServerURL": "https://plot.ly"
       },
       "data": [
        {
         "alignmentgroup": "True",
         "hovertemplate": "Catalyst Class=%{x}<br>Generality=%{y}<extra></extra>",
         "legendgroup": "",
         "marker": {
          "color": "#4C78A8",
          "pattern": {
           "shape": ""
          }
         },
         "name": "",
         "offsetgroup": "",
         "orientation": "h",
         "showlegend": false,
         "textposition": "auto",
         "type": "bar",
         "x": [
          0.14,
          0.16,
          0.16,
          0.18,
          0.22,
          0.22,
          0.42,
          0.58,
          0.62,
          0.64,
          0.66,
          0.66,
          0.66,
          0.74,
          0.88
         ],
         "xaxis": "x",
         "y": [
          "L1",
          "L2",
          "L13",
          "L6",
          "L4",
          "L5",
          "L8",
          "L15",
          "L7",
          "L12",
          "L10",
          "L16",
          "L9",
          "L11",
          "L14"
         ],
         "yaxis": "y"
        }
       ],
       "layout": {
        "barmode": "relative",
        "font": {
         "size": 12
        },
        "height": 720,
        "legend": {
         "orientation": "h",
         "title": {
          "text": ""
         },
         "tracegroupgap": 0,
         "x": 0.01,
         "xanchor": "left",
         "y": 1.01,
         "yanchor": "bottom"
        },
        "template": {
         "data": {
          "bar": [
           {
            "error_x": {
             "color": "rgb(36,36,36)"
            },
            "error_y": {
             "color": "rgb(36,36,36)"
            },
            "marker": {
             "line": {
              "color": "white",
              "width": 0.5
             },
             "pattern": {
              "fillmode": "overlay",
              "size": 10,
              "solidity": 0.2
             }
            },
            "type": "bar"
           }
          ],
          "barpolar": [
           {
            "marker": {
             "line": {
              "color": "white",
              "width": 0.5
             },
             "pattern": {
              "fillmode": "overlay",
              "size": 10,
              "solidity": 0.2
             }
            },
            "type": "barpolar"
           }
          ],
          "carpet": [
           {
            "aaxis": {
             "endlinecolor": "rgb(36,36,36)",
             "gridcolor": "white",
             "linecolor": "white",
             "minorgridcolor": "white",
             "startlinecolor": "rgb(36,36,36)"
            },
            "baxis": {
             "endlinecolor": "rgb(36,36,36)",
             "gridcolor": "white",
             "linecolor": "white",
             "minorgridcolor": "white",
             "startlinecolor": "rgb(36,36,36)"
            },
            "type": "carpet"
           }
          ],
          "choropleth": [
           {
            "colorbar": {
             "outlinewidth": 1,
             "tickcolor": "rgb(36,36,36)",
             "ticks": "outside"
            },
            "type": "choropleth"
           }
          ],
          "contour": [
           {
            "colorbar": {
             "outlinewidth": 1,
             "tickcolor": "rgb(36,36,36)",
             "ticks": "outside"
            },
            "colorscale": [
             [
              0,
              "#440154"
             ],
             [
              0.1111111111111111,
              "#482878"
             ],
             [
              0.2222222222222222,
              "#3e4989"
             ],
             [
              0.3333333333333333,
              "#31688e"
             ],
             [
              0.4444444444444444,
              "#26828e"
             ],
             [
              0.5555555555555556,
              "#1f9e89"
             ],
             [
              0.6666666666666666,
              "#35b779"
             ],
             [
              0.7777777777777778,
              "#6ece58"
             ],
             [
              0.8888888888888888,
              "#b5de2b"
             ],
             [
              1,
              "#fde725"
             ]
            ],
            "type": "contour"
           }
          ],
          "contourcarpet": [
           {
            "colorbar": {
             "outlinewidth": 1,
             "tickcolor": "rgb(36,36,36)",
             "ticks": "outside"
            },
            "type": "contourcarpet"
           }
          ],
          "heatmap": [
           {
            "colorbar": {
             "outlinewidth": 1,
             "tickcolor": "rgb(36,36,36)",
             "ticks": "outside"
            },
            "colorscale": [
             [
              0,
              "#440154"
             ],
             [
              0.1111111111111111,
              "#482878"
             ],
             [
              0.2222222222222222,
              "#3e4989"
             ],
             [
              0.3333333333333333,
              "#31688e"
             ],
             [
              0.4444444444444444,
              "#26828e"
             ],
             [
              0.5555555555555556,
              "#1f9e89"
             ],
             [
              0.6666666666666666,
              "#35b779"
             ],
             [
              0.7777777777777778,
              "#6ece58"
             ],
             [
              0.8888888888888888,
              "#b5de2b"
             ],
             [
              1,
              "#fde725"
             ]
            ],
            "type": "heatmap"
           }
          ],
          "heatmapgl": [
           {
            "colorbar": {
             "outlinewidth": 1,
             "tickcolor": "rgb(36,36,36)",
             "ticks": "outside"
            },
            "colorscale": [
             [
              0,
              "#440154"
             ],
             [
              0.1111111111111111,
              "#482878"
             ],
             [
              0.2222222222222222,
              "#3e4989"
             ],
             [
              0.3333333333333333,
              "#31688e"
             ],
             [
              0.4444444444444444,
              "#26828e"
             ],
             [
              0.5555555555555556,
              "#1f9e89"
             ],
             [
              0.6666666666666666,
              "#35b779"
             ],
             [
              0.7777777777777778,
              "#6ece58"
             ],
             [
              0.8888888888888888,
              "#b5de2b"
             ],
             [
              1,
              "#fde725"
             ]
            ],
            "type": "heatmapgl"
           }
          ],
          "histogram": [
           {
            "marker": {
             "line": {
              "color": "white",
              "width": 0.6
             }
            },
            "type": "histogram"
           }
          ],
          "histogram2d": [
           {
            "colorbar": {
             "outlinewidth": 1,
             "tickcolor": "rgb(36,36,36)",
             "ticks": "outside"
            },
            "colorscale": [
             [
              0,
              "#440154"
             ],
             [
              0.1111111111111111,
              "#482878"
             ],
             [
              0.2222222222222222,
              "#3e4989"
             ],
             [
              0.3333333333333333,
              "#31688e"
             ],
             [
              0.4444444444444444,
              "#26828e"
             ],
             [
              0.5555555555555556,
              "#1f9e89"
             ],
             [
              0.6666666666666666,
              "#35b779"
             ],
             [
              0.7777777777777778,
              "#6ece58"
             ],
             [
              0.8888888888888888,
              "#b5de2b"
             ],
             [
              1,
              "#fde725"
             ]
            ],
            "type": "histogram2d"
           }
          ],
          "histogram2dcontour": [
           {
            "colorbar": {
             "outlinewidth": 1,
             "tickcolor": "rgb(36,36,36)",
             "ticks": "outside"
            },
            "colorscale": [
             [
              0,
              "#440154"
             ],
             [
              0.1111111111111111,
              "#482878"
             ],
             [
              0.2222222222222222,
              "#3e4989"
             ],
             [
              0.3333333333333333,
              "#31688e"
             ],
             [
              0.4444444444444444,
              "#26828e"
             ],
             [
              0.5555555555555556,
              "#1f9e89"
             ],
             [
              0.6666666666666666,
              "#35b779"
             ],
             [
              0.7777777777777778,
              "#6ece58"
             ],
             [
              0.8888888888888888,
              "#b5de2b"
             ],
             [
              1,
              "#fde725"
             ]
            ],
            "type": "histogram2dcontour"
           }
          ],
          "mesh3d": [
           {
            "colorbar": {
             "outlinewidth": 1,
             "tickcolor": "rgb(36,36,36)",
             "ticks": "outside"
            },
            "type": "mesh3d"
           }
          ],
          "parcoords": [
           {
            "line": {
             "colorbar": {
              "outlinewidth": 1,
              "tickcolor": "rgb(36,36,36)",
              "ticks": "outside"
             }
            },
            "type": "parcoords"
           }
          ],
          "pie": [
           {
            "automargin": true,
            "type": "pie"
           }
          ],
          "scatter": [
           {
            "fillpattern": {
             "fillmode": "overlay",
             "size": 10,
             "solidity": 0.2
            },
            "type": "scatter"
           }
          ],
          "scatter3d": [
           {
            "line": {
             "colorbar": {
              "outlinewidth": 1,
              "tickcolor": "rgb(36,36,36)",
              "ticks": "outside"
             }
            },
            "marker": {
             "colorbar": {
              "outlinewidth": 1,
              "tickcolor": "rgb(36,36,36)",
              "ticks": "outside"
             }
            },
            "type": "scatter3d"
           }
          ],
          "scattercarpet": [
           {
            "marker": {
             "colorbar": {
              "outlinewidth": 1,
              "tickcolor": "rgb(36,36,36)",
              "ticks": "outside"
             }
            },
            "type": "scattercarpet"
           }
          ],
          "scattergeo": [
           {
            "marker": {
             "colorbar": {
              "outlinewidth": 1,
              "tickcolor": "rgb(36,36,36)",
              "ticks": "outside"
             }
            },
            "type": "scattergeo"
           }
          ],
          "scattergl": [
           {
            "marker": {
             "colorbar": {
              "outlinewidth": 1,
              "tickcolor": "rgb(36,36,36)",
              "ticks": "outside"
             }
            },
            "type": "scattergl"
           }
          ],
          "scattermapbox": [
           {
            "marker": {
             "colorbar": {
              "outlinewidth": 1,
              "tickcolor": "rgb(36,36,36)",
              "ticks": "outside"
             }
            },
            "type": "scattermapbox"
           }
          ],
          "scatterpolar": [
           {
            "marker": {
             "colorbar": {
              "outlinewidth": 1,
              "tickcolor": "rgb(36,36,36)",
              "ticks": "outside"
             }
            },
            "type": "scatterpolar"
           }
          ],
          "scatterpolargl": [
           {
            "marker": {
             "colorbar": {
              "outlinewidth": 1,
              "tickcolor": "rgb(36,36,36)",
              "ticks": "outside"
             }
            },
            "type": "scatterpolargl"
           }
          ],
          "scatterternary": [
           {
            "marker": {
             "colorbar": {
              "outlinewidth": 1,
              "tickcolor": "rgb(36,36,36)",
              "ticks": "outside"
             }
            },
            "type": "scatterternary"
           }
          ],
          "surface": [
           {
            "colorbar": {
             "outlinewidth": 1,
             "tickcolor": "rgb(36,36,36)",
             "ticks": "outside"
            },
            "colorscale": [
             [
              0,
              "#440154"
             ],
             [
              0.1111111111111111,
              "#482878"
             ],
             [
              0.2222222222222222,
              "#3e4989"
             ],
             [
              0.3333333333333333,
              "#31688e"
             ],
             [
              0.4444444444444444,
              "#26828e"
             ],
             [
              0.5555555555555556,
              "#1f9e89"
             ],
             [
              0.6666666666666666,
              "#35b779"
             ],
             [
              0.7777777777777778,
              "#6ece58"
             ],
             [
              0.8888888888888888,
              "#b5de2b"
             ],
             [
              1,
              "#fde725"
             ]
            ],
            "type": "surface"
           }
          ],
          "table": [
           {
            "cells": {
             "fill": {
              "color": "rgb(237,237,237)"
             },
             "line": {
              "color": "white"
             }
            },
            "header": {
             "fill": {
              "color": "rgb(217,217,217)"
             },
             "line": {
              "color": "white"
             }
            },
            "type": "table"
           }
          ]
         },
         "layout": {
          "annotationdefaults": {
           "arrowhead": 0,
           "arrowwidth": 1
          },
          "autotypenumbers": "strict",
          "coloraxis": {
           "colorbar": {
            "outlinewidth": 1,
            "tickcolor": "rgb(36,36,36)",
            "ticks": "outside"
           }
          },
          "colorscale": {
           "diverging": [
            [
             0,
             "rgb(103,0,31)"
            ],
            [
             0.1,
             "rgb(178,24,43)"
            ],
            [
             0.2,
             "rgb(214,96,77)"
            ],
            [
             0.3,
             "rgb(244,165,130)"
            ],
            [
             0.4,
             "rgb(253,219,199)"
            ],
            [
             0.5,
             "rgb(247,247,247)"
            ],
            [
             0.6,
             "rgb(209,229,240)"
            ],
            [
             0.7,
             "rgb(146,197,222)"
            ],
            [
             0.8,
             "rgb(67,147,195)"
            ],
            [
             0.9,
             "rgb(33,102,172)"
            ],
            [
             1,
             "rgb(5,48,97)"
            ]
           ],
           "sequential": [
            [
             0,
             "#440154"
            ],
            [
             0.1111111111111111,
             "#482878"
            ],
            [
             0.2222222222222222,
             "#3e4989"
            ],
            [
             0.3333333333333333,
             "#31688e"
            ],
            [
             0.4444444444444444,
             "#26828e"
            ],
            [
             0.5555555555555556,
             "#1f9e89"
            ],
            [
             0.6666666666666666,
             "#35b779"
            ],
            [
             0.7777777777777778,
             "#6ece58"
            ],
            [
             0.8888888888888888,
             "#b5de2b"
            ],
            [
             1,
             "#fde725"
            ]
           ],
           "sequentialminus": [
            [
             0,
             "#440154"
            ],
            [
             0.1111111111111111,
             "#482878"
            ],
            [
             0.2222222222222222,
             "#3e4989"
            ],
            [
             0.3333333333333333,
             "#31688e"
            ],
            [
             0.4444444444444444,
             "#26828e"
            ],
            [
             0.5555555555555556,
             "#1f9e89"
            ],
            [
             0.6666666666666666,
             "#35b779"
            ],
            [
             0.7777777777777778,
             "#6ece58"
            ],
            [
             0.8888888888888888,
             "#b5de2b"
            ],
            [
             1,
             "#fde725"
            ]
           ]
          },
          "colorway": [
           "#1F77B4",
           "#FF7F0E",
           "#2CA02C",
           "#D62728",
           "#9467BD",
           "#8C564B",
           "#E377C2",
           "#7F7F7F",
           "#BCBD22",
           "#17BECF"
          ],
          "font": {
           "color": "rgb(36,36,36)"
          },
          "geo": {
           "bgcolor": "white",
           "lakecolor": "white",
           "landcolor": "white",
           "showlakes": true,
           "showland": true,
           "subunitcolor": "white"
          },
          "hoverlabel": {
           "align": "left"
          },
          "hovermode": "closest",
          "mapbox": {
           "style": "light"
          },
          "paper_bgcolor": "white",
          "plot_bgcolor": "white",
          "polar": {
           "angularaxis": {
            "gridcolor": "rgb(232,232,232)",
            "linecolor": "rgb(36,36,36)",
            "showgrid": false,
            "showline": true,
            "ticks": "outside"
           },
           "bgcolor": "white",
           "radialaxis": {
            "gridcolor": "rgb(232,232,232)",
            "linecolor": "rgb(36,36,36)",
            "showgrid": false,
            "showline": true,
            "ticks": "outside"
           }
          },
          "scene": {
           "xaxis": {
            "backgroundcolor": "white",
            "gridcolor": "rgb(232,232,232)",
            "gridwidth": 2,
            "linecolor": "rgb(36,36,36)",
            "showbackground": true,
            "showgrid": false,
            "showline": true,
            "ticks": "outside",
            "zeroline": false,
            "zerolinecolor": "rgb(36,36,36)"
           },
           "yaxis": {
            "backgroundcolor": "white",
            "gridcolor": "rgb(232,232,232)",
            "gridwidth": 2,
            "linecolor": "rgb(36,36,36)",
            "showbackground": true,
            "showgrid": false,
            "showline": true,
            "ticks": "outside",
            "zeroline": false,
            "zerolinecolor": "rgb(36,36,36)"
           },
           "zaxis": {
            "backgroundcolor": "white",
            "gridcolor": "rgb(232,232,232)",
            "gridwidth": 2,
            "linecolor": "rgb(36,36,36)",
            "showbackground": true,
            "showgrid": false,
            "showline": true,
            "ticks": "outside",
            "zeroline": false,
            "zerolinecolor": "rgb(36,36,36)"
           }
          },
          "shapedefaults": {
           "fillcolor": "black",
           "line": {
            "width": 0
           },
           "opacity": 0.3
          },
          "ternary": {
           "aaxis": {
            "gridcolor": "rgb(232,232,232)",
            "linecolor": "rgb(36,36,36)",
            "showgrid": false,
            "showline": true,
            "ticks": "outside"
           },
           "baxis": {
            "gridcolor": "rgb(232,232,232)",
            "linecolor": "rgb(36,36,36)",
            "showgrid": false,
            "showline": true,
            "ticks": "outside"
           },
           "bgcolor": "white",
           "caxis": {
            "gridcolor": "rgb(232,232,232)",
            "linecolor": "rgb(36,36,36)",
            "showgrid": false,
            "showline": true,
            "ticks": "outside"
           }
          },
          "title": {
           "x": 0.05
          },
          "xaxis": {
           "automargin": true,
           "gridcolor": "rgb(232,232,232)",
           "linecolor": "rgb(36,36,36)",
           "showgrid": false,
           "showline": true,
           "ticks": "outside",
           "title": {
            "standoff": 15
           },
           "zeroline": false,
           "zerolinecolor": "rgb(36,36,36)"
          },
          "yaxis": {
           "automargin": true,
           "gridcolor": "rgb(232,232,232)",
           "linecolor": "rgb(36,36,36)",
           "showgrid": false,
           "showline": true,
           "ticks": "outside",
           "title": {
            "standoff": 15
           },
           "zeroline": false,
           "zerolinecolor": "rgb(36,36,36)"
          }
         }
        },
        "title": {
         "text": "Generality"
        },
        "width": 980,
        "xaxis": {
         "anchor": "y",
         "domain": [
          0,
          1
         ],
         "mirror": true,
         "title": {
          "text": "Generality"
         }
        },
        "yaxis": {
         "anchor": "x",
         "domain": [
          0,
          1
         ],
         "mirror": true,
         "title": {
          "text": "Catalyst"
         }
        }
       }
      }
     },
     "metadata": {},
     "output_type": "display_data"
    }
   ],
   "source": [
    "## Calculate Generality ##\n",
    "cats = df_ee['Catalyst_Ar_grp'].unique()\n",
    "cat_list = []\n",
    "gen_list = []\n",
    "cluster_label_list = []\n",
    "cluster_label_ee_list = []\n",
    "for cat in cats:\n",
    "    generality, cluster_labels, cluster_label_ee = calc_generality(df_ee,cat,'Catalyst_Ar_grp','Predicted ee', df_ee['cluster_label'],threshold[opt_threshold])\n",
    "    cat_list.append(cat)\n",
    "    gen_list.append(generality)\n",
    "    cluster_label_list.append(cluster_labels)\n",
    "    cluster_label_ee_list.append(cluster_label_ee)\n",
    "\n",
    "gen = pd.Series(gen_list,cat_list)\n",
    "gen = gen.sort_values(ascending=True)\n",
    "fig = px.bar(x=gen, y=gen.index, title='Generality',\n",
    "            labels={'x':'Catalyst Class', 'y':'Generality'},\n",
    "            template='simple_white', orientation='h',\n",
    "            color_discrete_sequence=[px.colors.qualitative.T10[0],\n",
    "            px.colors.qualitative.T10[0],\n",
    "            px.colors.qualitative.T10[4]],\n",
    "            width=980, height=720,\n",
    "                )\n",
    "\n",
    "\n",
    "                \n",
    "\n",
    "\n",
    "fig.update_xaxes(mirror=True)\n",
    "fig.update_yaxes(mirror=True)\n",
    "\n",
    "fig.update_layout(\n",
    "    font_size=12,xaxis_title='Generality', yaxis_title='Catalyst', \n",
    ")\n",
    "\n",
    "fig.update_layout(\n",
    "    legend=dict(\n",
    "        yanchor=\"bottom\",\n",
    "        y=1.01,\n",
    "        xanchor=\"left\",\n",
    "        x=0.01,\n",
    "        orientation='h',\n",
    "    ),\n",
    "    legend_title_text=''\n",
    ")\n",
    "\n",
    "\n",
    "fig.show()\n"
   ]
  },
  {
   "cell_type": "markdown",
   "metadata": {},
   "source": [
    "# Old Generality measurments"
   ]
  },
  {
   "cell_type": "code",
   "execution_count": 31,
   "metadata": {},
   "outputs": [
    {
     "data": {
      "application/vnd.plotly.v1+json": {
       "config": {
        "plotlyServerURL": "https://plot.ly"
       },
       "data": [
        {
         "alignmentgroup": "True",
         "hovertemplate": "Catalyst Class=%{x}<br>Generality=%{y}<extra></extra>",
         "legendgroup": "",
         "marker": {
          "color": "#4C78A8",
          "pattern": {
           "shape": ""
          }
         },
         "name": "",
         "offsetgroup": "",
         "orientation": "h",
         "showlegend": false,
         "textposition": "auto",
         "type": "bar",
         "x": [
          0.24,
          0.3,
          0.32,
          0.38,
          0.46,
          0.48,
          0.54,
          0.66,
          0.66,
          0.68,
          0.74,
          0.76,
          0.78,
          0.8,
          0.92
         ],
         "xaxis": "x",
         "y": [
          "L1",
          "L13",
          "L2",
          "L4",
          "L6",
          "L5",
          "L8",
          "L15",
          "L7",
          "L12",
          "L16",
          "L9",
          "L10",
          "L11",
          "L14"
         ],
         "yaxis": "y"
        }
       ],
       "layout": {
        "barmode": "relative",
        "font": {
         "size": 12
        },
        "height": 720,
        "legend": {
         "orientation": "h",
         "title": {
          "text": ""
         },
         "tracegroupgap": 0,
         "x": 0.01,
         "xanchor": "left",
         "y": 1.01,
         "yanchor": "bottom"
        },
        "template": {
         "data": {
          "bar": [
           {
            "error_x": {
             "color": "rgb(36,36,36)"
            },
            "error_y": {
             "color": "rgb(36,36,36)"
            },
            "marker": {
             "line": {
              "color": "white",
              "width": 0.5
             },
             "pattern": {
              "fillmode": "overlay",
              "size": 10,
              "solidity": 0.2
             }
            },
            "type": "bar"
           }
          ],
          "barpolar": [
           {
            "marker": {
             "line": {
              "color": "white",
              "width": 0.5
             },
             "pattern": {
              "fillmode": "overlay",
              "size": 10,
              "solidity": 0.2
             }
            },
            "type": "barpolar"
           }
          ],
          "carpet": [
           {
            "aaxis": {
             "endlinecolor": "rgb(36,36,36)",
             "gridcolor": "white",
             "linecolor": "white",
             "minorgridcolor": "white",
             "startlinecolor": "rgb(36,36,36)"
            },
            "baxis": {
             "endlinecolor": "rgb(36,36,36)",
             "gridcolor": "white",
             "linecolor": "white",
             "minorgridcolor": "white",
             "startlinecolor": "rgb(36,36,36)"
            },
            "type": "carpet"
           }
          ],
          "choropleth": [
           {
            "colorbar": {
             "outlinewidth": 1,
             "tickcolor": "rgb(36,36,36)",
             "ticks": "outside"
            },
            "type": "choropleth"
           }
          ],
          "contour": [
           {
            "colorbar": {
             "outlinewidth": 1,
             "tickcolor": "rgb(36,36,36)",
             "ticks": "outside"
            },
            "colorscale": [
             [
              0,
              "#440154"
             ],
             [
              0.1111111111111111,
              "#482878"
             ],
             [
              0.2222222222222222,
              "#3e4989"
             ],
             [
              0.3333333333333333,
              "#31688e"
             ],
             [
              0.4444444444444444,
              "#26828e"
             ],
             [
              0.5555555555555556,
              "#1f9e89"
             ],
             [
              0.6666666666666666,
              "#35b779"
             ],
             [
              0.7777777777777778,
              "#6ece58"
             ],
             [
              0.8888888888888888,
              "#b5de2b"
             ],
             [
              1,
              "#fde725"
             ]
            ],
            "type": "contour"
           }
          ],
          "contourcarpet": [
           {
            "colorbar": {
             "outlinewidth": 1,
             "tickcolor": "rgb(36,36,36)",
             "ticks": "outside"
            },
            "type": "contourcarpet"
           }
          ],
          "heatmap": [
           {
            "colorbar": {
             "outlinewidth": 1,
             "tickcolor": "rgb(36,36,36)",
             "ticks": "outside"
            },
            "colorscale": [
             [
              0,
              "#440154"
             ],
             [
              0.1111111111111111,
              "#482878"
             ],
             [
              0.2222222222222222,
              "#3e4989"
             ],
             [
              0.3333333333333333,
              "#31688e"
             ],
             [
              0.4444444444444444,
              "#26828e"
             ],
             [
              0.5555555555555556,
              "#1f9e89"
             ],
             [
              0.6666666666666666,
              "#35b779"
             ],
             [
              0.7777777777777778,
              "#6ece58"
             ],
             [
              0.8888888888888888,
              "#b5de2b"
             ],
             [
              1,
              "#fde725"
             ]
            ],
            "type": "heatmap"
           }
          ],
          "heatmapgl": [
           {
            "colorbar": {
             "outlinewidth": 1,
             "tickcolor": "rgb(36,36,36)",
             "ticks": "outside"
            },
            "colorscale": [
             [
              0,
              "#440154"
             ],
             [
              0.1111111111111111,
              "#482878"
             ],
             [
              0.2222222222222222,
              "#3e4989"
             ],
             [
              0.3333333333333333,
              "#31688e"
             ],
             [
              0.4444444444444444,
              "#26828e"
             ],
             [
              0.5555555555555556,
              "#1f9e89"
             ],
             [
              0.6666666666666666,
              "#35b779"
             ],
             [
              0.7777777777777778,
              "#6ece58"
             ],
             [
              0.8888888888888888,
              "#b5de2b"
             ],
             [
              1,
              "#fde725"
             ]
            ],
            "type": "heatmapgl"
           }
          ],
          "histogram": [
           {
            "marker": {
             "line": {
              "color": "white",
              "width": 0.6
             }
            },
            "type": "histogram"
           }
          ],
          "histogram2d": [
           {
            "colorbar": {
             "outlinewidth": 1,
             "tickcolor": "rgb(36,36,36)",
             "ticks": "outside"
            },
            "colorscale": [
             [
              0,
              "#440154"
             ],
             [
              0.1111111111111111,
              "#482878"
             ],
             [
              0.2222222222222222,
              "#3e4989"
             ],
             [
              0.3333333333333333,
              "#31688e"
             ],
             [
              0.4444444444444444,
              "#26828e"
             ],
             [
              0.5555555555555556,
              "#1f9e89"
             ],
             [
              0.6666666666666666,
              "#35b779"
             ],
             [
              0.7777777777777778,
              "#6ece58"
             ],
             [
              0.8888888888888888,
              "#b5de2b"
             ],
             [
              1,
              "#fde725"
             ]
            ],
            "type": "histogram2d"
           }
          ],
          "histogram2dcontour": [
           {
            "colorbar": {
             "outlinewidth": 1,
             "tickcolor": "rgb(36,36,36)",
             "ticks": "outside"
            },
            "colorscale": [
             [
              0,
              "#440154"
             ],
             [
              0.1111111111111111,
              "#482878"
             ],
             [
              0.2222222222222222,
              "#3e4989"
             ],
             [
              0.3333333333333333,
              "#31688e"
             ],
             [
              0.4444444444444444,
              "#26828e"
             ],
             [
              0.5555555555555556,
              "#1f9e89"
             ],
             [
              0.6666666666666666,
              "#35b779"
             ],
             [
              0.7777777777777778,
              "#6ece58"
             ],
             [
              0.8888888888888888,
              "#b5de2b"
             ],
             [
              1,
              "#fde725"
             ]
            ],
            "type": "histogram2dcontour"
           }
          ],
          "mesh3d": [
           {
            "colorbar": {
             "outlinewidth": 1,
             "tickcolor": "rgb(36,36,36)",
             "ticks": "outside"
            },
            "type": "mesh3d"
           }
          ],
          "parcoords": [
           {
            "line": {
             "colorbar": {
              "outlinewidth": 1,
              "tickcolor": "rgb(36,36,36)",
              "ticks": "outside"
             }
            },
            "type": "parcoords"
           }
          ],
          "pie": [
           {
            "automargin": true,
            "type": "pie"
           }
          ],
          "scatter": [
           {
            "fillpattern": {
             "fillmode": "overlay",
             "size": 10,
             "solidity": 0.2
            },
            "type": "scatter"
           }
          ],
          "scatter3d": [
           {
            "line": {
             "colorbar": {
              "outlinewidth": 1,
              "tickcolor": "rgb(36,36,36)",
              "ticks": "outside"
             }
            },
            "marker": {
             "colorbar": {
              "outlinewidth": 1,
              "tickcolor": "rgb(36,36,36)",
              "ticks": "outside"
             }
            },
            "type": "scatter3d"
           }
          ],
          "scattercarpet": [
           {
            "marker": {
             "colorbar": {
              "outlinewidth": 1,
              "tickcolor": "rgb(36,36,36)",
              "ticks": "outside"
             }
            },
            "type": "scattercarpet"
           }
          ],
          "scattergeo": [
           {
            "marker": {
             "colorbar": {
              "outlinewidth": 1,
              "tickcolor": "rgb(36,36,36)",
              "ticks": "outside"
             }
            },
            "type": "scattergeo"
           }
          ],
          "scattergl": [
           {
            "marker": {
             "colorbar": {
              "outlinewidth": 1,
              "tickcolor": "rgb(36,36,36)",
              "ticks": "outside"
             }
            },
            "type": "scattergl"
           }
          ],
          "scattermapbox": [
           {
            "marker": {
             "colorbar": {
              "outlinewidth": 1,
              "tickcolor": "rgb(36,36,36)",
              "ticks": "outside"
             }
            },
            "type": "scattermapbox"
           }
          ],
          "scatterpolar": [
           {
            "marker": {
             "colorbar": {
              "outlinewidth": 1,
              "tickcolor": "rgb(36,36,36)",
              "ticks": "outside"
             }
            },
            "type": "scatterpolar"
           }
          ],
          "scatterpolargl": [
           {
            "marker": {
             "colorbar": {
              "outlinewidth": 1,
              "tickcolor": "rgb(36,36,36)",
              "ticks": "outside"
             }
            },
            "type": "scatterpolargl"
           }
          ],
          "scatterternary": [
           {
            "marker": {
             "colorbar": {
              "outlinewidth": 1,
              "tickcolor": "rgb(36,36,36)",
              "ticks": "outside"
             }
            },
            "type": "scatterternary"
           }
          ],
          "surface": [
           {
            "colorbar": {
             "outlinewidth": 1,
             "tickcolor": "rgb(36,36,36)",
             "ticks": "outside"
            },
            "colorscale": [
             [
              0,
              "#440154"
             ],
             [
              0.1111111111111111,
              "#482878"
             ],
             [
              0.2222222222222222,
              "#3e4989"
             ],
             [
              0.3333333333333333,
              "#31688e"
             ],
             [
              0.4444444444444444,
              "#26828e"
             ],
             [
              0.5555555555555556,
              "#1f9e89"
             ],
             [
              0.6666666666666666,
              "#35b779"
             ],
             [
              0.7777777777777778,
              "#6ece58"
             ],
             [
              0.8888888888888888,
              "#b5de2b"
             ],
             [
              1,
              "#fde725"
             ]
            ],
            "type": "surface"
           }
          ],
          "table": [
           {
            "cells": {
             "fill": {
              "color": "rgb(237,237,237)"
             },
             "line": {
              "color": "white"
             }
            },
            "header": {
             "fill": {
              "color": "rgb(217,217,217)"
             },
             "line": {
              "color": "white"
             }
            },
            "type": "table"
           }
          ]
         },
         "layout": {
          "annotationdefaults": {
           "arrowhead": 0,
           "arrowwidth": 1
          },
          "autotypenumbers": "strict",
          "coloraxis": {
           "colorbar": {
            "outlinewidth": 1,
            "tickcolor": "rgb(36,36,36)",
            "ticks": "outside"
           }
          },
          "colorscale": {
           "diverging": [
            [
             0,
             "rgb(103,0,31)"
            ],
            [
             0.1,
             "rgb(178,24,43)"
            ],
            [
             0.2,
             "rgb(214,96,77)"
            ],
            [
             0.3,
             "rgb(244,165,130)"
            ],
            [
             0.4,
             "rgb(253,219,199)"
            ],
            [
             0.5,
             "rgb(247,247,247)"
            ],
            [
             0.6,
             "rgb(209,229,240)"
            ],
            [
             0.7,
             "rgb(146,197,222)"
            ],
            [
             0.8,
             "rgb(67,147,195)"
            ],
            [
             0.9,
             "rgb(33,102,172)"
            ],
            [
             1,
             "rgb(5,48,97)"
            ]
           ],
           "sequential": [
            [
             0,
             "#440154"
            ],
            [
             0.1111111111111111,
             "#482878"
            ],
            [
             0.2222222222222222,
             "#3e4989"
            ],
            [
             0.3333333333333333,
             "#31688e"
            ],
            [
             0.4444444444444444,
             "#26828e"
            ],
            [
             0.5555555555555556,
             "#1f9e89"
            ],
            [
             0.6666666666666666,
             "#35b779"
            ],
            [
             0.7777777777777778,
             "#6ece58"
            ],
            [
             0.8888888888888888,
             "#b5de2b"
            ],
            [
             1,
             "#fde725"
            ]
           ],
           "sequentialminus": [
            [
             0,
             "#440154"
            ],
            [
             0.1111111111111111,
             "#482878"
            ],
            [
             0.2222222222222222,
             "#3e4989"
            ],
            [
             0.3333333333333333,
             "#31688e"
            ],
            [
             0.4444444444444444,
             "#26828e"
            ],
            [
             0.5555555555555556,
             "#1f9e89"
            ],
            [
             0.6666666666666666,
             "#35b779"
            ],
            [
             0.7777777777777778,
             "#6ece58"
            ],
            [
             0.8888888888888888,
             "#b5de2b"
            ],
            [
             1,
             "#fde725"
            ]
           ]
          },
          "colorway": [
           "#1F77B4",
           "#FF7F0E",
           "#2CA02C",
           "#D62728",
           "#9467BD",
           "#8C564B",
           "#E377C2",
           "#7F7F7F",
           "#BCBD22",
           "#17BECF"
          ],
          "font": {
           "color": "rgb(36,36,36)"
          },
          "geo": {
           "bgcolor": "white",
           "lakecolor": "white",
           "landcolor": "white",
           "showlakes": true,
           "showland": true,
           "subunitcolor": "white"
          },
          "hoverlabel": {
           "align": "left"
          },
          "hovermode": "closest",
          "mapbox": {
           "style": "light"
          },
          "paper_bgcolor": "white",
          "plot_bgcolor": "white",
          "polar": {
           "angularaxis": {
            "gridcolor": "rgb(232,232,232)",
            "linecolor": "rgb(36,36,36)",
            "showgrid": false,
            "showline": true,
            "ticks": "outside"
           },
           "bgcolor": "white",
           "radialaxis": {
            "gridcolor": "rgb(232,232,232)",
            "linecolor": "rgb(36,36,36)",
            "showgrid": false,
            "showline": true,
            "ticks": "outside"
           }
          },
          "scene": {
           "xaxis": {
            "backgroundcolor": "white",
            "gridcolor": "rgb(232,232,232)",
            "gridwidth": 2,
            "linecolor": "rgb(36,36,36)",
            "showbackground": true,
            "showgrid": false,
            "showline": true,
            "ticks": "outside",
            "zeroline": false,
            "zerolinecolor": "rgb(36,36,36)"
           },
           "yaxis": {
            "backgroundcolor": "white",
            "gridcolor": "rgb(232,232,232)",
            "gridwidth": 2,
            "linecolor": "rgb(36,36,36)",
            "showbackground": true,
            "showgrid": false,
            "showline": true,
            "ticks": "outside",
            "zeroline": false,
            "zerolinecolor": "rgb(36,36,36)"
           },
           "zaxis": {
            "backgroundcolor": "white",
            "gridcolor": "rgb(232,232,232)",
            "gridwidth": 2,
            "linecolor": "rgb(36,36,36)",
            "showbackground": true,
            "showgrid": false,
            "showline": true,
            "ticks": "outside",
            "zeroline": false,
            "zerolinecolor": "rgb(36,36,36)"
           }
          },
          "shapedefaults": {
           "fillcolor": "black",
           "line": {
            "width": 0
           },
           "opacity": 0.3
          },
          "ternary": {
           "aaxis": {
            "gridcolor": "rgb(232,232,232)",
            "linecolor": "rgb(36,36,36)",
            "showgrid": false,
            "showline": true,
            "ticks": "outside"
           },
           "baxis": {
            "gridcolor": "rgb(232,232,232)",
            "linecolor": "rgb(36,36,36)",
            "showgrid": false,
            "showline": true,
            "ticks": "outside"
           },
           "bgcolor": "white",
           "caxis": {
            "gridcolor": "rgb(232,232,232)",
            "linecolor": "rgb(36,36,36)",
            "showgrid": false,
            "showline": true,
            "ticks": "outside"
           }
          },
          "title": {
           "x": 0.05
          },
          "xaxis": {
           "automargin": true,
           "gridcolor": "rgb(232,232,232)",
           "linecolor": "rgb(36,36,36)",
           "showgrid": false,
           "showline": true,
           "ticks": "outside",
           "title": {
            "standoff": 15
           },
           "zeroline": false,
           "zerolinecolor": "rgb(36,36,36)"
          },
          "yaxis": {
           "automargin": true,
           "gridcolor": "rgb(232,232,232)",
           "linecolor": "rgb(36,36,36)",
           "showgrid": false,
           "showline": true,
           "ticks": "outside",
           "title": {
            "standoff": 15
           },
           "zeroline": false,
           "zerolinecolor": "rgb(36,36,36)"
          }
         }
        },
        "title": {
         "text": "Old Generality threshold"
        },
        "width": 980,
        "xaxis": {
         "anchor": "y",
         "domain": [
          0,
          1
         ],
         "mirror": true,
         "title": {
          "text": "Generality"
         }
        },
        "yaxis": {
         "anchor": "x",
         "domain": [
          0,
          1
         ],
         "mirror": true,
         "title": {
          "text": "Catalyst"
         }
        }
       }
      }
     },
     "metadata": {},
     "output_type": "display_data"
    }
   ],
   "source": [
    "cats = df_ee['Catalyst_Ar_grp'].unique()\n",
    "cat_list = []\n",
    "gen_list = []\n",
    "cluster_label_list = []\n",
    "cluster_label_ee_list = []\n",
    "for cat in cats:\n",
    "    generality, cluster_labels, cluster_label_ee = calc_generality(df_ee,cat,'Catalyst_Ar_grp','Predicted ee', df_ee['cluster_label'],60)\n",
    "    cat_list.append(cat)\n",
    "    gen_list.append(generality)\n",
    "    cluster_label_list.append(cluster_labels)\n",
    "    cluster_label_ee_list.append(cluster_label_ee)\n",
    "\n",
    "gen = pd.Series(gen_list,cat_list)\n",
    "gen = gen.sort_values(ascending=True)\n",
    "fig = px.bar(x=gen, y=gen.index, title='Old Generality threshold',\n",
    "            labels={'x':'Catalyst Class', 'y':'Generality'},\n",
    "            template='simple_white', orientation='h',\n",
    "            color_discrete_sequence=[px.colors.qualitative.T10[0],\n",
    "            px.colors.qualitative.T10[0],\n",
    "            px.colors.qualitative.T10[4]],\n",
    "            width=980, height=720,\n",
    "                )\n",
    "\n",
    "\n",
    "                \n",
    "\n",
    "\n",
    "fig.update_xaxes(mirror=True)\n",
    "fig.update_yaxes(mirror=True)\n",
    "\n",
    "fig.update_layout(\n",
    "    font_size=12,xaxis_title='Generality', yaxis_title='Catalyst', \n",
    ")\n",
    "\n",
    "fig.update_layout(\n",
    "    legend=dict(\n",
    "        yanchor=\"bottom\",\n",
    "        y=1.01,\n",
    "        xanchor=\"left\",\n",
    "        x=0.01,\n",
    "        orientation='h',\n",
    "    ),\n",
    "    legend_title_text=''\n",
    ")\n",
    "\n",
    "\n",
    "fig.show()"
   ]
  },
  {
   "cell_type": "markdown",
   "metadata": {},
   "source": [
    "# Genrality at different Thresholds"
   ]
  },
  {
   "cell_type": "code",
   "execution_count": 32,
   "metadata": {},
   "outputs": [
    {
     "data": {
      "application/vnd.plotly.v1+json": {
       "config": {
        "plotlyServerURL": "https://plot.ly"
       },
       "data": [
        {
         "hovertemplate": "variable=L15<br>index=%{x}<br>value=%{y}<extra></extra>",
         "legendgroup": "L15",
         "line": {
          "color": "#636efa",
          "dash": "solid"
         },
         "marker": {
          "symbol": "circle"
         },
         "mode": "lines",
         "name": "L15",
         "showlegend": true,
         "type": "scattergl",
         "x": [
          0,
          1,
          2,
          3,
          4,
          5,
          6,
          7,
          8,
          9,
          10,
          11,
          12,
          13,
          14,
          15,
          16,
          17,
          18,
          19,
          20,
          21,
          22,
          23,
          24,
          25,
          26,
          27,
          28,
          29,
          30,
          31,
          32,
          33,
          34,
          35,
          36,
          37,
          38,
          39,
          40,
          41,
          42,
          43,
          44,
          45,
          46,
          47,
          48,
          49,
          50,
          51,
          52,
          53,
          54,
          55,
          56,
          57,
          58,
          59,
          60,
          61,
          62,
          63,
          64,
          65,
          66,
          67,
          68,
          69,
          70,
          71,
          72,
          73,
          74,
          75,
          76,
          77,
          78,
          79,
          80,
          81,
          82,
          83,
          84,
          85,
          86,
          87,
          88,
          89,
          90,
          91,
          92,
          93,
          94,
          95,
          96,
          97,
          98,
          99
         ],
         "xaxis": "x",
         "y": [
          1,
          1,
          1,
          1,
          1,
          1,
          1,
          1,
          1,
          1,
          1,
          1,
          1,
          1,
          1,
          1,
          1,
          1,
          1,
          1,
          1,
          1,
          1,
          1,
          1,
          1,
          1,
          1,
          1,
          0.98,
          0.98,
          0.98,
          0.96,
          0.96,
          0.96,
          0.94,
          0.92,
          0.92,
          0.92,
          0.9,
          0.9,
          0.9,
          0.88,
          0.86,
          0.84,
          0.82,
          0.82,
          0.8,
          0.8,
          0.8,
          0.8,
          0.78,
          0.76,
          0.76,
          0.76,
          0.76,
          0.74,
          0.7,
          0.68,
          0.68,
          0.66,
          0.62,
          0.62,
          0.6,
          0.58,
          0.58,
          0.58,
          0.54,
          0.54,
          0.52,
          0.48,
          0.44,
          0.4,
          0.36,
          0.3,
          0.26,
          0.2,
          0.18,
          0.16,
          0.16,
          0.12,
          0.1,
          0.06,
          0.02,
          0.02,
          0,
          0,
          0,
          0,
          0,
          0,
          0,
          0,
          0,
          0,
          0,
          0,
          0,
          0,
          0
         ],
         "yaxis": "y"
        },
        {
         "hovertemplate": "variable=L12<br>index=%{x}<br>value=%{y}<extra></extra>",
         "legendgroup": "L12",
         "line": {
          "color": "#EF553B",
          "dash": "solid"
         },
         "marker": {
          "symbol": "circle"
         },
         "mode": "lines",
         "name": "L12",
         "showlegend": true,
         "type": "scattergl",
         "x": [
          0,
          1,
          2,
          3,
          4,
          5,
          6,
          7,
          8,
          9,
          10,
          11,
          12,
          13,
          14,
          15,
          16,
          17,
          18,
          19,
          20,
          21,
          22,
          23,
          24,
          25,
          26,
          27,
          28,
          29,
          30,
          31,
          32,
          33,
          34,
          35,
          36,
          37,
          38,
          39,
          40,
          41,
          42,
          43,
          44,
          45,
          46,
          47,
          48,
          49,
          50,
          51,
          52,
          53,
          54,
          55,
          56,
          57,
          58,
          59,
          60,
          61,
          62,
          63,
          64,
          65,
          66,
          67,
          68,
          69,
          70,
          71,
          72,
          73,
          74,
          75,
          76,
          77,
          78,
          79,
          80,
          81,
          82,
          83,
          84,
          85,
          86,
          87,
          88,
          89,
          90,
          91,
          92,
          93,
          94,
          95,
          96,
          97,
          98,
          99
         ],
         "xaxis": "x",
         "y": [
          1,
          1,
          1,
          1,
          1,
          1,
          1,
          1,
          1,
          1,
          1,
          1,
          1,
          1,
          1,
          1,
          1,
          1,
          1,
          1,
          1,
          1,
          1,
          1,
          1,
          1,
          1,
          0.98,
          0.98,
          0.98,
          0.98,
          0.96,
          0.96,
          0.96,
          0.96,
          0.96,
          0.96,
          0.96,
          0.96,
          0.96,
          0.94,
          0.92,
          0.92,
          0.9,
          0.9,
          0.9,
          0.9,
          0.88,
          0.86,
          0.86,
          0.84,
          0.84,
          0.84,
          0.82,
          0.82,
          0.78,
          0.76,
          0.72,
          0.7,
          0.7,
          0.68,
          0.68,
          0.68,
          0.66,
          0.66,
          0.64,
          0.6,
          0.6,
          0.6,
          0.56,
          0.56,
          0.56,
          0.56,
          0.54,
          0.5,
          0.44,
          0.4,
          0.4,
          0.38,
          0.3,
          0.3,
          0.24,
          0.2,
          0.12,
          0.08,
          0.08,
          0.06,
          0.06,
          0.04,
          0.04,
          0,
          0,
          0,
          0,
          0,
          0,
          0,
          0,
          0,
          0
         ],
         "yaxis": "y"
        },
        {
         "hovertemplate": "variable=L4<br>index=%{x}<br>value=%{y}<extra></extra>",
         "legendgroup": "L4",
         "line": {
          "color": "#00cc96",
          "dash": "solid"
         },
         "marker": {
          "symbol": "circle"
         },
         "mode": "lines",
         "name": "L4",
         "showlegend": true,
         "type": "scattergl",
         "x": [
          0,
          1,
          2,
          3,
          4,
          5,
          6,
          7,
          8,
          9,
          10,
          11,
          12,
          13,
          14,
          15,
          16,
          17,
          18,
          19,
          20,
          21,
          22,
          23,
          24,
          25,
          26,
          27,
          28,
          29,
          30,
          31,
          32,
          33,
          34,
          35,
          36,
          37,
          38,
          39,
          40,
          41,
          42,
          43,
          44,
          45,
          46,
          47,
          48,
          49,
          50,
          51,
          52,
          53,
          54,
          55,
          56,
          57,
          58,
          59,
          60,
          61,
          62,
          63,
          64,
          65,
          66,
          67,
          68,
          69,
          70,
          71,
          72,
          73,
          74,
          75,
          76,
          77,
          78,
          79,
          80,
          81,
          82,
          83,
          84,
          85,
          86,
          87,
          88,
          89,
          90,
          91,
          92,
          93,
          94,
          95,
          96,
          97,
          98,
          99
         ],
         "xaxis": "x",
         "y": [
          1,
          1,
          1,
          1,
          1,
          1,
          1,
          1,
          1,
          1,
          1,
          1,
          1,
          1,
          1,
          1,
          1,
          1,
          1,
          1,
          1,
          1,
          1,
          1,
          1,
          1,
          0.98,
          0.98,
          0.98,
          0.98,
          0.98,
          0.98,
          0.98,
          0.98,
          0.98,
          0.96,
          0.96,
          0.96,
          0.96,
          0.94,
          0.94,
          0.94,
          0.92,
          0.92,
          0.88,
          0.86,
          0.86,
          0.86,
          0.84,
          0.84,
          0.78,
          0.78,
          0.76,
          0.74,
          0.72,
          0.7,
          0.64,
          0.56,
          0.52,
          0.42,
          0.38,
          0.34,
          0.3,
          0.28,
          0.24,
          0.22,
          0.22,
          0.22,
          0.16,
          0.14,
          0.12,
          0.1,
          0.08,
          0.08,
          0.08,
          0.06,
          0.04,
          0.02,
          0.02,
          0.02,
          0,
          0,
          0,
          0,
          0,
          0,
          0,
          0,
          0,
          0,
          0,
          0,
          0,
          0,
          0,
          0,
          0,
          0,
          0,
          0
         ],
         "yaxis": "y"
        },
        {
         "hovertemplate": "variable=L8<br>index=%{x}<br>value=%{y}<extra></extra>",
         "legendgroup": "L8",
         "line": {
          "color": "#ab63fa",
          "dash": "solid"
         },
         "marker": {
          "symbol": "circle"
         },
         "mode": "lines",
         "name": "L8",
         "showlegend": true,
         "type": "scattergl",
         "x": [
          0,
          1,
          2,
          3,
          4,
          5,
          6,
          7,
          8,
          9,
          10,
          11,
          12,
          13,
          14,
          15,
          16,
          17,
          18,
          19,
          20,
          21,
          22,
          23,
          24,
          25,
          26,
          27,
          28,
          29,
          30,
          31,
          32,
          33,
          34,
          35,
          36,
          37,
          38,
          39,
          40,
          41,
          42,
          43,
          44,
          45,
          46,
          47,
          48,
          49,
          50,
          51,
          52,
          53,
          54,
          55,
          56,
          57,
          58,
          59,
          60,
          61,
          62,
          63,
          64,
          65,
          66,
          67,
          68,
          69,
          70,
          71,
          72,
          73,
          74,
          75,
          76,
          77,
          78,
          79,
          80,
          81,
          82,
          83,
          84,
          85,
          86,
          87,
          88,
          89,
          90,
          91,
          92,
          93,
          94,
          95,
          96,
          97,
          98,
          99
         ],
         "xaxis": "x",
         "y": [
          1,
          1,
          1,
          1,
          1,
          1,
          1,
          1,
          1,
          1,
          1,
          1,
          1,
          1,
          1,
          1,
          1,
          1,
          1,
          1,
          1,
          1,
          1,
          1,
          1,
          1,
          1,
          1,
          1,
          1,
          1,
          0.98,
          0.98,
          0.98,
          0.96,
          0.96,
          0.96,
          0.96,
          0.96,
          0.96,
          0.96,
          0.96,
          0.96,
          0.96,
          0.96,
          0.96,
          0.96,
          0.92,
          0.92,
          0.92,
          0.9,
          0.88,
          0.86,
          0.86,
          0.8,
          0.76,
          0.72,
          0.62,
          0.6,
          0.58,
          0.54,
          0.54,
          0.48,
          0.46,
          0.44,
          0.42,
          0.38,
          0.34,
          0.28,
          0.28,
          0.26,
          0.22,
          0.16,
          0.14,
          0.1,
          0.1,
          0.1,
          0.1,
          0.1,
          0.08,
          0.06,
          0.06,
          0.06,
          0.04,
          0.02,
          0.02,
          0.02,
          0.02,
          0.02,
          0,
          0,
          0,
          0,
          0,
          0,
          0,
          0,
          0,
          0,
          0
         ],
         "yaxis": "y"
        },
        {
         "hovertemplate": "variable=L10<br>index=%{x}<br>value=%{y}<extra></extra>",
         "legendgroup": "L10",
         "line": {
          "color": "#FFA15A",
          "dash": "solid"
         },
         "marker": {
          "symbol": "circle"
         },
         "mode": "lines",
         "name": "L10",
         "showlegend": true,
         "type": "scattergl",
         "x": [
          0,
          1,
          2,
          3,
          4,
          5,
          6,
          7,
          8,
          9,
          10,
          11,
          12,
          13,
          14,
          15,
          16,
          17,
          18,
          19,
          20,
          21,
          22,
          23,
          24,
          25,
          26,
          27,
          28,
          29,
          30,
          31,
          32,
          33,
          34,
          35,
          36,
          37,
          38,
          39,
          40,
          41,
          42,
          43,
          44,
          45,
          46,
          47,
          48,
          49,
          50,
          51,
          52,
          53,
          54,
          55,
          56,
          57,
          58,
          59,
          60,
          61,
          62,
          63,
          64,
          65,
          66,
          67,
          68,
          69,
          70,
          71,
          72,
          73,
          74,
          75,
          76,
          77,
          78,
          79,
          80,
          81,
          82,
          83,
          84,
          85,
          86,
          87,
          88,
          89,
          90,
          91,
          92,
          93,
          94,
          95,
          96,
          97,
          98,
          99
         ],
         "xaxis": "x",
         "y": [
          1,
          1,
          1,
          1,
          1,
          1,
          1,
          1,
          1,
          1,
          1,
          1,
          1,
          1,
          1,
          1,
          1,
          1,
          1,
          1,
          1,
          0.98,
          0.98,
          0.98,
          0.98,
          0.98,
          0.98,
          0.98,
          0.98,
          0.98,
          0.96,
          0.96,
          0.96,
          0.94,
          0.94,
          0.92,
          0.92,
          0.92,
          0.92,
          0.92,
          0.92,
          0.92,
          0.92,
          0.92,
          0.92,
          0.92,
          0.92,
          0.84,
          0.84,
          0.84,
          0.84,
          0.84,
          0.8,
          0.78,
          0.78,
          0.78,
          0.78,
          0.78,
          0.78,
          0.78,
          0.78,
          0.72,
          0.68,
          0.68,
          0.68,
          0.66,
          0.66,
          0.62,
          0.62,
          0.62,
          0.62,
          0.58,
          0.56,
          0.54,
          0.52,
          0.5,
          0.48,
          0.46,
          0.46,
          0.42,
          0.42,
          0.4,
          0.4,
          0.38,
          0.36,
          0.34,
          0.34,
          0.32,
          0.3,
          0.24,
          0.2,
          0.12,
          0.06,
          0.02,
          0,
          0,
          0,
          0,
          0,
          0
         ],
         "yaxis": "y"
        },
        {
         "hovertemplate": "variable=L2<br>index=%{x}<br>value=%{y}<extra></extra>",
         "legendgroup": "L2",
         "line": {
          "color": "#19d3f3",
          "dash": "solid"
         },
         "marker": {
          "symbol": "circle"
         },
         "mode": "lines",
         "name": "L2",
         "showlegend": true,
         "type": "scattergl",
         "x": [
          0,
          1,
          2,
          3,
          4,
          5,
          6,
          7,
          8,
          9,
          10,
          11,
          12,
          13,
          14,
          15,
          16,
          17,
          18,
          19,
          20,
          21,
          22,
          23,
          24,
          25,
          26,
          27,
          28,
          29,
          30,
          31,
          32,
          33,
          34,
          35,
          36,
          37,
          38,
          39,
          40,
          41,
          42,
          43,
          44,
          45,
          46,
          47,
          48,
          49,
          50,
          51,
          52,
          53,
          54,
          55,
          56,
          57,
          58,
          59,
          60,
          61,
          62,
          63,
          64,
          65,
          66,
          67,
          68,
          69,
          70,
          71,
          72,
          73,
          74,
          75,
          76,
          77,
          78,
          79,
          80,
          81,
          82,
          83,
          84,
          85,
          86,
          87,
          88,
          89,
          90,
          91,
          92,
          93,
          94,
          95,
          96,
          97,
          98,
          99
         ],
         "xaxis": "x",
         "y": [
          1,
          1,
          1,
          1,
          1,
          1,
          1,
          1,
          1,
          1,
          1,
          1,
          1,
          1,
          1,
          1,
          1,
          1,
          1,
          1,
          1,
          1,
          1,
          0.98,
          0.98,
          0.98,
          0.98,
          0.98,
          0.98,
          0.98,
          0.94,
          0.94,
          0.9,
          0.9,
          0.9,
          0.9,
          0.86,
          0.82,
          0.82,
          0.82,
          0.8,
          0.78,
          0.76,
          0.76,
          0.74,
          0.72,
          0.7,
          0.68,
          0.68,
          0.68,
          0.68,
          0.66,
          0.66,
          0.64,
          0.6,
          0.58,
          0.54,
          0.52,
          0.46,
          0.34,
          0.32,
          0.3,
          0.24,
          0.2,
          0.2,
          0.16,
          0.16,
          0.14,
          0.1,
          0.08,
          0.06,
          0.06,
          0.06,
          0.06,
          0.02,
          0,
          0,
          0,
          0,
          0,
          0,
          0,
          0,
          0,
          0,
          0,
          0,
          0,
          0,
          0,
          0,
          0,
          0,
          0,
          0,
          0,
          0,
          0,
          0,
          0
         ],
         "yaxis": "y"
        },
        {
         "hovertemplate": "variable=L1<br>index=%{x}<br>value=%{y}<extra></extra>",
         "legendgroup": "L1",
         "line": {
          "color": "#FF6692",
          "dash": "solid"
         },
         "marker": {
          "symbol": "circle"
         },
         "mode": "lines",
         "name": "L1",
         "showlegend": true,
         "type": "scattergl",
         "x": [
          0,
          1,
          2,
          3,
          4,
          5,
          6,
          7,
          8,
          9,
          10,
          11,
          12,
          13,
          14,
          15,
          16,
          17,
          18,
          19,
          20,
          21,
          22,
          23,
          24,
          25,
          26,
          27,
          28,
          29,
          30,
          31,
          32,
          33,
          34,
          35,
          36,
          37,
          38,
          39,
          40,
          41,
          42,
          43,
          44,
          45,
          46,
          47,
          48,
          49,
          50,
          51,
          52,
          53,
          54,
          55,
          56,
          57,
          58,
          59,
          60,
          61,
          62,
          63,
          64,
          65,
          66,
          67,
          68,
          69,
          70,
          71,
          72,
          73,
          74,
          75,
          76,
          77,
          78,
          79,
          80,
          81,
          82,
          83,
          84,
          85,
          86,
          87,
          88,
          89,
          90,
          91,
          92,
          93,
          94,
          95,
          96,
          97,
          98,
          99
         ],
         "xaxis": "x",
         "y": [
          1,
          1,
          1,
          1,
          1,
          1,
          1,
          1,
          1,
          1,
          1,
          1,
          1,
          1,
          1,
          1,
          1,
          1,
          1,
          1,
          1,
          1,
          1,
          0.98,
          0.98,
          0.98,
          0.98,
          0.98,
          0.98,
          0.98,
          0.98,
          0.98,
          0.98,
          0.98,
          0.98,
          0.94,
          0.94,
          0.94,
          0.94,
          0.9,
          0.88,
          0.88,
          0.88,
          0.84,
          0.84,
          0.82,
          0.82,
          0.82,
          0.78,
          0.78,
          0.76,
          0.72,
          0.64,
          0.6,
          0.56,
          0.48,
          0.36,
          0.34,
          0.3,
          0.24,
          0.24,
          0.22,
          0.18,
          0.18,
          0.16,
          0.14,
          0.14,
          0.14,
          0.12,
          0.1,
          0.08,
          0.08,
          0.08,
          0.08,
          0.02,
          0.02,
          0.02,
          0,
          0,
          0,
          0,
          0,
          0,
          0,
          0,
          0,
          0,
          0,
          0,
          0,
          0,
          0,
          0,
          0,
          0,
          0,
          0,
          0,
          0,
          0
         ],
         "yaxis": "y"
        },
        {
         "hovertemplate": "variable=L13<br>index=%{x}<br>value=%{y}<extra></extra>",
         "legendgroup": "L13",
         "line": {
          "color": "#B6E880",
          "dash": "solid"
         },
         "marker": {
          "symbol": "circle"
         },
         "mode": "lines",
         "name": "L13",
         "showlegend": true,
         "type": "scattergl",
         "x": [
          0,
          1,
          2,
          3,
          4,
          5,
          6,
          7,
          8,
          9,
          10,
          11,
          12,
          13,
          14,
          15,
          16,
          17,
          18,
          19,
          20,
          21,
          22,
          23,
          24,
          25,
          26,
          27,
          28,
          29,
          30,
          31,
          32,
          33,
          34,
          35,
          36,
          37,
          38,
          39,
          40,
          41,
          42,
          43,
          44,
          45,
          46,
          47,
          48,
          49,
          50,
          51,
          52,
          53,
          54,
          55,
          56,
          57,
          58,
          59,
          60,
          61,
          62,
          63,
          64,
          65,
          66,
          67,
          68,
          69,
          70,
          71,
          72,
          73,
          74,
          75,
          76,
          77,
          78,
          79,
          80,
          81,
          82,
          83,
          84,
          85,
          86,
          87,
          88,
          89,
          90,
          91,
          92,
          93,
          94,
          95,
          96,
          97,
          98,
          99
         ],
         "xaxis": "x",
         "y": [
          1,
          1,
          1,
          1,
          1,
          1,
          1,
          1,
          1,
          1,
          1,
          1,
          1,
          1,
          1,
          1,
          1,
          1,
          1,
          1,
          1,
          1,
          1,
          1,
          1,
          1,
          1,
          1,
          1,
          1,
          1,
          1,
          0.96,
          0.94,
          0.94,
          0.94,
          0.92,
          0.92,
          0.9,
          0.88,
          0.88,
          0.88,
          0.86,
          0.84,
          0.84,
          0.82,
          0.8,
          0.76,
          0.76,
          0.76,
          0.76,
          0.74,
          0.68,
          0.62,
          0.5,
          0.5,
          0.46,
          0.42,
          0.4,
          0.32,
          0.3,
          0.28,
          0.24,
          0.22,
          0.18,
          0.16,
          0.16,
          0.14,
          0.14,
          0.12,
          0.12,
          0.08,
          0.06,
          0.06,
          0.04,
          0.04,
          0.04,
          0.04,
          0.04,
          0.02,
          0.02,
          0.02,
          0.02,
          0,
          0,
          0,
          0,
          0,
          0,
          0,
          0,
          0,
          0,
          0,
          0,
          0,
          0,
          0,
          0,
          0
         ],
         "yaxis": "y"
        },
        {
         "hovertemplate": "variable=L11<br>index=%{x}<br>value=%{y}<extra></extra>",
         "legendgroup": "L11",
         "line": {
          "color": "#FF97FF",
          "dash": "solid"
         },
         "marker": {
          "symbol": "circle"
         },
         "mode": "lines",
         "name": "L11",
         "showlegend": true,
         "type": "scattergl",
         "x": [
          0,
          1,
          2,
          3,
          4,
          5,
          6,
          7,
          8,
          9,
          10,
          11,
          12,
          13,
          14,
          15,
          16,
          17,
          18,
          19,
          20,
          21,
          22,
          23,
          24,
          25,
          26,
          27,
          28,
          29,
          30,
          31,
          32,
          33,
          34,
          35,
          36,
          37,
          38,
          39,
          40,
          41,
          42,
          43,
          44,
          45,
          46,
          47,
          48,
          49,
          50,
          51,
          52,
          53,
          54,
          55,
          56,
          57,
          58,
          59,
          60,
          61,
          62,
          63,
          64,
          65,
          66,
          67,
          68,
          69,
          70,
          71,
          72,
          73,
          74,
          75,
          76,
          77,
          78,
          79,
          80,
          81,
          82,
          83,
          84,
          85,
          86,
          87,
          88,
          89,
          90,
          91,
          92,
          93,
          94,
          95,
          96,
          97,
          98,
          99
         ],
         "xaxis": "x",
         "y": [
          1,
          1,
          1,
          1,
          1,
          1,
          1,
          1,
          1,
          1,
          1,
          1,
          1,
          1,
          1,
          1,
          1,
          1,
          1,
          1,
          1,
          1,
          1,
          1,
          1,
          1,
          1,
          1,
          1,
          1,
          1,
          1,
          0.98,
          0.98,
          0.98,
          0.98,
          0.98,
          0.98,
          0.98,
          0.98,
          0.98,
          0.98,
          0.98,
          0.98,
          0.98,
          0.96,
          0.96,
          0.96,
          0.96,
          0.94,
          0.94,
          0.92,
          0.9,
          0.88,
          0.88,
          0.86,
          0.86,
          0.86,
          0.84,
          0.82,
          0.8,
          0.8,
          0.8,
          0.78,
          0.76,
          0.74,
          0.74,
          0.74,
          0.7,
          0.66,
          0.64,
          0.64,
          0.6,
          0.58,
          0.58,
          0.54,
          0.52,
          0.46,
          0.46,
          0.42,
          0.38,
          0.34,
          0.22,
          0.2,
          0.14,
          0.1,
          0.1,
          0.04,
          0.04,
          0.02,
          0,
          0,
          0,
          0,
          0,
          0,
          0,
          0,
          0,
          0
         ],
         "yaxis": "y"
        },
        {
         "hovertemplate": "variable=L5<br>index=%{x}<br>value=%{y}<extra></extra>",
         "legendgroup": "L5",
         "line": {
          "color": "#FECB52",
          "dash": "solid"
         },
         "marker": {
          "symbol": "circle"
         },
         "mode": "lines",
         "name": "L5",
         "showlegend": true,
         "type": "scattergl",
         "x": [
          0,
          1,
          2,
          3,
          4,
          5,
          6,
          7,
          8,
          9,
          10,
          11,
          12,
          13,
          14,
          15,
          16,
          17,
          18,
          19,
          20,
          21,
          22,
          23,
          24,
          25,
          26,
          27,
          28,
          29,
          30,
          31,
          32,
          33,
          34,
          35,
          36,
          37,
          38,
          39,
          40,
          41,
          42,
          43,
          44,
          45,
          46,
          47,
          48,
          49,
          50,
          51,
          52,
          53,
          54,
          55,
          56,
          57,
          58,
          59,
          60,
          61,
          62,
          63,
          64,
          65,
          66,
          67,
          68,
          69,
          70,
          71,
          72,
          73,
          74,
          75,
          76,
          77,
          78,
          79,
          80,
          81,
          82,
          83,
          84,
          85,
          86,
          87,
          88,
          89,
          90,
          91,
          92,
          93,
          94,
          95,
          96,
          97,
          98,
          99
         ],
         "xaxis": "x",
         "y": [
          1,
          1,
          1,
          1,
          1,
          1,
          1,
          1,
          1,
          1,
          1,
          1,
          1,
          1,
          1,
          1,
          1,
          1,
          1,
          1,
          1,
          1,
          1,
          1,
          1,
          1,
          1,
          1,
          0.98,
          0.98,
          0.98,
          0.98,
          0.98,
          0.98,
          0.98,
          0.96,
          0.96,
          0.96,
          0.96,
          0.96,
          0.96,
          0.94,
          0.92,
          0.92,
          0.88,
          0.84,
          0.78,
          0.78,
          0.78,
          0.78,
          0.78,
          0.72,
          0.72,
          0.7,
          0.68,
          0.66,
          0.64,
          0.64,
          0.58,
          0.54,
          0.48,
          0.42,
          0.34,
          0.3,
          0.24,
          0.22,
          0.2,
          0.2,
          0.16,
          0.14,
          0.14,
          0.08,
          0.06,
          0.06,
          0.04,
          0.02,
          0.02,
          0.02,
          0.02,
          0.02,
          0.02,
          0.02,
          0,
          0,
          0,
          0,
          0,
          0,
          0,
          0,
          0,
          0,
          0,
          0,
          0,
          0,
          0,
          0,
          0,
          0
         ],
         "yaxis": "y"
        },
        {
         "hovertemplate": "variable=L14<br>index=%{x}<br>value=%{y}<extra></extra>",
         "legendgroup": "L14",
         "line": {
          "color": "#636efa",
          "dash": "solid"
         },
         "marker": {
          "symbol": "circle"
         },
         "mode": "lines",
         "name": "L14",
         "showlegend": true,
         "type": "scattergl",
         "x": [
          0,
          1,
          2,
          3,
          4,
          5,
          6,
          7,
          8,
          9,
          10,
          11,
          12,
          13,
          14,
          15,
          16,
          17,
          18,
          19,
          20,
          21,
          22,
          23,
          24,
          25,
          26,
          27,
          28,
          29,
          30,
          31,
          32,
          33,
          34,
          35,
          36,
          37,
          38,
          39,
          40,
          41,
          42,
          43,
          44,
          45,
          46,
          47,
          48,
          49,
          50,
          51,
          52,
          53,
          54,
          55,
          56,
          57,
          58,
          59,
          60,
          61,
          62,
          63,
          64,
          65,
          66,
          67,
          68,
          69,
          70,
          71,
          72,
          73,
          74,
          75,
          76,
          77,
          78,
          79,
          80,
          81,
          82,
          83,
          84,
          85,
          86,
          87,
          88,
          89,
          90,
          91,
          92,
          93,
          94,
          95,
          96,
          97,
          98,
          99
         ],
         "xaxis": "x",
         "y": [
          1,
          1,
          1,
          1,
          1,
          1,
          1,
          1,
          1,
          1,
          1,
          1,
          1,
          1,
          1,
          1,
          1,
          1,
          1,
          1,
          1,
          1,
          1,
          1,
          1,
          1,
          1,
          1,
          1,
          1,
          1,
          1,
          1,
          1,
          1,
          1,
          1,
          1,
          1,
          1,
          1,
          1,
          1,
          0.98,
          0.98,
          0.98,
          0.98,
          0.98,
          0.98,
          0.98,
          0.98,
          0.96,
          0.96,
          0.96,
          0.96,
          0.96,
          0.96,
          0.94,
          0.94,
          0.92,
          0.92,
          0.92,
          0.92,
          0.92,
          0.9,
          0.88,
          0.84,
          0.84,
          0.82,
          0.8,
          0.8,
          0.8,
          0.8,
          0.8,
          0.8,
          0.8,
          0.78,
          0.78,
          0.78,
          0.72,
          0.68,
          0.66,
          0.62,
          0.62,
          0.58,
          0.56,
          0.52,
          0.52,
          0.52,
          0.44,
          0.4,
          0.3,
          0.28,
          0.12,
          0.02,
          0,
          0,
          0,
          0,
          0
         ],
         "yaxis": "y"
        },
        {
         "hovertemplate": "variable=L6<br>index=%{x}<br>value=%{y}<extra></extra>",
         "legendgroup": "L6",
         "line": {
          "color": "#EF553B",
          "dash": "solid"
         },
         "marker": {
          "symbol": "circle"
         },
         "mode": "lines",
         "name": "L6",
         "showlegend": true,
         "type": "scattergl",
         "x": [
          0,
          1,
          2,
          3,
          4,
          5,
          6,
          7,
          8,
          9,
          10,
          11,
          12,
          13,
          14,
          15,
          16,
          17,
          18,
          19,
          20,
          21,
          22,
          23,
          24,
          25,
          26,
          27,
          28,
          29,
          30,
          31,
          32,
          33,
          34,
          35,
          36,
          37,
          38,
          39,
          40,
          41,
          42,
          43,
          44,
          45,
          46,
          47,
          48,
          49,
          50,
          51,
          52,
          53,
          54,
          55,
          56,
          57,
          58,
          59,
          60,
          61,
          62,
          63,
          64,
          65,
          66,
          67,
          68,
          69,
          70,
          71,
          72,
          73,
          74,
          75,
          76,
          77,
          78,
          79,
          80,
          81,
          82,
          83,
          84,
          85,
          86,
          87,
          88,
          89,
          90,
          91,
          92,
          93,
          94,
          95,
          96,
          97,
          98,
          99
         ],
         "xaxis": "x",
         "y": [
          1,
          1,
          1,
          1,
          1,
          1,
          1,
          1,
          1,
          1,
          1,
          1,
          1,
          1,
          1,
          1,
          1,
          1,
          1,
          1,
          1,
          1,
          1,
          1,
          1,
          1,
          1,
          1,
          1,
          0.98,
          0.98,
          0.96,
          0.96,
          0.96,
          0.94,
          0.92,
          0.92,
          0.92,
          0.92,
          0.92,
          0.88,
          0.82,
          0.82,
          0.82,
          0.82,
          0.82,
          0.8,
          0.78,
          0.74,
          0.74,
          0.74,
          0.72,
          0.72,
          0.7,
          0.7,
          0.66,
          0.64,
          0.6,
          0.52,
          0.46,
          0.46,
          0.34,
          0.32,
          0.3,
          0.24,
          0.18,
          0.18,
          0.18,
          0.18,
          0.12,
          0.12,
          0.08,
          0.08,
          0.06,
          0.04,
          0.04,
          0.02,
          0.02,
          0,
          0,
          0,
          0,
          0,
          0,
          0,
          0,
          0,
          0,
          0,
          0,
          0,
          0,
          0,
          0,
          0,
          0,
          0,
          0,
          0,
          0
         ],
         "yaxis": "y"
        },
        {
         "hovertemplate": "variable=L7<br>index=%{x}<br>value=%{y}<extra></extra>",
         "legendgroup": "L7",
         "line": {
          "color": "#00cc96",
          "dash": "solid"
         },
         "marker": {
          "symbol": "circle"
         },
         "mode": "lines",
         "name": "L7",
         "showlegend": true,
         "type": "scattergl",
         "x": [
          0,
          1,
          2,
          3,
          4,
          5,
          6,
          7,
          8,
          9,
          10,
          11,
          12,
          13,
          14,
          15,
          16,
          17,
          18,
          19,
          20,
          21,
          22,
          23,
          24,
          25,
          26,
          27,
          28,
          29,
          30,
          31,
          32,
          33,
          34,
          35,
          36,
          37,
          38,
          39,
          40,
          41,
          42,
          43,
          44,
          45,
          46,
          47,
          48,
          49,
          50,
          51,
          52,
          53,
          54,
          55,
          56,
          57,
          58,
          59,
          60,
          61,
          62,
          63,
          64,
          65,
          66,
          67,
          68,
          69,
          70,
          71,
          72,
          73,
          74,
          75,
          76,
          77,
          78,
          79,
          80,
          81,
          82,
          83,
          84,
          85,
          86,
          87,
          88,
          89,
          90,
          91,
          92,
          93,
          94,
          95,
          96,
          97,
          98,
          99
         ],
         "xaxis": "x",
         "y": [
          1,
          1,
          1,
          1,
          1,
          1,
          1,
          1,
          1,
          1,
          1,
          1,
          1,
          1,
          1,
          1,
          1,
          1,
          1,
          1,
          1,
          1,
          1,
          1,
          1,
          1,
          0.98,
          0.98,
          0.98,
          0.98,
          0.98,
          0.98,
          0.98,
          0.96,
          0.94,
          0.94,
          0.9,
          0.9,
          0.9,
          0.9,
          0.9,
          0.88,
          0.88,
          0.88,
          0.86,
          0.84,
          0.84,
          0.82,
          0.8,
          0.78,
          0.76,
          0.76,
          0.76,
          0.76,
          0.76,
          0.72,
          0.7,
          0.7,
          0.7,
          0.68,
          0.66,
          0.66,
          0.64,
          0.64,
          0.62,
          0.62,
          0.6,
          0.58,
          0.52,
          0.52,
          0.46,
          0.44,
          0.42,
          0.38,
          0.26,
          0.2,
          0.2,
          0.16,
          0.14,
          0.14,
          0.12,
          0.1,
          0.06,
          0.06,
          0.04,
          0.02,
          0,
          0,
          0,
          0,
          0,
          0,
          0,
          0,
          0,
          0,
          0,
          0,
          0,
          0
         ],
         "yaxis": "y"
        },
        {
         "hovertemplate": "variable=L16<br>index=%{x}<br>value=%{y}<extra></extra>",
         "legendgroup": "L16",
         "line": {
          "color": "#ab63fa",
          "dash": "solid"
         },
         "marker": {
          "symbol": "circle"
         },
         "mode": "lines",
         "name": "L16",
         "showlegend": true,
         "type": "scattergl",
         "x": [
          0,
          1,
          2,
          3,
          4,
          5,
          6,
          7,
          8,
          9,
          10,
          11,
          12,
          13,
          14,
          15,
          16,
          17,
          18,
          19,
          20,
          21,
          22,
          23,
          24,
          25,
          26,
          27,
          28,
          29,
          30,
          31,
          32,
          33,
          34,
          35,
          36,
          37,
          38,
          39,
          40,
          41,
          42,
          43,
          44,
          45,
          46,
          47,
          48,
          49,
          50,
          51,
          52,
          53,
          54,
          55,
          56,
          57,
          58,
          59,
          60,
          61,
          62,
          63,
          64,
          65,
          66,
          67,
          68,
          69,
          70,
          71,
          72,
          73,
          74,
          75,
          76,
          77,
          78,
          79,
          80,
          81,
          82,
          83,
          84,
          85,
          86,
          87,
          88,
          89,
          90,
          91,
          92,
          93,
          94,
          95,
          96,
          97,
          98,
          99
         ],
         "xaxis": "x",
         "y": [
          1,
          1,
          1,
          1,
          1,
          1,
          1,
          1,
          1,
          1,
          1,
          1,
          1,
          1,
          1,
          1,
          1,
          1,
          1,
          1,
          1,
          1,
          1,
          1,
          1,
          1,
          1,
          1,
          1,
          0.98,
          0.98,
          0.98,
          0.98,
          0.98,
          0.98,
          0.98,
          0.98,
          0.98,
          0.98,
          0.98,
          0.98,
          0.98,
          0.98,
          0.96,
          0.94,
          0.94,
          0.92,
          0.9,
          0.9,
          0.88,
          0.86,
          0.86,
          0.8,
          0.8,
          0.8,
          0.8,
          0.76,
          0.74,
          0.74,
          0.74,
          0.74,
          0.7,
          0.66,
          0.66,
          0.66,
          0.66,
          0.64,
          0.6,
          0.56,
          0.52,
          0.5,
          0.46,
          0.38,
          0.34,
          0.28,
          0.26,
          0.26,
          0.22,
          0.16,
          0.14,
          0.12,
          0.1,
          0.06,
          0.04,
          0.04,
          0.02,
          0,
          0,
          0,
          0,
          0,
          0,
          0,
          0,
          0,
          0,
          0,
          0,
          0,
          0
         ],
         "yaxis": "y"
        },
        {
         "hovertemplate": "variable=L9<br>index=%{x}<br>value=%{y}<extra></extra>",
         "legendgroup": "L9",
         "line": {
          "color": "#FFA15A",
          "dash": "solid"
         },
         "marker": {
          "symbol": "circle"
         },
         "mode": "lines",
         "name": "L9",
         "showlegend": true,
         "type": "scattergl",
         "x": [
          0,
          1,
          2,
          3,
          4,
          5,
          6,
          7,
          8,
          9,
          10,
          11,
          12,
          13,
          14,
          15,
          16,
          17,
          18,
          19,
          20,
          21,
          22,
          23,
          24,
          25,
          26,
          27,
          28,
          29,
          30,
          31,
          32,
          33,
          34,
          35,
          36,
          37,
          38,
          39,
          40,
          41,
          42,
          43,
          44,
          45,
          46,
          47,
          48,
          49,
          50,
          51,
          52,
          53,
          54,
          55,
          56,
          57,
          58,
          59,
          60,
          61,
          62,
          63,
          64,
          65,
          66,
          67,
          68,
          69,
          70,
          71,
          72,
          73,
          74,
          75,
          76,
          77,
          78,
          79,
          80,
          81,
          82,
          83,
          84,
          85,
          86,
          87,
          88,
          89,
          90,
          91,
          92,
          93,
          94,
          95,
          96,
          97,
          98,
          99
         ],
         "xaxis": "x",
         "y": [
          1,
          1,
          1,
          1,
          1,
          1,
          1,
          1,
          1,
          1,
          1,
          1,
          1,
          1,
          1,
          1,
          1,
          1,
          1,
          1,
          1,
          1,
          1,
          1,
          1,
          1,
          1,
          1,
          1,
          1,
          1,
          1,
          1,
          1,
          1,
          1,
          1,
          0.98,
          0.98,
          0.98,
          0.98,
          0.96,
          0.96,
          0.96,
          0.96,
          0.96,
          0.96,
          0.96,
          0.96,
          0.96,
          0.92,
          0.92,
          0.9,
          0.88,
          0.86,
          0.86,
          0.86,
          0.84,
          0.82,
          0.76,
          0.76,
          0.74,
          0.74,
          0.7,
          0.68,
          0.66,
          0.66,
          0.66,
          0.6,
          0.54,
          0.48,
          0.38,
          0.34,
          0.34,
          0.3,
          0.3,
          0.28,
          0.26,
          0.24,
          0.2,
          0.2,
          0.18,
          0.14,
          0.12,
          0.08,
          0.08,
          0.08,
          0.08,
          0.04,
          0.02,
          0.02,
          0.02,
          0.02,
          0.02,
          0,
          0,
          0,
          0,
          0,
          0
         ],
         "yaxis": "y"
        }
       ],
       "layout": {
        "height": 720,
        "legend": {
         "title": {},
         "tracegroupgap": 0
        },
        "margin": {
         "t": 60
        },
        "template": {
         "data": {
          "bar": [
           {
            "error_x": {
             "color": "rgb(36,36,36)"
            },
            "error_y": {
             "color": "rgb(36,36,36)"
            },
            "marker": {
             "line": {
              "color": "white",
              "width": 0.5
             },
             "pattern": {
              "fillmode": "overlay",
              "size": 10,
              "solidity": 0.2
             }
            },
            "type": "bar"
           }
          ],
          "barpolar": [
           {
            "marker": {
             "line": {
              "color": "white",
              "width": 0.5
             },
             "pattern": {
              "fillmode": "overlay",
              "size": 10,
              "solidity": 0.2
             }
            },
            "type": "barpolar"
           }
          ],
          "carpet": [
           {
            "aaxis": {
             "endlinecolor": "rgb(36,36,36)",
             "gridcolor": "white",
             "linecolor": "white",
             "minorgridcolor": "white",
             "startlinecolor": "rgb(36,36,36)"
            },
            "baxis": {
             "endlinecolor": "rgb(36,36,36)",
             "gridcolor": "white",
             "linecolor": "white",
             "minorgridcolor": "white",
             "startlinecolor": "rgb(36,36,36)"
            },
            "type": "carpet"
           }
          ],
          "choropleth": [
           {
            "colorbar": {
             "outlinewidth": 1,
             "tickcolor": "rgb(36,36,36)",
             "ticks": "outside"
            },
            "type": "choropleth"
           }
          ],
          "contour": [
           {
            "colorbar": {
             "outlinewidth": 1,
             "tickcolor": "rgb(36,36,36)",
             "ticks": "outside"
            },
            "colorscale": [
             [
              0,
              "#440154"
             ],
             [
              0.1111111111111111,
              "#482878"
             ],
             [
              0.2222222222222222,
              "#3e4989"
             ],
             [
              0.3333333333333333,
              "#31688e"
             ],
             [
              0.4444444444444444,
              "#26828e"
             ],
             [
              0.5555555555555556,
              "#1f9e89"
             ],
             [
              0.6666666666666666,
              "#35b779"
             ],
             [
              0.7777777777777778,
              "#6ece58"
             ],
             [
              0.8888888888888888,
              "#b5de2b"
             ],
             [
              1,
              "#fde725"
             ]
            ],
            "type": "contour"
           }
          ],
          "contourcarpet": [
           {
            "colorbar": {
             "outlinewidth": 1,
             "tickcolor": "rgb(36,36,36)",
             "ticks": "outside"
            },
            "type": "contourcarpet"
           }
          ],
          "heatmap": [
           {
            "colorbar": {
             "outlinewidth": 1,
             "tickcolor": "rgb(36,36,36)",
             "ticks": "outside"
            },
            "colorscale": [
             [
              0,
              "#440154"
             ],
             [
              0.1111111111111111,
              "#482878"
             ],
             [
              0.2222222222222222,
              "#3e4989"
             ],
             [
              0.3333333333333333,
              "#31688e"
             ],
             [
              0.4444444444444444,
              "#26828e"
             ],
             [
              0.5555555555555556,
              "#1f9e89"
             ],
             [
              0.6666666666666666,
              "#35b779"
             ],
             [
              0.7777777777777778,
              "#6ece58"
             ],
             [
              0.8888888888888888,
              "#b5de2b"
             ],
             [
              1,
              "#fde725"
             ]
            ],
            "type": "heatmap"
           }
          ],
          "heatmapgl": [
           {
            "colorbar": {
             "outlinewidth": 1,
             "tickcolor": "rgb(36,36,36)",
             "ticks": "outside"
            },
            "colorscale": [
             [
              0,
              "#440154"
             ],
             [
              0.1111111111111111,
              "#482878"
             ],
             [
              0.2222222222222222,
              "#3e4989"
             ],
             [
              0.3333333333333333,
              "#31688e"
             ],
             [
              0.4444444444444444,
              "#26828e"
             ],
             [
              0.5555555555555556,
              "#1f9e89"
             ],
             [
              0.6666666666666666,
              "#35b779"
             ],
             [
              0.7777777777777778,
              "#6ece58"
             ],
             [
              0.8888888888888888,
              "#b5de2b"
             ],
             [
              1,
              "#fde725"
             ]
            ],
            "type": "heatmapgl"
           }
          ],
          "histogram": [
           {
            "marker": {
             "line": {
              "color": "white",
              "width": 0.6
             }
            },
            "type": "histogram"
           }
          ],
          "histogram2d": [
           {
            "colorbar": {
             "outlinewidth": 1,
             "tickcolor": "rgb(36,36,36)",
             "ticks": "outside"
            },
            "colorscale": [
             [
              0,
              "#440154"
             ],
             [
              0.1111111111111111,
              "#482878"
             ],
             [
              0.2222222222222222,
              "#3e4989"
             ],
             [
              0.3333333333333333,
              "#31688e"
             ],
             [
              0.4444444444444444,
              "#26828e"
             ],
             [
              0.5555555555555556,
              "#1f9e89"
             ],
             [
              0.6666666666666666,
              "#35b779"
             ],
             [
              0.7777777777777778,
              "#6ece58"
             ],
             [
              0.8888888888888888,
              "#b5de2b"
             ],
             [
              1,
              "#fde725"
             ]
            ],
            "type": "histogram2d"
           }
          ],
          "histogram2dcontour": [
           {
            "colorbar": {
             "outlinewidth": 1,
             "tickcolor": "rgb(36,36,36)",
             "ticks": "outside"
            },
            "colorscale": [
             [
              0,
              "#440154"
             ],
             [
              0.1111111111111111,
              "#482878"
             ],
             [
              0.2222222222222222,
              "#3e4989"
             ],
             [
              0.3333333333333333,
              "#31688e"
             ],
             [
              0.4444444444444444,
              "#26828e"
             ],
             [
              0.5555555555555556,
              "#1f9e89"
             ],
             [
              0.6666666666666666,
              "#35b779"
             ],
             [
              0.7777777777777778,
              "#6ece58"
             ],
             [
              0.8888888888888888,
              "#b5de2b"
             ],
             [
              1,
              "#fde725"
             ]
            ],
            "type": "histogram2dcontour"
           }
          ],
          "mesh3d": [
           {
            "colorbar": {
             "outlinewidth": 1,
             "tickcolor": "rgb(36,36,36)",
             "ticks": "outside"
            },
            "type": "mesh3d"
           }
          ],
          "parcoords": [
           {
            "line": {
             "colorbar": {
              "outlinewidth": 1,
              "tickcolor": "rgb(36,36,36)",
              "ticks": "outside"
             }
            },
            "type": "parcoords"
           }
          ],
          "pie": [
           {
            "automargin": true,
            "type": "pie"
           }
          ],
          "scatter": [
           {
            "fillpattern": {
             "fillmode": "overlay",
             "size": 10,
             "solidity": 0.2
            },
            "type": "scatter"
           }
          ],
          "scatter3d": [
           {
            "line": {
             "colorbar": {
              "outlinewidth": 1,
              "tickcolor": "rgb(36,36,36)",
              "ticks": "outside"
             }
            },
            "marker": {
             "colorbar": {
              "outlinewidth": 1,
              "tickcolor": "rgb(36,36,36)",
              "ticks": "outside"
             }
            },
            "type": "scatter3d"
           }
          ],
          "scattercarpet": [
           {
            "marker": {
             "colorbar": {
              "outlinewidth": 1,
              "tickcolor": "rgb(36,36,36)",
              "ticks": "outside"
             }
            },
            "type": "scattercarpet"
           }
          ],
          "scattergeo": [
           {
            "marker": {
             "colorbar": {
              "outlinewidth": 1,
              "tickcolor": "rgb(36,36,36)",
              "ticks": "outside"
             }
            },
            "type": "scattergeo"
           }
          ],
          "scattergl": [
           {
            "marker": {
             "colorbar": {
              "outlinewidth": 1,
              "tickcolor": "rgb(36,36,36)",
              "ticks": "outside"
             }
            },
            "type": "scattergl"
           }
          ],
          "scattermapbox": [
           {
            "marker": {
             "colorbar": {
              "outlinewidth": 1,
              "tickcolor": "rgb(36,36,36)",
              "ticks": "outside"
             }
            },
            "type": "scattermapbox"
           }
          ],
          "scatterpolar": [
           {
            "marker": {
             "colorbar": {
              "outlinewidth": 1,
              "tickcolor": "rgb(36,36,36)",
              "ticks": "outside"
             }
            },
            "type": "scatterpolar"
           }
          ],
          "scatterpolargl": [
           {
            "marker": {
             "colorbar": {
              "outlinewidth": 1,
              "tickcolor": "rgb(36,36,36)",
              "ticks": "outside"
             }
            },
            "type": "scatterpolargl"
           }
          ],
          "scatterternary": [
           {
            "marker": {
             "colorbar": {
              "outlinewidth": 1,
              "tickcolor": "rgb(36,36,36)",
              "ticks": "outside"
             }
            },
            "type": "scatterternary"
           }
          ],
          "surface": [
           {
            "colorbar": {
             "outlinewidth": 1,
             "tickcolor": "rgb(36,36,36)",
             "ticks": "outside"
            },
            "colorscale": [
             [
              0,
              "#440154"
             ],
             [
              0.1111111111111111,
              "#482878"
             ],
             [
              0.2222222222222222,
              "#3e4989"
             ],
             [
              0.3333333333333333,
              "#31688e"
             ],
             [
              0.4444444444444444,
              "#26828e"
             ],
             [
              0.5555555555555556,
              "#1f9e89"
             ],
             [
              0.6666666666666666,
              "#35b779"
             ],
             [
              0.7777777777777778,
              "#6ece58"
             ],
             [
              0.8888888888888888,
              "#b5de2b"
             ],
             [
              1,
              "#fde725"
             ]
            ],
            "type": "surface"
           }
          ],
          "table": [
           {
            "cells": {
             "fill": {
              "color": "rgb(237,237,237)"
             },
             "line": {
              "color": "white"
             }
            },
            "header": {
             "fill": {
              "color": "rgb(217,217,217)"
             },
             "line": {
              "color": "white"
             }
            },
            "type": "table"
           }
          ]
         },
         "layout": {
          "annotationdefaults": {
           "arrowhead": 0,
           "arrowwidth": 1
          },
          "autotypenumbers": "strict",
          "coloraxis": {
           "colorbar": {
            "outlinewidth": 1,
            "tickcolor": "rgb(36,36,36)",
            "ticks": "outside"
           }
          },
          "colorscale": {
           "diverging": [
            [
             0,
             "rgb(103,0,31)"
            ],
            [
             0.1,
             "rgb(178,24,43)"
            ],
            [
             0.2,
             "rgb(214,96,77)"
            ],
            [
             0.3,
             "rgb(244,165,130)"
            ],
            [
             0.4,
             "rgb(253,219,199)"
            ],
            [
             0.5,
             "rgb(247,247,247)"
            ],
            [
             0.6,
             "rgb(209,229,240)"
            ],
            [
             0.7,
             "rgb(146,197,222)"
            ],
            [
             0.8,
             "rgb(67,147,195)"
            ],
            [
             0.9,
             "rgb(33,102,172)"
            ],
            [
             1,
             "rgb(5,48,97)"
            ]
           ],
           "sequential": [
            [
             0,
             "#440154"
            ],
            [
             0.1111111111111111,
             "#482878"
            ],
            [
             0.2222222222222222,
             "#3e4989"
            ],
            [
             0.3333333333333333,
             "#31688e"
            ],
            [
             0.4444444444444444,
             "#26828e"
            ],
            [
             0.5555555555555556,
             "#1f9e89"
            ],
            [
             0.6666666666666666,
             "#35b779"
            ],
            [
             0.7777777777777778,
             "#6ece58"
            ],
            [
             0.8888888888888888,
             "#b5de2b"
            ],
            [
             1,
             "#fde725"
            ]
           ],
           "sequentialminus": [
            [
             0,
             "#440154"
            ],
            [
             0.1111111111111111,
             "#482878"
            ],
            [
             0.2222222222222222,
             "#3e4989"
            ],
            [
             0.3333333333333333,
             "#31688e"
            ],
            [
             0.4444444444444444,
             "#26828e"
            ],
            [
             0.5555555555555556,
             "#1f9e89"
            ],
            [
             0.6666666666666666,
             "#35b779"
            ],
            [
             0.7777777777777778,
             "#6ece58"
            ],
            [
             0.8888888888888888,
             "#b5de2b"
            ],
            [
             1,
             "#fde725"
            ]
           ]
          },
          "colorway": [
           "#1F77B4",
           "#FF7F0E",
           "#2CA02C",
           "#D62728",
           "#9467BD",
           "#8C564B",
           "#E377C2",
           "#7F7F7F",
           "#BCBD22",
           "#17BECF"
          ],
          "font": {
           "color": "rgb(36,36,36)"
          },
          "geo": {
           "bgcolor": "white",
           "lakecolor": "white",
           "landcolor": "white",
           "showlakes": true,
           "showland": true,
           "subunitcolor": "white"
          },
          "hoverlabel": {
           "align": "left"
          },
          "hovermode": "closest",
          "mapbox": {
           "style": "light"
          },
          "paper_bgcolor": "white",
          "plot_bgcolor": "white",
          "polar": {
           "angularaxis": {
            "gridcolor": "rgb(232,232,232)",
            "linecolor": "rgb(36,36,36)",
            "showgrid": false,
            "showline": true,
            "ticks": "outside"
           },
           "bgcolor": "white",
           "radialaxis": {
            "gridcolor": "rgb(232,232,232)",
            "linecolor": "rgb(36,36,36)",
            "showgrid": false,
            "showline": true,
            "ticks": "outside"
           }
          },
          "scene": {
           "xaxis": {
            "backgroundcolor": "white",
            "gridcolor": "rgb(232,232,232)",
            "gridwidth": 2,
            "linecolor": "rgb(36,36,36)",
            "showbackground": true,
            "showgrid": false,
            "showline": true,
            "ticks": "outside",
            "zeroline": false,
            "zerolinecolor": "rgb(36,36,36)"
           },
           "yaxis": {
            "backgroundcolor": "white",
            "gridcolor": "rgb(232,232,232)",
            "gridwidth": 2,
            "linecolor": "rgb(36,36,36)",
            "showbackground": true,
            "showgrid": false,
            "showline": true,
            "ticks": "outside",
            "zeroline": false,
            "zerolinecolor": "rgb(36,36,36)"
           },
           "zaxis": {
            "backgroundcolor": "white",
            "gridcolor": "rgb(232,232,232)",
            "gridwidth": 2,
            "linecolor": "rgb(36,36,36)",
            "showbackground": true,
            "showgrid": false,
            "showline": true,
            "ticks": "outside",
            "zeroline": false,
            "zerolinecolor": "rgb(36,36,36)"
           }
          },
          "shapedefaults": {
           "fillcolor": "black",
           "line": {
            "width": 0
           },
           "opacity": 0.3
          },
          "ternary": {
           "aaxis": {
            "gridcolor": "rgb(232,232,232)",
            "linecolor": "rgb(36,36,36)",
            "showgrid": false,
            "showline": true,
            "ticks": "outside"
           },
           "baxis": {
            "gridcolor": "rgb(232,232,232)",
            "linecolor": "rgb(36,36,36)",
            "showgrid": false,
            "showline": true,
            "ticks": "outside"
           },
           "bgcolor": "white",
           "caxis": {
            "gridcolor": "rgb(232,232,232)",
            "linecolor": "rgb(36,36,36)",
            "showgrid": false,
            "showline": true,
            "ticks": "outside"
           }
          },
          "title": {
           "x": 0.05
          },
          "xaxis": {
           "automargin": true,
           "gridcolor": "rgb(232,232,232)",
           "linecolor": "rgb(36,36,36)",
           "showgrid": false,
           "showline": true,
           "ticks": "outside",
           "title": {
            "standoff": 15
           },
           "zeroline": false,
           "zerolinecolor": "rgb(36,36,36)"
          },
          "yaxis": {
           "automargin": true,
           "gridcolor": "rgb(232,232,232)",
           "linecolor": "rgb(36,36,36)",
           "showgrid": false,
           "showline": true,
           "ticks": "outside",
           "title": {
            "standoff": 15
           },
           "zeroline": false,
           "zerolinecolor": "rgb(36,36,36)"
          }
         }
        },
        "width": 980,
        "xaxis": {
         "anchor": "y",
         "domain": [
          0,
          1
         ],
         "tickangle": -4,
         "title": {
          "text": "Threshold"
         }
        },
        "yaxis": {
         "anchor": "x",
         "domain": [
          0,
          1
         ],
         "title": {
          "text": "Generality"
         }
        }
       }
      }
     },
     "metadata": {},
     "output_type": "display_data"
    }
   ],
   "source": [
    "fig = px.line(generality_df)\n",
    "\n",
    "# Customize the layout\n",
    "fig.update_layout(xaxis_title='Threshold', yaxis_title='Generality', legend_title=None, xaxis_tickangle=-4,template='simple_white',width=980, height=720,\n",
    "                  )\n",
    "\n",
    "# Show the plot\n",
    "fig.show()"
   ]
  },
  {
   "cell_type": "markdown",
   "metadata": {},
   "source": [
    "# ee Distribution"
   ]
  },
  {
   "cell_type": "code",
   "execution_count": 37,
   "metadata": {},
   "outputs": [],
   "source": [
    "diversity =[]\n",
    "threshold =[]\n",
    "percentage_df = pd.DataFrame(columns=cats)\n",
    "id=0\n",
    "def calculate_percent(data,p,q):\n",
    "    data1 = data[data< q]\n",
    "    percent = len(data1[data1>= p])/len(data)\n",
    "    return percent\n",
    "\n",
    "old=0\n",
    "for i in np.arange(0,100,1):\n",
    "    cats = df_ee['Catalyst_Ar_grp'].unique()\n",
    "    cat_list = []\n",
    "    gen_list = []\n",
    "    cluster_label_list = []\n",
    "    cluster_label_ee_list = []\n",
    "    if i>0:\n",
    "        percentage = df_ee.groupby('Catalyst_Ar_grp')['Predicted ee'].apply(calculate_percent, old,i)\n",
    "        gen_list=percentage\n",
    "            \n",
    "        diversity.append(np.std(gen_list))\n",
    "        percentage_df.loc[id] = gen_list\n",
    "        threshold.append(i)\n",
    "    id+=1\n",
    "    old=i"
   ]
  },
  {
   "cell_type": "code",
   "execution_count": 38,
   "metadata": {},
   "outputs": [
    {
     "data": {
      "application/vnd.plotly.v1+json": {
       "config": {
        "plotlyServerURL": "https://plot.ly"
       },
       "data": [
        {
         "hovertemplate": "variable=L15<br>index=%{x}<br>value=%{y}<extra></extra>",
         "legendgroup": "L15",
         "line": {
          "color": "#636efa",
          "dash": "solid"
         },
         "marker": {
          "symbol": "circle"
         },
         "mode": "lines",
         "name": "L15",
         "showlegend": true,
         "type": "scattergl",
         "x": [
          1,
          2,
          3,
          4,
          5,
          6,
          7,
          8,
          9,
          10,
          11,
          12,
          13,
          14,
          15,
          16,
          17,
          18,
          19,
          20,
          21,
          22,
          23,
          24,
          25,
          26,
          27,
          28,
          29,
          30,
          31,
          32,
          33,
          34,
          35,
          36,
          37,
          38,
          39,
          40,
          41,
          42,
          43,
          44,
          45,
          46,
          47,
          48,
          49,
          50,
          51,
          52,
          53,
          54,
          55,
          56,
          57,
          58,
          59,
          60,
          61,
          62,
          63,
          64,
          65,
          66,
          67,
          68,
          69,
          70,
          71,
          72,
          73,
          74,
          75,
          76,
          77,
          78,
          79,
          80,
          81,
          82,
          83,
          84,
          85,
          86,
          87,
          88,
          89,
          90,
          91,
          92,
          93,
          94,
          95,
          96,
          97,
          98,
          99
         ],
         "xaxis": "x",
         "y": [
          0.0032281205164992827,
          0.002152080344332855,
          0.002152080344332855,
          0.001793400286944046,
          0.002510760401721664,
          0.002271640363462458,
          0.0020325203252032522,
          0.001673840267814443,
          0.0023912003825920613,
          0.0023912003825920613,
          0.002152080344332855,
          0.0029890004782400764,
          0.0029890004782400764,
          0.0026303204208512673,
          0.0031085604973696795,
          0.003706360593017695,
          0.0032281205164992827,
          0.004423720707795314,
          0.0028694404591104736,
          0.00430416068866571,
          0.0027498804399808704,
          0.0034672405547584886,
          0.004782400765184123,
          0.005978000956480153,
          0.003945480631276901,
          0.003706360593017695,
          0.003825920612147298,
          0.004543280726924916,
          0.0052606408417025345,
          0.005380200860832138,
          0.0040650406504065045,
          0.003825920612147298,
          0.005738880918220947,
          0.005380200860832138,
          0.0040650406504065045,
          0.005978000956480153,
          0.005738880918220947,
          0.005619320899091344,
          0.005738880918220947,
          0.004901960784313725,
          0.006575801052128168,
          0.006575801052128168,
          0.007890961262553802,
          0.00860832137733142,
          0.0068149210903873745,
          0.007293161166905786,
          0.00741272118603539,
          0.007651841224294596,
          0.008010521281683405,
          0.008488761358201818,
          0.00860832137733142,
          0.010879961740793878,
          0.010760401721664276,
          0.01135820181731229,
          0.010043041606886656,
          0.012792922046867527,
          0.012195121951219513,
          0.013151602104256336,
          0.012553802008608322,
          0.015901482544237205,
          0.017934002869440458,
          0.019010043041606885,
          0.018651362984218076,
          0.020205643232902918,
          0.021281683405069345,
          0.019249163079866093,
          0.018292682926829267,
          0.019010043041606885,
          0.020086083213773313,
          0.01757532281205165,
          0.01996652319464371,
          0.019368723098995694,
          0.015662362505978,
          0.01912960306073649,
          0.02271640363462458,
          0.028813964610234336,
          0.02893352462936394,
          0.026422764227642278,
          0.027140124342419896,
          0.029053084648493543,
          0.029531324725011954,
          0.027857484457197514,
          0.027259684361549498,
          0.024390243902439025,
          0.02427068388330942,
          0.021999043519846963,
          0.017814442850310856,
          0.014705882352941176,
          0.014227642276422764,
          0.008369201339072214,
          0.005021520803443328,
          0.004184600669536107,
          0.0023912003825920613,
          0.0023912003825920613,
          0.001793400286944046,
          0.0013151602104256336,
          0.0007173601147776184,
          0,
          0
         ],
         "yaxis": "y"
        },
        {
         "hovertemplate": "variable=L12<br>index=%{x}<br>value=%{y}<extra></extra>",
         "legendgroup": "L12",
         "line": {
          "color": "#EF553B",
          "dash": "solid"
         },
         "marker": {
          "symbol": "circle"
         },
         "mode": "lines",
         "name": "L12",
         "showlegend": true,
         "type": "scattergl",
         "x": [
          1,
          2,
          3,
          4,
          5,
          6,
          7,
          8,
          9,
          10,
          11,
          12,
          13,
          14,
          15,
          16,
          17,
          18,
          19,
          20,
          21,
          22,
          23,
          24,
          25,
          26,
          27,
          28,
          29,
          30,
          31,
          32,
          33,
          34,
          35,
          36,
          37,
          38,
          39,
          40,
          41,
          42,
          43,
          44,
          45,
          46,
          47,
          48,
          49,
          50,
          51,
          52,
          53,
          54,
          55,
          56,
          57,
          58,
          59,
          60,
          61,
          62,
          63,
          64,
          65,
          66,
          67,
          68,
          69,
          70,
          71,
          72,
          73,
          74,
          75,
          76,
          77,
          78,
          79,
          80,
          81,
          82,
          83,
          84,
          85,
          86,
          87,
          88,
          89,
          90,
          91,
          92,
          93,
          94,
          95,
          96,
          97,
          98,
          99
         ],
         "xaxis": "x",
         "y": [
          0.0020325203252032522,
          0.0014347202295552368,
          0.0013151602104256336,
          0.001673840267814443,
          0.001912960306073649,
          0.0010760401721664275,
          0.001793400286944046,
          0.0013151602104256336,
          0.001793400286944046,
          0.0014347202295552368,
          0.002152080344332855,
          0.0010760401721664275,
          0.001673840267814443,
          0.0013151602104256336,
          0.0015542802486848398,
          0.002510760401721664,
          0.002510760401721664,
          0.0026303204208512673,
          0.0009564801530368245,
          0.0023912003825920613,
          0.0026303204208512673,
          0.0026303204208512673,
          0.002271640363462458,
          0.0029890004782400764,
          0.0028694404591104736,
          0.0034672405547584886,
          0.0029890004782400764,
          0.004782400765184123,
          0.003945480631276901,
          0.003945480631276901,
          0.00585844093735055,
          0.0032281205164992827,
          0.0040650406504065045,
          0.004782400765184123,
          0.004662840746054519,
          0.005619320899091344,
          0.005380200860832138,
          0.0052606408417025345,
          0.006336681013868962,
          0.006456241032998565,
          0.005738880918220947,
          0.005978000956480153,
          0.006336681013868962,
          0.007532281205164993,
          0.005619320899091344,
          0.005978000956480153,
          0.007293161166905786,
          0.006097560975609756,
          0.005738880918220947,
          0.006934481109516977,
          0.007890961262553802,
          0.00824964131994261,
          0.008847441415590627,
          0.01016260162601626,
          0.008727881396461024,
          0.009564801530368245,
          0.010043041606886656,
          0.009564801530368245,
          0.01135820181731229,
          0.014108082257293162,
          0.0117168818747011,
          0.012673362027737924,
          0.018890483022477284,
          0.017097082735533238,
          0.017814442850310856,
          0.017814442850310856,
          0.017336202773792445,
          0.017934002869440458,
          0.01912960306073649,
          0.020444763271162122,
          0.0196078431372549,
          0.020205643232902918,
          0.02391200382592061,
          0.021042563366810138,
          0.02295552367288379,
          0.024988043998087038,
          0.0194882831181253,
          0.02654232424677188,
          0.02427068388330942,
          0.02654232424677188,
          0.02929220468675275,
          0.028455284552845527,
          0.026781444285031087,
          0.030726924916307987,
          0.03395504543280727,
          0.02690100430416069,
          0.028694404591104734,
          0.027857484457197514,
          0.02295552367288379,
          0.021999043519846963,
          0.015423242467718794,
          0.01327116212338594,
          0.008130081300813009,
          0.003706360593017695,
          0.0008369201339072215,
          0.00011956001912960307,
          0,
          0,
          0
         ],
         "yaxis": "y"
        },
        {
         "hovertemplate": "variable=L4<br>index=%{x}<br>value=%{y}<extra></extra>",
         "legendgroup": "L4",
         "line": {
          "color": "#00cc96",
          "dash": "solid"
         },
         "marker": {
          "symbol": "circle"
         },
         "mode": "lines",
         "name": "L4",
         "showlegend": true,
         "type": "scattergl",
         "x": [
          1,
          2,
          3,
          4,
          5,
          6,
          7,
          8,
          9,
          10,
          11,
          12,
          13,
          14,
          15,
          16,
          17,
          18,
          19,
          20,
          21,
          22,
          23,
          24,
          25,
          26,
          27,
          28,
          29,
          30,
          31,
          32,
          33,
          34,
          35,
          36,
          37,
          38,
          39,
          40,
          41,
          42,
          43,
          44,
          45,
          46,
          47,
          48,
          49,
          50,
          51,
          52,
          53,
          54,
          55,
          56,
          57,
          58,
          59,
          60,
          61,
          62,
          63,
          64,
          65,
          66,
          67,
          68,
          69,
          70,
          71,
          72,
          73,
          74,
          75,
          76,
          77,
          78,
          79,
          80,
          81,
          82,
          83,
          84,
          85,
          86,
          87,
          88,
          89,
          90,
          91,
          92,
          93,
          94,
          95,
          96,
          97,
          98,
          99
         ],
         "xaxis": "x",
         "y": [
          0.0015542802486848398,
          0.0008369201339072215,
          0.0026303204208512673,
          0.0014347202295552368,
          0.0023912003825920613,
          0.0020325203252032522,
          0.0020325203252032522,
          0.001912960306073649,
          0.0011956001912960307,
          0.001912960306073649,
          0.001912960306073649,
          0.0023912003825920613,
          0.001673840267814443,
          0.0023912003825920613,
          0.0014347202295552368,
          0.0023912003825920613,
          0.0026303204208512673,
          0.0023912003825920613,
          0.0026303204208512673,
          0.0023912003825920613,
          0.0026303204208512673,
          0.0020325203252032522,
          0.0031085604973696795,
          0.003945480631276901,
          0.0031085604973696795,
          0.0034672405547584886,
          0.002271640363462458,
          0.0026303204208512673,
          0.0052606408417025345,
          0.004423720707795314,
          0.003586800573888092,
          0.004423720707795314,
          0.004662840746054519,
          0.006217120994739359,
          0.005619320899091344,
          0.006336681013868962,
          0.006934481109516977,
          0.008847441415590627,
          0.007532281205164993,
          0.007771401243424199,
          0.008369201339072214,
          0.009564801530368245,
          0.011238641798182687,
          0.011477761836441894,
          0.012075561932089909,
          0.012195121951219513,
          0.01482544237207078,
          0.018531802965088474,
          0.01685796269727403,
          0.016260162601626018,
          0.020444763271162122,
          0.01877092300334768,
          0.0194882831181253,
          0.02032520325203252,
          0.02462936394069823,
          0.02391200382592061,
          0.02977044476327116,
          0.028216164514586323,
          0.026303204208512673,
          0.026781444285031087,
          0.02391200382592061,
          0.024509803921568627,
          0.028335724533715925,
          0.025227164036346245,
          0.028335724533715925,
          0.02702056432329029,
          0.02929220468675275,
          0.030368244858919178,
          0.025107604017216643,
          0.028096604495456718,
          0.02618364418938307,
          0.028096604495456718,
          0.022118603538976565,
          0.024151123864179818,
          0.018651362984218076,
          0.01602104256336681,
          0.015542802486848398,
          0.012673362027737924,
          0.010401721664275465,
          0.010043041606886656,
          0.00741272118603539,
          0.007890961262553802,
          0.005499760879961741,
          0.004423720707795314,
          0.0029890004782400764,
          0.0014347202295552368,
          0.002510760401721664,
          0.002271640363462458,
          0.0023912003825920613,
          0.0011956001912960307,
          0.0008369201339072215,
          0.0007173601147776184,
          0.0007173601147776184,
          0.00047824007651841227,
          0.00011956001912960307,
          0,
          0,
          0,
          0
         ],
         "yaxis": "y"
        },
        {
         "hovertemplate": "variable=L8<br>index=%{x}<br>value=%{y}<extra></extra>",
         "legendgroup": "L8",
         "line": {
          "color": "#ab63fa",
          "dash": "solid"
         },
         "marker": {
          "symbol": "circle"
         },
         "mode": "lines",
         "name": "L8",
         "showlegend": true,
         "type": "scattergl",
         "x": [
          1,
          2,
          3,
          4,
          5,
          6,
          7,
          8,
          9,
          10,
          11,
          12,
          13,
          14,
          15,
          16,
          17,
          18,
          19,
          20,
          21,
          22,
          23,
          24,
          25,
          26,
          27,
          28,
          29,
          30,
          31,
          32,
          33,
          34,
          35,
          36,
          37,
          38,
          39,
          40,
          41,
          42,
          43,
          44,
          45,
          46,
          47,
          48,
          49,
          50,
          51,
          52,
          53,
          54,
          55,
          56,
          57,
          58,
          59,
          60,
          61,
          62,
          63,
          64,
          65,
          66,
          67,
          68,
          69,
          70,
          71,
          72,
          73,
          74,
          75,
          76,
          77,
          78,
          79,
          80,
          81,
          82,
          83,
          84,
          85,
          86,
          87,
          88,
          89,
          90,
          91,
          92,
          93,
          94,
          95,
          96,
          97,
          98,
          99
         ],
         "xaxis": "x",
         "y": [
          0.0010760401721664275,
          0.001673840267814443,
          0.0013151602104256336,
          0.0014347202295552368,
          0.001673840267814443,
          0.0011956001912960307,
          0.0013151602104256336,
          0.0005978000956480153,
          0.0013151602104256336,
          0.0008369201339072215,
          0.001912960306073649,
          0.0015542802486848398,
          0.001673840267814443,
          0.0013151602104256336,
          0.001793400286944046,
          0.002510760401721664,
          0.0026303204208512673,
          0.0023912003825920613,
          0.0020325203252032522,
          0.001793400286944046,
          0.001912960306073649,
          0.0013151602104256336,
          0.0015542802486848398,
          0.0015542802486848398,
          0.0013151602104256336,
          0.0014347202295552368,
          0.0027498804399808704,
          0.0029890004782400764,
          0.0029890004782400764,
          0.0031085604973696795,
          0.0029890004782400764,
          0.003586800573888092,
          0.004423720707795314,
          0.003706360593017695,
          0.004662840746054519,
          0.0052606408417025345,
          0.004782400765184123,
          0.003825920612147298,
          0.0052606408417025345,
          0.009325681492109038,
          0.006575801052128168,
          0.008488761358201818,
          0.009564801530368245,
          0.011238641798182687,
          0.010640841702534673,
          0.011477761836441894,
          0.01291248206599713,
          0.01327116212338594,
          0.013749402199904353,
          0.013988522238163558,
          0.01327116212338594,
          0.014705882352941176,
          0.013988522238163558,
          0.014347202295552367,
          0.01673840267814443,
          0.015542802486848398,
          0.017336202773792445,
          0.015064562410329985,
          0.01877092300334768,
          0.018531802965088474,
          0.017455762792922047,
          0.01877092300334768,
          0.02187948350071736,
          0.020564323290291727,
          0.024031563845050216,
          0.024868483978957436,
          0.02570540411286466,
          0.03216164514586322,
          0.030248684839789576,
          0.03000956480153037,
          0.02929220468675275,
          0.025227164036346245,
          0.025107604017216643,
          0.028694404591104734,
          0.02666188426590148,
          0.023314203730272598,
          0.024390243902439025,
          0.020205643232902918,
          0.02259684361549498,
          0.02307508369201339,
          0.021401243424198947,
          0.017934002869440458,
          0.013390722142515544,
          0.01291248206599713,
          0.012434241989478718,
          0.010521281683405069,
          0.011477761836441894,
          0.006575801052128168,
          0.0040650406504065045,
          0.004662840746054519,
          0.0026303204208512673,
          0.0031085604973696795,
          0.0027498804399808704,
          0.0028694404591104736,
          0.0029890004782400764,
          0.0028694404591104736,
          0.001912960306073649,
          0.00023912003825920613,
          0
         ],
         "yaxis": "y"
        },
        {
         "hovertemplate": "variable=L10<br>index=%{x}<br>value=%{y}<extra></extra>",
         "legendgroup": "L10",
         "line": {
          "color": "#FFA15A",
          "dash": "solid"
         },
         "marker": {
          "symbol": "circle"
         },
         "mode": "lines",
         "name": "L10",
         "showlegend": true,
         "type": "scattergl",
         "x": [
          1,
          2,
          3,
          4,
          5,
          6,
          7,
          8,
          9,
          10,
          11,
          12,
          13,
          14,
          15,
          16,
          17,
          18,
          19,
          20,
          21,
          22,
          23,
          24,
          25,
          26,
          27,
          28,
          29,
          30,
          31,
          32,
          33,
          34,
          35,
          36,
          37,
          38,
          39,
          40,
          41,
          42,
          43,
          44,
          45,
          46,
          47,
          48,
          49,
          50,
          51,
          52,
          53,
          54,
          55,
          56,
          57,
          58,
          59,
          60,
          61,
          62,
          63,
          64,
          65,
          66,
          67,
          68,
          69,
          70,
          71,
          72,
          73,
          74,
          75,
          76,
          77,
          78,
          79,
          80,
          81,
          82,
          83,
          84,
          85,
          86,
          87,
          88,
          89,
          90,
          91,
          92,
          93,
          94,
          95,
          96,
          97,
          98,
          99
         ],
         "xaxis": "x",
         "y": [
          0.0014347202295552368,
          0.001912960306073649,
          0.0013151602104256336,
          0.0014347202295552368,
          0.0023912003825920613,
          0.0015542802486848398,
          0.0011956001912960307,
          0.002152080344332855,
          0.001673840267814443,
          0.001912960306073649,
          0.0020325203252032522,
          0.0014347202295552368,
          0.0023912003825920613,
          0.0014347202295552368,
          0.0028694404591104736,
          0.0027498804399808704,
          0.002152080344332855,
          0.002271640363462458,
          0.002510760401721664,
          0.002271640363462458,
          0.0032281205164992827,
          0.002510760401721664,
          0.003347680535628886,
          0.002152080344332855,
          0.0028694404591104736,
          0.0032281205164992827,
          0.0026303204208512673,
          0.004184600669536107,
          0.0034672405547584886,
          0.003945480631276901,
          0.0031085604973696795,
          0.00585844093735055,
          0.00430416068866571,
          0.004782400765184123,
          0.005141080822572932,
          0.005978000956480153,
          0.004782400765184123,
          0.0068149210903873745,
          0.005499760879961741,
          0.005141080822572932,
          0.0052606408417025345,
          0.00741272118603539,
          0.0068149210903873745,
          0.006695361071257772,
          0.006456241032998565,
          0.006934481109516977,
          0.004662840746054519,
          0.005141080822572932,
          0.006217120994739359,
          0.006456241032998565,
          0.007173601147776184,
          0.006695361071257772,
          0.007890961262553802,
          0.008847441415590627,
          0.009564801530368245,
          0.010282161645145864,
          0.010521281683405069,
          0.011956001912960305,
          0.01446676231468197,
          0.012553802008608322,
          0.012434241989478718,
          0.012314681970349114,
          0.014705882352941176,
          0.0117168818747011,
          0.013749402199904353,
          0.012314681970349114,
          0.015064562410329985,
          0.013988522238163558,
          0.015303682448589193,
          0.012792922046867527,
          0.014227642276422764,
          0.014108082257293162,
          0.015542802486848398,
          0.014945002391200382,
          0.016140602582496413,
          0.014347202295552367,
          0.013390722142515544,
          0.010521281683405069,
          0.016260162601626018,
          0.015662362505978,
          0.016140602582496413,
          0.012792922046867527,
          0.013510282161645145,
          0.015542802486848398,
          0.015303682448589193,
          0.019010043041606885,
          0.024988043998087038,
          0.022357723577235773,
          0.027140124342419896,
          0.035868005738880916,
          0.043400286944045914,
          0.0431611669057867,
          0.04447632711621234,
          0.042682926829268296,
          0.029172644667623145,
          0.013988522238163558,
          0.012075561932089909,
          0.004662840746054519,
          0.00011956001912960307
         ],
         "yaxis": "y"
        },
        {
         "hovertemplate": "variable=L2<br>index=%{x}<br>value=%{y}<extra></extra>",
         "legendgroup": "L2",
         "line": {
          "color": "#19d3f3",
          "dash": "solid"
         },
         "marker": {
          "symbol": "circle"
         },
         "mode": "lines",
         "name": "L2",
         "showlegend": true,
         "type": "scattergl",
         "x": [
          1,
          2,
          3,
          4,
          5,
          6,
          7,
          8,
          9,
          10,
          11,
          12,
          13,
          14,
          15,
          16,
          17,
          18,
          19,
          20,
          21,
          22,
          23,
          24,
          25,
          26,
          27,
          28,
          29,
          30,
          31,
          32,
          33,
          34,
          35,
          36,
          37,
          38,
          39,
          40,
          41,
          42,
          43,
          44,
          45,
          46,
          47,
          48,
          49,
          50,
          51,
          52,
          53,
          54,
          55,
          56,
          57,
          58,
          59,
          60,
          61,
          62,
          63,
          64,
          65,
          66,
          67,
          68,
          69,
          70,
          71,
          72,
          73,
          74,
          75,
          76,
          77,
          78,
          79,
          80,
          81,
          82,
          83,
          84,
          85,
          86,
          87,
          88,
          89,
          90,
          91,
          92,
          93,
          94,
          95,
          96,
          97,
          98,
          99
         ],
         "xaxis": "x",
         "y": [
          0.0026303204208512673,
          0.0026303204208512673,
          0.002152080344332855,
          0.001793400286944046,
          0.0011956001912960307,
          0.0023912003825920613,
          0.002152080344332855,
          0.002510760401721664,
          0.0031085604973696795,
          0.0027498804399808704,
          0.001912960306073649,
          0.002271640363462458,
          0.0029890004782400764,
          0.003825920612147298,
          0.002510760401721664,
          0.003945480631276901,
          0.004782400765184123,
          0.003586800573888092,
          0.004543280726924916,
          0.005380200860832138,
          0.004662840746054519,
          0.005978000956480153,
          0.005380200860832138,
          0.004782400765184123,
          0.004423720707795314,
          0.004543280726924916,
          0.00430416068866571,
          0.005021520803443328,
          0.005978000956480153,
          0.006456241032998565,
          0.008488761358201818,
          0.005978000956480153,
          0.00741272118603539,
          0.010043041606886656,
          0.00824964131994261,
          0.008847441415590627,
          0.008727881396461024,
          0.011956001912960305,
          0.012673362027737924,
          0.013988522238163558,
          0.013749402199904353,
          0.013868962219033954,
          0.013629842180774749,
          0.014108082257293162,
          0.017097082735533238,
          0.016260162601626018,
          0.01721664275466284,
          0.017097082735533238,
          0.02080344332855093,
          0.022835963653754184,
          0.021042563366810138,
          0.024031563845050216,
          0.02307508369201339,
          0.02223816355810617,
          0.02582496413199426,
          0.029053084648493543,
          0.025107604017216643,
          0.025346724055475847,
          0.024031563845050216,
          0.022118603538976565,
          0.024031563845050216,
          0.024868483978957436,
          0.02570540411286466,
          0.02570540411286466,
          0.023672883787661407,
          0.02391200382592061,
          0.021281683405069345,
          0.021999043519846963,
          0.018890483022477284,
          0.01912960306073649,
          0.022118603538976565,
          0.018531802965088474,
          0.017694882831181254,
          0.01482544237207078,
          0.01482544237207078,
          0.00980392156862745,
          0.010640841702534673,
          0.009445241511238642,
          0.007532281205164993,
          0.004543280726924916,
          0.005619320899091344,
          0.003347680535628886,
          0.0029890004782400764,
          0.0032281205164992827,
          0.0013151602104256336,
          0.002152080344332855,
          0.002271640363462458,
          0.001673840267814443,
          0.00047824007651841227,
          0.0009564801530368245,
          0.00023912003825920613,
          0.0007173601147776184,
          0.0003586800573888092,
          0,
          0,
          0,
          0,
          0,
          0
         ],
         "yaxis": "y"
        },
        {
         "hovertemplate": "variable=L1<br>index=%{x}<br>value=%{y}<extra></extra>",
         "legendgroup": "L1",
         "line": {
          "color": "#FF6692",
          "dash": "solid"
         },
         "marker": {
          "symbol": "circle"
         },
         "mode": "lines",
         "name": "L1",
         "showlegend": true,
         "type": "scattergl",
         "x": [
          1,
          2,
          3,
          4,
          5,
          6,
          7,
          8,
          9,
          10,
          11,
          12,
          13,
          14,
          15,
          16,
          17,
          18,
          19,
          20,
          21,
          22,
          23,
          24,
          25,
          26,
          27,
          28,
          29,
          30,
          31,
          32,
          33,
          34,
          35,
          36,
          37,
          38,
          39,
          40,
          41,
          42,
          43,
          44,
          45,
          46,
          47,
          48,
          49,
          50,
          51,
          52,
          53,
          54,
          55,
          56,
          57,
          58,
          59,
          60,
          61,
          62,
          63,
          64,
          65,
          66,
          67,
          68,
          69,
          70,
          71,
          72,
          73,
          74,
          75,
          76,
          77,
          78,
          79,
          80,
          81,
          82,
          83,
          84,
          85,
          86,
          87,
          88,
          89,
          90,
          91,
          92,
          93,
          94,
          95,
          96,
          97,
          98,
          99
         ],
         "xaxis": "x",
         "y": [
          0.002271640363462458,
          0.002152080344332855,
          0.001673840267814443,
          0.001912960306073649,
          0.0013151602104256336,
          0.001793400286944046,
          0.0010760401721664275,
          0.0020325203252032522,
          0.001673840267814443,
          0.001793400286944046,
          0.001912960306073649,
          0.0028694404591104736,
          0.0028694404591104736,
          0.0027498804399808704,
          0.002510760401721664,
          0.0027498804399808704,
          0.002510760401721664,
          0.001793400286944046,
          0.0032281205164992827,
          0.003825920612147298,
          0.003825920612147298,
          0.0028694404591104736,
          0.003347680535628886,
          0.0040650406504065045,
          0.004901960784313725,
          0.0052606408417025345,
          0.004543280726924916,
          0.005021520803443328,
          0.00430416068866571,
          0.006575801052128168,
          0.008010521281683405,
          0.00585844093735055,
          0.008010521281683405,
          0.008847441415590627,
          0.009206121472979436,
          0.008130081300813009,
          0.009923481587757054,
          0.0117168818747011,
          0.010043041606886656,
          0.01446676231468197,
          0.013749402199904353,
          0.013390722142515544,
          0.013510282161645145,
          0.018292682926829267,
          0.01685796269727403,
          0.015303682448589193,
          0.017694882831181254,
          0.018292682926829267,
          0.02032520325203252,
          0.02187948350071736,
          0.02618364418938307,
          0.02080344332855093,
          0.021999043519846963,
          0.023672883787661407,
          0.02271640363462458,
          0.025585844093735054,
          0.02690100430416069,
          0.028574844571975132,
          0.025585844093735054,
          0.0273792443806791,
          0.03000956480153037,
          0.027618364418938307,
          0.03156384505021521,
          0.028574844571975132,
          0.025585844093735054,
          0.025466284074605453,
          0.02032520325203252,
          0.02391200382592061,
          0.021759923481587756,
          0.02223816355810617,
          0.022357723577235773,
          0.0194882831181253,
          0.013629842180774749,
          0.012792922046867527,
          0.010879961740793878,
          0.010521281683405069,
          0.009445241511238642,
          0.005619320899091344,
          0.005738880918220947,
          0.003706360593017695,
          0.005021520803443328,
          0.003586800573888092,
          0.0040650406504065045,
          0.002271640363462458,
          0.0029890004782400764,
          0.0020325203252032522,
          0.0020325203252032522,
          0.0011956001912960307,
          0.0015542802486848398,
          0.0005978000956480153,
          0.0005978000956480153,
          0.0003586800573888092,
          0.00011956001912960307,
          0,
          0,
          0,
          0,
          0,
          0
         ],
         "yaxis": "y"
        },
        {
         "hovertemplate": "variable=L13<br>index=%{x}<br>value=%{y}<extra></extra>",
         "legendgroup": "L13",
         "line": {
          "color": "#B6E880",
          "dash": "solid"
         },
         "marker": {
          "symbol": "circle"
         },
         "mode": "lines",
         "name": "L13",
         "showlegend": true,
         "type": "scattergl",
         "x": [
          1,
          2,
          3,
          4,
          5,
          6,
          7,
          8,
          9,
          10,
          11,
          12,
          13,
          14,
          15,
          16,
          17,
          18,
          19,
          20,
          21,
          22,
          23,
          24,
          25,
          26,
          27,
          28,
          29,
          30,
          31,
          32,
          33,
          34,
          35,
          36,
          37,
          38,
          39,
          40,
          41,
          42,
          43,
          44,
          45,
          46,
          47,
          48,
          49,
          50,
          51,
          52,
          53,
          54,
          55,
          56,
          57,
          58,
          59,
          60,
          61,
          62,
          63,
          64,
          65,
          66,
          67,
          68,
          69,
          70,
          71,
          72,
          73,
          74,
          75,
          76,
          77,
          78,
          79,
          80,
          81,
          82,
          83,
          84,
          85,
          86,
          87,
          88,
          89,
          90,
          91,
          92,
          93,
          94,
          95,
          96,
          97,
          98,
          99
         ],
         "xaxis": "x",
         "y": [
          0.0009564801530368245,
          0.0013151602104256336,
          0.0013151602104256336,
          0.002152080344332855,
          0.0011956001912960307,
          0.0014347202295552368,
          0.0013151602104256336,
          0.001673840267814443,
          0.0014347202295552368,
          0.001912960306073649,
          0.0023912003825920613,
          0.0026303204208512673,
          0.001912960306073649,
          0.002271640363462458,
          0.0026303204208512673,
          0.0034672405547584886,
          0.0032281205164992827,
          0.0023912003825920613,
          0.0028694404591104736,
          0.0028694404591104736,
          0.0029890004782400764,
          0.003945480631276901,
          0.0029890004782400764,
          0.0040650406504065045,
          0.0040650406504065045,
          0.005380200860832138,
          0.005499760879961741,
          0.0034672405547584886,
          0.003347680535628886,
          0.005021520803443328,
          0.00585844093735055,
          0.004901960784313725,
          0.005499760879961741,
          0.006217120994739359,
          0.007054041128646581,
          0.006097560975609756,
          0.008369201339072214,
          0.008130081300813009,
          0.013032042085126734,
          0.012434241989478718,
          0.01291248206599713,
          0.015662362505978,
          0.015542802486848398,
          0.016140602582496413,
          0.015064562410329985,
          0.018412242945958873,
          0.020444763271162122,
          0.0194882831181253,
          0.021281683405069345,
          0.01996652319464371,
          0.021281683405069345,
          0.021640363462458154,
          0.02068388330942133,
          0.02223816355810617,
          0.0234337637494022,
          0.0235533237685318,
          0.020923003347680536,
          0.023672883787661407,
          0.02666188426590148,
          0.02379244380679101,
          0.026422764227642278,
          0.029531324725011954,
          0.027618364418938307,
          0.03084648493543759,
          0.02379244380679101,
          0.025346724055475847,
          0.024031563845050216,
          0.020923003347680536,
          0.021401243424198947,
          0.020564323290291727,
          0.021281683405069345,
          0.020444763271162122,
          0.018173122907699665,
          0.012314681970349114,
          0.014227642276422764,
          0.010999521759923482,
          0.012314681970349114,
          0.010401721664275465,
          0.008847441415590627,
          0.009923481587757054,
          0.007293161166905786,
          0.005619320899091344,
          0.006217120994739359,
          0.00585844093735055,
          0.0040650406504065045,
          0.0027498804399808704,
          0.002152080344332855,
          0.0023912003825920613,
          0.002152080344332855,
          0.001793400286944046,
          0.0014347202295552368,
          0.0027498804399808704,
          0.001793400286944046,
          0.0009564801530368245,
          0.0008369201339072215,
          0,
          0,
          0,
          0
         ],
         "yaxis": "y"
        },
        {
         "hovertemplate": "variable=L11<br>index=%{x}<br>value=%{y}<extra></extra>",
         "legendgroup": "L11",
         "line": {
          "color": "#FF97FF",
          "dash": "solid"
         },
         "marker": {
          "symbol": "circle"
         },
         "mode": "lines",
         "name": "L11",
         "showlegend": true,
         "type": "scattergl",
         "x": [
          1,
          2,
          3,
          4,
          5,
          6,
          7,
          8,
          9,
          10,
          11,
          12,
          13,
          14,
          15,
          16,
          17,
          18,
          19,
          20,
          21,
          22,
          23,
          24,
          25,
          26,
          27,
          28,
          29,
          30,
          31,
          32,
          33,
          34,
          35,
          36,
          37,
          38,
          39,
          40,
          41,
          42,
          43,
          44,
          45,
          46,
          47,
          48,
          49,
          50,
          51,
          52,
          53,
          54,
          55,
          56,
          57,
          58,
          59,
          60,
          61,
          62,
          63,
          64,
          65,
          66,
          67,
          68,
          69,
          70,
          71,
          72,
          73,
          74,
          75,
          76,
          77,
          78,
          79,
          80,
          81,
          82,
          83,
          84,
          85,
          86,
          87,
          88,
          89,
          90,
          91,
          92,
          93,
          94,
          95,
          96,
          97,
          98,
          99
         ],
         "xaxis": "x",
         "y": [
          0.0010760401721664275,
          0.0010760401721664275,
          0.0007173601147776184,
          0.0008369201339072215,
          0.0007173601147776184,
          0.0013151602104256336,
          0.0009564801530368245,
          0.0010760401721664275,
          0.001912960306073649,
          0.0008369201339072215,
          0.0014347202295552368,
          0.0011956001912960307,
          0.0011956001912960307,
          0.0007173601147776184,
          0.0014347202295552368,
          0.0029890004782400764,
          0.0008369201339072215,
          0.002152080344332855,
          0.002152080344332855,
          0.0014347202295552368,
          0.0009564801530368245,
          0.0020325203252032522,
          0.001673840267814443,
          0.001673840267814443,
          0.0014347202295552368,
          0.0009564801530368245,
          0.001673840267814443,
          0.001793400286944046,
          0.001673840267814443,
          0.0026303204208512673,
          0.0023912003825920613,
          0.002271640363462458,
          0.002271640363462458,
          0.0031085604973696795,
          0.003706360593017695,
          0.004423720707795314,
          0.0027498804399808704,
          0.0032281205164992827,
          0.003706360593017695,
          0.0031085604973696795,
          0.0052606408417025345,
          0.004901960784313725,
          0.0032281205164992827,
          0.003825920612147298,
          0.006336681013868962,
          0.0031085604973696795,
          0.005141080822572932,
          0.004901960784313725,
          0.007293161166905786,
          0.006097560975609756,
          0.006217120994739359,
          0.005141080822572932,
          0.005619320899091344,
          0.004543280726924916,
          0.006575801052128168,
          0.007771401243424199,
          0.006217120994739359,
          0.009923481587757054,
          0.010999521759923482,
          0.011238641798182687,
          0.008847441415590627,
          0.010879961740793878,
          0.012195121951219513,
          0.011956001912960305,
          0.010879961740793878,
          0.015901482544237205,
          0.01446676231468197,
          0.014586322333811573,
          0.01602104256336681,
          0.013151602104256336,
          0.01721664275466284,
          0.025107604017216643,
          0.023672883787661407,
          0.02187948350071736,
          0.02582496413199426,
          0.02773792443806791,
          0.0314442850310856,
          0.03012912482065997,
          0.0350310856049737,
          0.03562888570062171,
          0.0389765662362506,
          0.036465805834528936,
          0.03574844571975132,
          0.03670492587278814,
          0.03957436633189861,
          0.03538976566236251,
          0.032879005260640845,
          0.031324725011956,
          0.032520325203252036,
          0.025107604017216643,
          0.01996652319464371,
          0.013151602104256336,
          0.010401721664275465,
          0.006695361071257772,
          0.0034672405547584886,
          0.0010760401721664275,
          0.00011956001912960307,
          0,
          0
         ],
         "yaxis": "y"
        },
        {
         "hovertemplate": "variable=L5<br>index=%{x}<br>value=%{y}<extra></extra>",
         "legendgroup": "L5",
         "line": {
          "color": "#FECB52",
          "dash": "solid"
         },
         "marker": {
          "symbol": "circle"
         },
         "mode": "lines",
         "name": "L5",
         "showlegend": true,
         "type": "scattergl",
         "x": [
          1,
          2,
          3,
          4,
          5,
          6,
          7,
          8,
          9,
          10,
          11,
          12,
          13,
          14,
          15,
          16,
          17,
          18,
          19,
          20,
          21,
          22,
          23,
          24,
          25,
          26,
          27,
          28,
          29,
          30,
          31,
          32,
          33,
          34,
          35,
          36,
          37,
          38,
          39,
          40,
          41,
          42,
          43,
          44,
          45,
          46,
          47,
          48,
          49,
          50,
          51,
          52,
          53,
          54,
          55,
          56,
          57,
          58,
          59,
          60,
          61,
          62,
          63,
          64,
          65,
          66,
          67,
          68,
          69,
          70,
          71,
          72,
          73,
          74,
          75,
          76,
          77,
          78,
          79,
          80,
          81,
          82,
          83,
          84,
          85,
          86,
          87,
          88,
          89,
          90,
          91,
          92,
          93,
          94,
          95,
          96,
          97,
          98,
          99
         ],
         "xaxis": "x",
         "y": [
          0.0015542802486848398,
          0.0009564801530368245,
          0.0015542802486848398,
          0.0010760401721664275,
          0.0009564801530368245,
          0.0010760401721664275,
          0.0010760401721664275,
          0.0010760401721664275,
          0.0013151602104256336,
          0.0028694404591104736,
          0.001912960306073649,
          0.0011956001912960307,
          0.001793400286944046,
          0.001793400286944046,
          0.0015542802486848398,
          0.0028694404591104736,
          0.001912960306073649,
          0.0028694404591104736,
          0.0023912003825920613,
          0.002510760401721664,
          0.0040650406504065045,
          0.003706360593017695,
          0.0040650406504065045,
          0.0026303204208512673,
          0.0028694404591104736,
          0.003347680535628886,
          0.003706360593017695,
          0.0032281205164992827,
          0.003825920612147298,
          0.00585844093735055,
          0.005978000956480153,
          0.004543280726924916,
          0.004184600669536107,
          0.005738880918220947,
          0.0052606408417025345,
          0.006097560975609756,
          0.006097560975609756,
          0.005380200860832138,
          0.004901960784313725,
          0.007293161166905786,
          0.008727881396461024,
          0.009564801530368245,
          0.007293161166905786,
          0.009684361549497847,
          0.011119081779053085,
          0.009086561453849833,
          0.009564801530368245,
          0.01482544237207078,
          0.013510282161645145,
          0.017814442850310856,
          0.01685796269727403,
          0.019010043041606885,
          0.021162123385939743,
          0.025107604017216643,
          0.023672883787661407,
          0.027259684361549498,
          0.027857484457197514,
          0.02977044476327116,
          0.028096604495456718,
          0.03335724533715925,
          0.028216164514586323,
          0.02773792443806791,
          0.026303204208512673,
          0.02570540411286466,
          0.027140124342419896,
          0.030966044954567194,
          0.030966044954567194,
          0.02977044476327116,
          0.027618364418938307,
          0.028694404591104734,
          0.02295552367288379,
          0.028694404591104734,
          0.021640363462458154,
          0.019010043041606885,
          0.01649928263988522,
          0.018053562888570063,
          0.016140602582496413,
          0.014586322333811573,
          0.011956001912960305,
          0.01016260162601626,
          0.006336681013868962,
          0.007532281205164993,
          0.006456241032998565,
          0.005380200860832138,
          0.004543280726924916,
          0.002271640363462458,
          0.002152080344332855,
          0.0011956001912960307,
          0.0020325203252032522,
          0.002271640363462458,
          0.002271640363462458,
          0.0014347202295552368,
          0.0014347202295552368,
          0.0007173601147776184,
          0.0007173601147776184,
          0,
          0,
          0,
          0
         ],
         "yaxis": "y"
        },
        {
         "hovertemplate": "variable=L14<br>index=%{x}<br>value=%{y}<extra></extra>",
         "legendgroup": "L14",
         "line": {
          "color": "#636efa",
          "dash": "solid"
         },
         "marker": {
          "symbol": "circle"
         },
         "mode": "lines",
         "name": "L14",
         "showlegend": true,
         "type": "scattergl",
         "x": [
          1,
          2,
          3,
          4,
          5,
          6,
          7,
          8,
          9,
          10,
          11,
          12,
          13,
          14,
          15,
          16,
          17,
          18,
          19,
          20,
          21,
          22,
          23,
          24,
          25,
          26,
          27,
          28,
          29,
          30,
          31,
          32,
          33,
          34,
          35,
          36,
          37,
          38,
          39,
          40,
          41,
          42,
          43,
          44,
          45,
          46,
          47,
          48,
          49,
          50,
          51,
          52,
          53,
          54,
          55,
          56,
          57,
          58,
          59,
          60,
          61,
          62,
          63,
          64,
          65,
          66,
          67,
          68,
          69,
          70,
          71,
          72,
          73,
          74,
          75,
          76,
          77,
          78,
          79,
          80,
          81,
          82,
          83,
          84,
          85,
          86,
          87,
          88,
          89,
          90,
          91,
          92,
          93,
          94,
          95,
          96,
          97,
          98,
          99
         ],
         "xaxis": "x",
         "y": [
          0.0009564801530368245,
          0.0007173601147776184,
          0.00047824007651841227,
          0.0009564801530368245,
          0.00047824007651841227,
          0.0013151602104256336,
          0.0011956001912960307,
          0.0007173601147776184,
          0.00047824007651841227,
          0.0010760401721664275,
          0.00047824007651841227,
          0.0010760401721664275,
          0.0013151602104256336,
          0.0011956001912960307,
          0.00047824007651841227,
          0.00047824007651841227,
          0.0015542802486848398,
          0.0010760401721664275,
          0.0008369201339072215,
          0.0008369201339072215,
          0.0013151602104256336,
          0.0010760401721664275,
          0.0010760401721664275,
          0.0013151602104256336,
          0.0013151602104256336,
          0.001912960306073649,
          0.0007173601147776184,
          0.001673840267814443,
          0.0014347202295552368,
          0.002271640363462458,
          0.0015542802486848398,
          0.0014347202295552368,
          0.0020325203252032522,
          0.0015542802486848398,
          0.001673840267814443,
          0.0020325203252032522,
          0.001912960306073649,
          0.0013151602104256336,
          0.0013151602104256336,
          0.001912960306073649,
          0.002271640363462458,
          0.0020325203252032522,
          0.0013151602104256336,
          0.001673840267814443,
          0.0010760401721664275,
          0.002510760401721664,
          0.0023912003825920613,
          0.002152080344332855,
          0.0029890004782400764,
          0.002510760401721664,
          0.0020325203252032522,
          0.002510760401721664,
          0.003706360593017695,
          0.0040650406504065045,
          0.003706360593017695,
          0.004423720707795314,
          0.003706360593017695,
          0.0028694404591104736,
          0.003825920612147298,
          0.00430416068866571,
          0.0034672405547584886,
          0.004782400765184123,
          0.006695361071257772,
          0.005619320899091344,
          0.006097560975609756,
          0.005619320899091344,
          0.006097560975609756,
          0.007890961262553802,
          0.006336681013868962,
          0.007293161166905786,
          0.008727881396461024,
          0.007532281205164993,
          0.006336681013868962,
          0.008847441415590627,
          0.008488761358201818,
          0.00824964131994261,
          0.010999521759923482,
          0.011956001912960305,
          0.012314681970349114,
          0.012434241989478718,
          0.013390722142515544,
          0.01685796269727403,
          0.02032520325203252,
          0.022118603538976565,
          0.02427068388330942,
          0.028335724533715925,
          0.034911525585844094,
          0.03550932568149211,
          0.0429220468675275,
          0.05954088952654232,
          0.05583452893352463,
          0.05439980870396939,
          0.07077953132472502,
          0.07556193208990913,
          0.0703012912482066,
          0.050693448110951694,
          0.03873744619799139,
          0.019010043041606885,
          0.00585844093735055
         ],
         "yaxis": "y"
        },
        {
         "hovertemplate": "variable=L6<br>index=%{x}<br>value=%{y}<extra></extra>",
         "legendgroup": "L6",
         "line": {
          "color": "#EF553B",
          "dash": "solid"
         },
         "marker": {
          "symbol": "circle"
         },
         "mode": "lines",
         "name": "L6",
         "showlegend": true,
         "type": "scattergl",
         "x": [
          1,
          2,
          3,
          4,
          5,
          6,
          7,
          8,
          9,
          10,
          11,
          12,
          13,
          14,
          15,
          16,
          17,
          18,
          19,
          20,
          21,
          22,
          23,
          24,
          25,
          26,
          27,
          28,
          29,
          30,
          31,
          32,
          33,
          34,
          35,
          36,
          37,
          38,
          39,
          40,
          41,
          42,
          43,
          44,
          45,
          46,
          47,
          48,
          49,
          50,
          51,
          52,
          53,
          54,
          55,
          56,
          57,
          58,
          59,
          60,
          61,
          62,
          63,
          64,
          65,
          66,
          67,
          68,
          69,
          70,
          71,
          72,
          73,
          74,
          75,
          76,
          77,
          78,
          79,
          80,
          81,
          82,
          83,
          84,
          85,
          86,
          87,
          88,
          89,
          90,
          91,
          92,
          93,
          94,
          95,
          96,
          97,
          98,
          99
         ],
         "xaxis": "x",
         "y": [
          0.0014347202295552368,
          0.001673840267814443,
          0.0013151602104256336,
          0.002271640363462458,
          0.002271640363462458,
          0.0023912003825920613,
          0.0015542802486848398,
          0.001793400286944046,
          0.002510760401721664,
          0.001912960306073649,
          0.002271640363462458,
          0.0026303204208512673,
          0.001912960306073649,
          0.002510760401721664,
          0.0028694404591104736,
          0.0034672405547584886,
          0.0031085604973696795,
          0.0027498804399808704,
          0.004184600669536107,
          0.002271640363462458,
          0.0040650406504065045,
          0.0040650406504065045,
          0.003586800573888092,
          0.004782400765184123,
          0.00430416068866571,
          0.003586800573888092,
          0.003945480631276901,
          0.004543280726924916,
          0.00430416068866571,
          0.005380200860832138,
          0.00430416068866571,
          0.005021520803443328,
          0.005141080822572932,
          0.00585844093735055,
          0.006336681013868962,
          0.005141080822572932,
          0.006934481109516977,
          0.005619320899091344,
          0.00860832137733142,
          0.00824964131994261,
          0.007054041128646581,
          0.010640841702534673,
          0.009325681492109038,
          0.011836441893830704,
          0.012434241989478718,
          0.012434241989478718,
          0.017814442850310856,
          0.016260162601626018,
          0.016260162601626018,
          0.021401243424198947,
          0.019010043041606885,
          0.02223816355810617,
          0.02295552367288379,
          0.02259684361549498,
          0.02582496413199426,
          0.024390243902439025,
          0.02618364418938307,
          0.027259684361549498,
          0.02773792443806791,
          0.027977044476327116,
          0.027857484457197514,
          0.02582496413199426,
          0.026422764227642278,
          0.028455284552845527,
          0.03000956480153037,
          0.027977044476327116,
          0.02893352462936394,
          0.028335724533715925,
          0.024988043998087038,
          0.02773792443806791,
          0.024988043998087038,
          0.02259684361549498,
          0.020205643232902918,
          0.019727403156384504,
          0.015901482544237205,
          0.014108082257293162,
          0.010760401721664276,
          0.010879961740793878,
          0.007651841224294596,
          0.006456241032998565,
          0.007532281205164993,
          0.006217120994739359,
          0.0034672405547584886,
          0.002510760401721664,
          0.004543280726924916,
          0.002152080344332855,
          0.002152080344332855,
          0.002152080344332855,
          0.002510760401721664,
          0.001793400286944046,
          0.0008369201339072215,
          0.0007173601147776184,
          0.0005978000956480153,
          0.00047824007651841227,
          0,
          0,
          0,
          0,
          0
         ],
         "yaxis": "y"
        },
        {
         "hovertemplate": "variable=L7<br>index=%{x}<br>value=%{y}<extra></extra>",
         "legendgroup": "L7",
         "line": {
          "color": "#00cc96",
          "dash": "solid"
         },
         "marker": {
          "symbol": "circle"
         },
         "mode": "lines",
         "name": "L7",
         "showlegend": true,
         "type": "scattergl",
         "x": [
          1,
          2,
          3,
          4,
          5,
          6,
          7,
          8,
          9,
          10,
          11,
          12,
          13,
          14,
          15,
          16,
          17,
          18,
          19,
          20,
          21,
          22,
          23,
          24,
          25,
          26,
          27,
          28,
          29,
          30,
          31,
          32,
          33,
          34,
          35,
          36,
          37,
          38,
          39,
          40,
          41,
          42,
          43,
          44,
          45,
          46,
          47,
          48,
          49,
          50,
          51,
          52,
          53,
          54,
          55,
          56,
          57,
          58,
          59,
          60,
          61,
          62,
          63,
          64,
          65,
          66,
          67,
          68,
          69,
          70,
          71,
          72,
          73,
          74,
          75,
          76,
          77,
          78,
          79,
          80,
          81,
          82,
          83,
          84,
          85,
          86,
          87,
          88,
          89,
          90,
          91,
          92,
          93,
          94,
          95,
          96,
          97,
          98,
          99
         ],
         "xaxis": "x",
         "y": [
          0.0026303204208512673,
          0.0020325203252032522,
          0.001912960306073649,
          0.001912960306073649,
          0.001793400286944046,
          0.002152080344332855,
          0.001912960306073649,
          0.002271640363462458,
          0.001912960306073649,
          0.0013151602104256336,
          0.0020325203252032522,
          0.0032281205164992827,
          0.002271640363462458,
          0.002510760401721664,
          0.0029890004782400764,
          0.0028694404591104736,
          0.0028694404591104736,
          0.0028694404591104736,
          0.0029890004782400764,
          0.0034672405547584886,
          0.003586800573888092,
          0.003825920612147298,
          0.00430416068866571,
          0.004782400765184123,
          0.004423720707795314,
          0.00430416068866571,
          0.0040650406504065045,
          0.004184600669536107,
          0.003825920612147298,
          0.004423720707795314,
          0.0034672405547584886,
          0.004662840746054519,
          0.005738880918220947,
          0.005738880918220947,
          0.0052606408417025345,
          0.004423720707795314,
          0.005021520803443328,
          0.005380200860832138,
          0.004782400765184123,
          0.00741272118603539,
          0.006575801052128168,
          0.007532281205164993,
          0.006934481109516977,
          0.008369201339072214,
          0.00741272118603539,
          0.009445241511238642,
          0.007651841224294596,
          0.009564801530368245,
          0.008369201339072214,
          0.009564801530368245,
          0.011836441893830704,
          0.009684361549497847,
          0.012792922046867527,
          0.011238641798182687,
          0.011477761836441894,
          0.011836441893830704,
          0.010999521759923482,
          0.01446676231468197,
          0.015423242467718794,
          0.01685796269727403,
          0.017694882831181254,
          0.016260162601626018,
          0.018053562888570063,
          0.015901482544237205,
          0.020086083213773313,
          0.018531802965088474,
          0.02271640363462458,
          0.02271640363462458,
          0.02391200382592061,
          0.021042563366810138,
          0.02606408417025347,
          0.025585844093735054,
          0.025346724055475847,
          0.0234337637494022,
          0.024868483978957436,
          0.025227164036346245,
          0.024151123864179818,
          0.0235533237685318,
          0.02654232424677188,
          0.024390243902439025,
          0.027977044476327116,
          0.03000956480153037,
          0.02893352462936394,
          0.025346724055475847,
          0.022835963653754184,
          0.017336202773792445,
          0.016618842659014827,
          0.01291248206599713,
          0.00860832137733142,
          0.0068149210903873745,
          0.003347680535628886,
          0.001793400286944046,
          0.0009564801530368245,
          0.0008369201339072215,
          0,
          0,
          0,
          0,
          0
         ],
         "yaxis": "y"
        },
        {
         "hovertemplate": "variable=L16<br>index=%{x}<br>value=%{y}<extra></extra>",
         "legendgroup": "L16",
         "line": {
          "color": "#ab63fa",
          "dash": "solid"
         },
         "marker": {
          "symbol": "circle"
         },
         "mode": "lines",
         "name": "L16",
         "showlegend": true,
         "type": "scattergl",
         "x": [
          1,
          2,
          3,
          4,
          5,
          6,
          7,
          8,
          9,
          10,
          11,
          12,
          13,
          14,
          15,
          16,
          17,
          18,
          19,
          20,
          21,
          22,
          23,
          24,
          25,
          26,
          27,
          28,
          29,
          30,
          31,
          32,
          33,
          34,
          35,
          36,
          37,
          38,
          39,
          40,
          41,
          42,
          43,
          44,
          45,
          46,
          47,
          48,
          49,
          50,
          51,
          52,
          53,
          54,
          55,
          56,
          57,
          58,
          59,
          60,
          61,
          62,
          63,
          64,
          65,
          66,
          67,
          68,
          69,
          70,
          71,
          72,
          73,
          74,
          75,
          76,
          77,
          78,
          79,
          80,
          81,
          82,
          83,
          84,
          85,
          86,
          87,
          88,
          89,
          90,
          91,
          92,
          93,
          94,
          95,
          96,
          97,
          98,
          99
         ],
         "xaxis": "x",
         "y": [
          0.0009564801530368245,
          0.001912960306073649,
          0.0011956001912960307,
          0.0020325203252032522,
          0.0015542802486848398,
          0.001793400286944046,
          0.001673840267814443,
          0.002152080344332855,
          0.0014347202295552368,
          0.0015542802486848398,
          0.0011956001912960307,
          0.0008369201339072215,
          0.0014347202295552368,
          0.0013151602104256336,
          0.0020325203252032522,
          0.0013151602104256336,
          0.0023912003825920613,
          0.001793400286944046,
          0.001793400286944046,
          0.002510760401721664,
          0.002271640363462458,
          0.002152080344332855,
          0.001912960306073649,
          0.002152080344332855,
          0.003706360593017695,
          0.0027498804399808704,
          0.0031085604973696795,
          0.003825920612147298,
          0.003347680535628886,
          0.0040650406504065045,
          0.003706360593017695,
          0.004543280726924916,
          0.00430416068866571,
          0.003586800573888092,
          0.005141080822572932,
          0.005021520803443328,
          0.004662840746054519,
          0.006336681013868962,
          0.004184600669536107,
          0.007293161166905786,
          0.004423720707795314,
          0.006217120994739359,
          0.00585844093735055,
          0.008967001434720229,
          0.006575801052128168,
          0.007293161166905786,
          0.00741272118603539,
          0.010043041606886656,
          0.00980392156862745,
          0.009445241511238642,
          0.009086561453849833,
          0.009325681492109038,
          0.009206121472979436,
          0.011956001912960305,
          0.0117168818747011,
          0.013868962219033954,
          0.013390722142515544,
          0.014227642276422764,
          0.016260162601626018,
          0.01446676231468197,
          0.016977522716403636,
          0.016260162601626018,
          0.017934002869440458,
          0.01649928263988522,
          0.017694882831181254,
          0.020086083213773313,
          0.017934002869440458,
          0.020444763271162122,
          0.01673840267814443,
          0.022477283596365374,
          0.020923003347680536,
          0.02068388330942133,
          0.020205643232902918,
          0.022118603538976565,
          0.025107604017216643,
          0.030368244858919178,
          0.029053084648493543,
          0.028455284552845527,
          0.032879005260640845,
          0.03395504543280727,
          0.03299856527977044,
          0.028335724533715925,
          0.030966044954567194,
          0.028574844571975132,
          0.027857484457197514,
          0.02271640363462458,
          0.01877092300334768,
          0.015781922525107604,
          0.013151602104256336,
          0.009325681492109038,
          0.005978000956480153,
          0.00430416068866571,
          0.0020325203252032522,
          0.0011956001912960307,
          0.0005978000956480153,
          0.00011956001912960307,
          0,
          0,
          0
         ],
         "yaxis": "y"
        },
        {
         "hovertemplate": "variable=L9<br>index=%{x}<br>value=%{y}<extra></extra>",
         "legendgroup": "L9",
         "line": {
          "color": "#FFA15A",
          "dash": "solid"
         },
         "marker": {
          "symbol": "circle"
         },
         "mode": "lines",
         "name": "L9",
         "showlegend": true,
         "type": "scattergl",
         "x": [
          1,
          2,
          3,
          4,
          5,
          6,
          7,
          8,
          9,
          10,
          11,
          12,
          13,
          14,
          15,
          16,
          17,
          18,
          19,
          20,
          21,
          22,
          23,
          24,
          25,
          26,
          27,
          28,
          29,
          30,
          31,
          32,
          33,
          34,
          35,
          36,
          37,
          38,
          39,
          40,
          41,
          42,
          43,
          44,
          45,
          46,
          47,
          48,
          49,
          50,
          51,
          52,
          53,
          54,
          55,
          56,
          57,
          58,
          59,
          60,
          61,
          62,
          63,
          64,
          65,
          66,
          67,
          68,
          69,
          70,
          71,
          72,
          73,
          74,
          75,
          76,
          77,
          78,
          79,
          80,
          81,
          82,
          83,
          84,
          85,
          86,
          87,
          88,
          89,
          90,
          91,
          92,
          93,
          94,
          95,
          96,
          97,
          98,
          99
         ],
         "xaxis": "x",
         "y": [
          0.0011956001912960307,
          0.0013151602104256336,
          0.0008369201339072215,
          0.0010760401721664275,
          0.0009564801530368245,
          0.0007173601147776184,
          0.0013151602104256336,
          0.00047824007651841227,
          0.0011956001912960307,
          0.001673840267814443,
          0.0009564801530368245,
          0.0013151602104256336,
          0.001912960306073649,
          0.0010760401721664275,
          0.0011956001912960307,
          0.00047824007651841227,
          0.0014347202295552368,
          0.001673840267814443,
          0.001793400286944046,
          0.0020325203252032522,
          0.0003586800573888092,
          0.0010760401721664275,
          0.0026303204208512673,
          0.0013151602104256336,
          0.0015542802486848398,
          0.001793400286944046,
          0.0014347202295552368,
          0.0020325203252032522,
          0.002152080344332855,
          0.002271640363462458,
          0.0040650406504065045,
          0.002510760401721664,
          0.004782400765184123,
          0.003825920612147298,
          0.003586800573888092,
          0.003945480631276901,
          0.003706360593017695,
          0.002271640363462458,
          0.0032281205164992827,
          0.003945480631276901,
          0.003945480631276901,
          0.0052606408417025345,
          0.005141080822572932,
          0.0052606408417025345,
          0.00585844093735055,
          0.0068149210903873745,
          0.008967001434720229,
          0.008727881396461024,
          0.006575801052128168,
          0.007532281205164993,
          0.006695361071257772,
          0.007293161166905786,
          0.006934481109516977,
          0.008967001434720229,
          0.009564801530368245,
          0.009684361549497847,
          0.009923481587757054,
          0.012434241989478718,
          0.010879961740793878,
          0.010640841702534673,
          0.011477761836441894,
          0.011597321855571496,
          0.01649928263988522,
          0.018890483022477284,
          0.01482544237207078,
          0.017694882831181254,
          0.0196078431372549,
          0.021520803443328552,
          0.023672883787661407,
          0.02702056432329029,
          0.02462936394069823,
          0.024748923959827834,
          0.025346724055475847,
          0.025944524151123863,
          0.027977044476327116,
          0.030368244858919178,
          0.03431372549019608,
          0.03335724533715925,
          0.031085604973696796,
          0.0390961262553802,
          0.026781444285031087,
          0.023194643711142993,
          0.022118603538976565,
          0.02427068388330942,
          0.018890483022477284,
          0.018173122907699665,
          0.0196078431372549,
          0.01912960306073649,
          0.02223816355810617,
          0.020444763271162122,
          0.013629842180774749,
          0.019727403156384504,
          0.014705882352941176,
          0.006336681013868962,
          0.004184600669536107,
          0.004662840746054519,
          0.003706360593017695,
          0.003586800573888092,
          0.0007173601147776184
         ],
         "yaxis": "y"
        }
       ],
       "layout": {
        "height": 720,
        "legend": {
         "title": {},
         "tracegroupgap": 0
        },
        "margin": {
         "t": 60
        },
        "template": {
         "data": {
          "bar": [
           {
            "error_x": {
             "color": "rgb(36,36,36)"
            },
            "error_y": {
             "color": "rgb(36,36,36)"
            },
            "marker": {
             "line": {
              "color": "white",
              "width": 0.5
             },
             "pattern": {
              "fillmode": "overlay",
              "size": 10,
              "solidity": 0.2
             }
            },
            "type": "bar"
           }
          ],
          "barpolar": [
           {
            "marker": {
             "line": {
              "color": "white",
              "width": 0.5
             },
             "pattern": {
              "fillmode": "overlay",
              "size": 10,
              "solidity": 0.2
             }
            },
            "type": "barpolar"
           }
          ],
          "carpet": [
           {
            "aaxis": {
             "endlinecolor": "rgb(36,36,36)",
             "gridcolor": "white",
             "linecolor": "white",
             "minorgridcolor": "white",
             "startlinecolor": "rgb(36,36,36)"
            },
            "baxis": {
             "endlinecolor": "rgb(36,36,36)",
             "gridcolor": "white",
             "linecolor": "white",
             "minorgridcolor": "white",
             "startlinecolor": "rgb(36,36,36)"
            },
            "type": "carpet"
           }
          ],
          "choropleth": [
           {
            "colorbar": {
             "outlinewidth": 1,
             "tickcolor": "rgb(36,36,36)",
             "ticks": "outside"
            },
            "type": "choropleth"
           }
          ],
          "contour": [
           {
            "colorbar": {
             "outlinewidth": 1,
             "tickcolor": "rgb(36,36,36)",
             "ticks": "outside"
            },
            "colorscale": [
             [
              0,
              "#440154"
             ],
             [
              0.1111111111111111,
              "#482878"
             ],
             [
              0.2222222222222222,
              "#3e4989"
             ],
             [
              0.3333333333333333,
              "#31688e"
             ],
             [
              0.4444444444444444,
              "#26828e"
             ],
             [
              0.5555555555555556,
              "#1f9e89"
             ],
             [
              0.6666666666666666,
              "#35b779"
             ],
             [
              0.7777777777777778,
              "#6ece58"
             ],
             [
              0.8888888888888888,
              "#b5de2b"
             ],
             [
              1,
              "#fde725"
             ]
            ],
            "type": "contour"
           }
          ],
          "contourcarpet": [
           {
            "colorbar": {
             "outlinewidth": 1,
             "tickcolor": "rgb(36,36,36)",
             "ticks": "outside"
            },
            "type": "contourcarpet"
           }
          ],
          "heatmap": [
           {
            "colorbar": {
             "outlinewidth": 1,
             "tickcolor": "rgb(36,36,36)",
             "ticks": "outside"
            },
            "colorscale": [
             [
              0,
              "#440154"
             ],
             [
              0.1111111111111111,
              "#482878"
             ],
             [
              0.2222222222222222,
              "#3e4989"
             ],
             [
              0.3333333333333333,
              "#31688e"
             ],
             [
              0.4444444444444444,
              "#26828e"
             ],
             [
              0.5555555555555556,
              "#1f9e89"
             ],
             [
              0.6666666666666666,
              "#35b779"
             ],
             [
              0.7777777777777778,
              "#6ece58"
             ],
             [
              0.8888888888888888,
              "#b5de2b"
             ],
             [
              1,
              "#fde725"
             ]
            ],
            "type": "heatmap"
           }
          ],
          "heatmapgl": [
           {
            "colorbar": {
             "outlinewidth": 1,
             "tickcolor": "rgb(36,36,36)",
             "ticks": "outside"
            },
            "colorscale": [
             [
              0,
              "#440154"
             ],
             [
              0.1111111111111111,
              "#482878"
             ],
             [
              0.2222222222222222,
              "#3e4989"
             ],
             [
              0.3333333333333333,
              "#31688e"
             ],
             [
              0.4444444444444444,
              "#26828e"
             ],
             [
              0.5555555555555556,
              "#1f9e89"
             ],
             [
              0.6666666666666666,
              "#35b779"
             ],
             [
              0.7777777777777778,
              "#6ece58"
             ],
             [
              0.8888888888888888,
              "#b5de2b"
             ],
             [
              1,
              "#fde725"
             ]
            ],
            "type": "heatmapgl"
           }
          ],
          "histogram": [
           {
            "marker": {
             "line": {
              "color": "white",
              "width": 0.6
             }
            },
            "type": "histogram"
           }
          ],
          "histogram2d": [
           {
            "colorbar": {
             "outlinewidth": 1,
             "tickcolor": "rgb(36,36,36)",
             "ticks": "outside"
            },
            "colorscale": [
             [
              0,
              "#440154"
             ],
             [
              0.1111111111111111,
              "#482878"
             ],
             [
              0.2222222222222222,
              "#3e4989"
             ],
             [
              0.3333333333333333,
              "#31688e"
             ],
             [
              0.4444444444444444,
              "#26828e"
             ],
             [
              0.5555555555555556,
              "#1f9e89"
             ],
             [
              0.6666666666666666,
              "#35b779"
             ],
             [
              0.7777777777777778,
              "#6ece58"
             ],
             [
              0.8888888888888888,
              "#b5de2b"
             ],
             [
              1,
              "#fde725"
             ]
            ],
            "type": "histogram2d"
           }
          ],
          "histogram2dcontour": [
           {
            "colorbar": {
             "outlinewidth": 1,
             "tickcolor": "rgb(36,36,36)",
             "ticks": "outside"
            },
            "colorscale": [
             [
              0,
              "#440154"
             ],
             [
              0.1111111111111111,
              "#482878"
             ],
             [
              0.2222222222222222,
              "#3e4989"
             ],
             [
              0.3333333333333333,
              "#31688e"
             ],
             [
              0.4444444444444444,
              "#26828e"
             ],
             [
              0.5555555555555556,
              "#1f9e89"
             ],
             [
              0.6666666666666666,
              "#35b779"
             ],
             [
              0.7777777777777778,
              "#6ece58"
             ],
             [
              0.8888888888888888,
              "#b5de2b"
             ],
             [
              1,
              "#fde725"
             ]
            ],
            "type": "histogram2dcontour"
           }
          ],
          "mesh3d": [
           {
            "colorbar": {
             "outlinewidth": 1,
             "tickcolor": "rgb(36,36,36)",
             "ticks": "outside"
            },
            "type": "mesh3d"
           }
          ],
          "parcoords": [
           {
            "line": {
             "colorbar": {
              "outlinewidth": 1,
              "tickcolor": "rgb(36,36,36)",
              "ticks": "outside"
             }
            },
            "type": "parcoords"
           }
          ],
          "pie": [
           {
            "automargin": true,
            "type": "pie"
           }
          ],
          "scatter": [
           {
            "fillpattern": {
             "fillmode": "overlay",
             "size": 10,
             "solidity": 0.2
            },
            "type": "scatter"
           }
          ],
          "scatter3d": [
           {
            "line": {
             "colorbar": {
              "outlinewidth": 1,
              "tickcolor": "rgb(36,36,36)",
              "ticks": "outside"
             }
            },
            "marker": {
             "colorbar": {
              "outlinewidth": 1,
              "tickcolor": "rgb(36,36,36)",
              "ticks": "outside"
             }
            },
            "type": "scatter3d"
           }
          ],
          "scattercarpet": [
           {
            "marker": {
             "colorbar": {
              "outlinewidth": 1,
              "tickcolor": "rgb(36,36,36)",
              "ticks": "outside"
             }
            },
            "type": "scattercarpet"
           }
          ],
          "scattergeo": [
           {
            "marker": {
             "colorbar": {
              "outlinewidth": 1,
              "tickcolor": "rgb(36,36,36)",
              "ticks": "outside"
             }
            },
            "type": "scattergeo"
           }
          ],
          "scattergl": [
           {
            "marker": {
             "colorbar": {
              "outlinewidth": 1,
              "tickcolor": "rgb(36,36,36)",
              "ticks": "outside"
             }
            },
            "type": "scattergl"
           }
          ],
          "scattermapbox": [
           {
            "marker": {
             "colorbar": {
              "outlinewidth": 1,
              "tickcolor": "rgb(36,36,36)",
              "ticks": "outside"
             }
            },
            "type": "scattermapbox"
           }
          ],
          "scatterpolar": [
           {
            "marker": {
             "colorbar": {
              "outlinewidth": 1,
              "tickcolor": "rgb(36,36,36)",
              "ticks": "outside"
             }
            },
            "type": "scatterpolar"
           }
          ],
          "scatterpolargl": [
           {
            "marker": {
             "colorbar": {
              "outlinewidth": 1,
              "tickcolor": "rgb(36,36,36)",
              "ticks": "outside"
             }
            },
            "type": "scatterpolargl"
           }
          ],
          "scatterternary": [
           {
            "marker": {
             "colorbar": {
              "outlinewidth": 1,
              "tickcolor": "rgb(36,36,36)",
              "ticks": "outside"
             }
            },
            "type": "scatterternary"
           }
          ],
          "surface": [
           {
            "colorbar": {
             "outlinewidth": 1,
             "tickcolor": "rgb(36,36,36)",
             "ticks": "outside"
            },
            "colorscale": [
             [
              0,
              "#440154"
             ],
             [
              0.1111111111111111,
              "#482878"
             ],
             [
              0.2222222222222222,
              "#3e4989"
             ],
             [
              0.3333333333333333,
              "#31688e"
             ],
             [
              0.4444444444444444,
              "#26828e"
             ],
             [
              0.5555555555555556,
              "#1f9e89"
             ],
             [
              0.6666666666666666,
              "#35b779"
             ],
             [
              0.7777777777777778,
              "#6ece58"
             ],
             [
              0.8888888888888888,
              "#b5de2b"
             ],
             [
              1,
              "#fde725"
             ]
            ],
            "type": "surface"
           }
          ],
          "table": [
           {
            "cells": {
             "fill": {
              "color": "rgb(237,237,237)"
             },
             "line": {
              "color": "white"
             }
            },
            "header": {
             "fill": {
              "color": "rgb(217,217,217)"
             },
             "line": {
              "color": "white"
             }
            },
            "type": "table"
           }
          ]
         },
         "layout": {
          "annotationdefaults": {
           "arrowhead": 0,
           "arrowwidth": 1
          },
          "autotypenumbers": "strict",
          "coloraxis": {
           "colorbar": {
            "outlinewidth": 1,
            "tickcolor": "rgb(36,36,36)",
            "ticks": "outside"
           }
          },
          "colorscale": {
           "diverging": [
            [
             0,
             "rgb(103,0,31)"
            ],
            [
             0.1,
             "rgb(178,24,43)"
            ],
            [
             0.2,
             "rgb(214,96,77)"
            ],
            [
             0.3,
             "rgb(244,165,130)"
            ],
            [
             0.4,
             "rgb(253,219,199)"
            ],
            [
             0.5,
             "rgb(247,247,247)"
            ],
            [
             0.6,
             "rgb(209,229,240)"
            ],
            [
             0.7,
             "rgb(146,197,222)"
            ],
            [
             0.8,
             "rgb(67,147,195)"
            ],
            [
             0.9,
             "rgb(33,102,172)"
            ],
            [
             1,
             "rgb(5,48,97)"
            ]
           ],
           "sequential": [
            [
             0,
             "#440154"
            ],
            [
             0.1111111111111111,
             "#482878"
            ],
            [
             0.2222222222222222,
             "#3e4989"
            ],
            [
             0.3333333333333333,
             "#31688e"
            ],
            [
             0.4444444444444444,
             "#26828e"
            ],
            [
             0.5555555555555556,
             "#1f9e89"
            ],
            [
             0.6666666666666666,
             "#35b779"
            ],
            [
             0.7777777777777778,
             "#6ece58"
            ],
            [
             0.8888888888888888,
             "#b5de2b"
            ],
            [
             1,
             "#fde725"
            ]
           ],
           "sequentialminus": [
            [
             0,
             "#440154"
            ],
            [
             0.1111111111111111,
             "#482878"
            ],
            [
             0.2222222222222222,
             "#3e4989"
            ],
            [
             0.3333333333333333,
             "#31688e"
            ],
            [
             0.4444444444444444,
             "#26828e"
            ],
            [
             0.5555555555555556,
             "#1f9e89"
            ],
            [
             0.6666666666666666,
             "#35b779"
            ],
            [
             0.7777777777777778,
             "#6ece58"
            ],
            [
             0.8888888888888888,
             "#b5de2b"
            ],
            [
             1,
             "#fde725"
            ]
           ]
          },
          "colorway": [
           "#1F77B4",
           "#FF7F0E",
           "#2CA02C",
           "#D62728",
           "#9467BD",
           "#8C564B",
           "#E377C2",
           "#7F7F7F",
           "#BCBD22",
           "#17BECF"
          ],
          "font": {
           "color": "rgb(36,36,36)"
          },
          "geo": {
           "bgcolor": "white",
           "lakecolor": "white",
           "landcolor": "white",
           "showlakes": true,
           "showland": true,
           "subunitcolor": "white"
          },
          "hoverlabel": {
           "align": "left"
          },
          "hovermode": "closest",
          "mapbox": {
           "style": "light"
          },
          "paper_bgcolor": "white",
          "plot_bgcolor": "white",
          "polar": {
           "angularaxis": {
            "gridcolor": "rgb(232,232,232)",
            "linecolor": "rgb(36,36,36)",
            "showgrid": false,
            "showline": true,
            "ticks": "outside"
           },
           "bgcolor": "white",
           "radialaxis": {
            "gridcolor": "rgb(232,232,232)",
            "linecolor": "rgb(36,36,36)",
            "showgrid": false,
            "showline": true,
            "ticks": "outside"
           }
          },
          "scene": {
           "xaxis": {
            "backgroundcolor": "white",
            "gridcolor": "rgb(232,232,232)",
            "gridwidth": 2,
            "linecolor": "rgb(36,36,36)",
            "showbackground": true,
            "showgrid": false,
            "showline": true,
            "ticks": "outside",
            "zeroline": false,
            "zerolinecolor": "rgb(36,36,36)"
           },
           "yaxis": {
            "backgroundcolor": "white",
            "gridcolor": "rgb(232,232,232)",
            "gridwidth": 2,
            "linecolor": "rgb(36,36,36)",
            "showbackground": true,
            "showgrid": false,
            "showline": true,
            "ticks": "outside",
            "zeroline": false,
            "zerolinecolor": "rgb(36,36,36)"
           },
           "zaxis": {
            "backgroundcolor": "white",
            "gridcolor": "rgb(232,232,232)",
            "gridwidth": 2,
            "linecolor": "rgb(36,36,36)",
            "showbackground": true,
            "showgrid": false,
            "showline": true,
            "ticks": "outside",
            "zeroline": false,
            "zerolinecolor": "rgb(36,36,36)"
           }
          },
          "shapedefaults": {
           "fillcolor": "black",
           "line": {
            "width": 0
           },
           "opacity": 0.3
          },
          "ternary": {
           "aaxis": {
            "gridcolor": "rgb(232,232,232)",
            "linecolor": "rgb(36,36,36)",
            "showgrid": false,
            "showline": true,
            "ticks": "outside"
           },
           "baxis": {
            "gridcolor": "rgb(232,232,232)",
            "linecolor": "rgb(36,36,36)",
            "showgrid": false,
            "showline": true,
            "ticks": "outside"
           },
           "bgcolor": "white",
           "caxis": {
            "gridcolor": "rgb(232,232,232)",
            "linecolor": "rgb(36,36,36)",
            "showgrid": false,
            "showline": true,
            "ticks": "outside"
           }
          },
          "title": {
           "x": 0.05
          },
          "xaxis": {
           "automargin": true,
           "gridcolor": "rgb(232,232,232)",
           "linecolor": "rgb(36,36,36)",
           "showgrid": false,
           "showline": true,
           "ticks": "outside",
           "title": {
            "standoff": 15
           },
           "zeroline": false,
           "zerolinecolor": "rgb(36,36,36)"
          },
          "yaxis": {
           "automargin": true,
           "gridcolor": "rgb(232,232,232)",
           "linecolor": "rgb(36,36,36)",
           "showgrid": false,
           "showline": true,
           "ticks": "outside",
           "title": {
            "standoff": 15
           },
           "zeroline": false,
           "zerolinecolor": "rgb(36,36,36)"
          }
         }
        },
        "width": 980,
        "xaxis": {
         "anchor": "y",
         "domain": [
          0,
          1
         ],
         "tickangle": -4,
         "title": {
          "text": "ee"
         }
        },
        "yaxis": {
         "anchor": "x",
         "domain": [
          0,
          1
         ],
         "title": {
          "text": "Frequency"
         }
        }
       }
      }
     },
     "metadata": {},
     "output_type": "display_data"
    }
   ],
   "source": [
    "fig = px.line(percentage_df)\n",
    "\n",
    "# Customize the layout\n",
    "fig.update_layout(xaxis_title='ee', yaxis_title='Frequency', legend_title=None, xaxis_tickangle=-4,template='simple_white',width=980, height=720,\n",
    "                  )\n",
    "\n",
    "# Show the plot\n",
    "fig.show()"
   ]
  },
  {
   "cell_type": "markdown",
   "metadata": {},
   "source": [
    "# Risk Metrics"
   ]
  },
  {
   "cell_type": "code",
   "execution_count": 39,
   "metadata": {},
   "outputs": [
    {
     "data": {
      "application/vnd.plotly.v1+json": {
       "config": {
        "plotlyServerURL": "https://plot.ly"
       },
       "data": [
        {
         "alignmentgroup": "True",
         "hovertemplate": "level_1=ES<br>Predicted ee=%{x}<br>Catalyst_Ar_grp=%{y}<extra></extra>",
         "legendgroup": "ES",
         "marker": {
          "color": "#1F77B4",
          "pattern": {
           "shape": ""
          }
         },
         "name": "ES",
         "offsetgroup": "ES",
         "orientation": "h",
         "showlegend": true,
         "textposition": "auto",
         "type": "bar",
         "x": [
          16.72747180261649,
          17.551743677832736,
          18.940318504704898,
          19.23609745635723,
          19.614693899139787,
          20.803817513203107,
          21.584228455616486,
          22.017484700800477,
          22.688160330442052,
          22.998737550274793,
          23.960189824014336,
          25.748916654910396,
          29.197106882341696,
          29.440262558162484,
          37.52746570144086
         ],
         "xaxis": "x",
         "y": [
          "L2",
          "L15",
          "L7",
          "L6",
          "L1",
          "L13",
          "L4",
          "L10",
          "L5",
          "L12",
          "L16",
          "L8",
          "L9",
          "L11",
          "L14"
         ],
         "yaxis": "y"
        },
        {
         "alignmentgroup": "True",
         "hovertemplate": "level_1=VAR<br>Predicted ee=%{x}<br>Catalyst_Ar_grp=%{y}<extra></extra>",
         "legendgroup": "VAR",
         "marker": {
          "color": "#FF7F0E",
          "pattern": {
           "shape": ""
          }
         },
         "name": "VAR",
         "offsetgroup": "VAR",
         "orientation": "h",
         "showlegend": true,
         "textposition": "auto",
         "type": "bar",
         "x": [
          28.3024253,
          30.425407999999997,
          31.404380399999997,
          32.266681,
          32.414109599999996,
          33.3455185,
          35.406400999999995,
          35.47801,
          36.0194505,
          36.896173499999996,
          38.221631099999996,
          39.9489618,
          44.507453299999995,
          45.9800986,
          58.9705655
         ],
         "xaxis": "x",
         "y": [
          "L2",
          "L15",
          "L1",
          "L6",
          "L7",
          "L13",
          "L5",
          "L4",
          "L10",
          "L12",
          "L16",
          "L8",
          "L9",
          "L11",
          "L14"
         ],
         "yaxis": "y"
        }
       ],
       "layout": {
        "barmode": "group",
        "font": {
         "size": 8
        },
        "legend": {
         "title": {},
         "tracegroupgap": 0
        },
        "template": {
         "data": {
          "bar": [
           {
            "error_x": {
             "color": "rgb(36,36,36)"
            },
            "error_y": {
             "color": "rgb(36,36,36)"
            },
            "marker": {
             "line": {
              "color": "white",
              "width": 0.5
             },
             "pattern": {
              "fillmode": "overlay",
              "size": 10,
              "solidity": 0.2
             }
            },
            "type": "bar"
           }
          ],
          "barpolar": [
           {
            "marker": {
             "line": {
              "color": "white",
              "width": 0.5
             },
             "pattern": {
              "fillmode": "overlay",
              "size": 10,
              "solidity": 0.2
             }
            },
            "type": "barpolar"
           }
          ],
          "carpet": [
           {
            "aaxis": {
             "endlinecolor": "rgb(36,36,36)",
             "gridcolor": "white",
             "linecolor": "white",
             "minorgridcolor": "white",
             "startlinecolor": "rgb(36,36,36)"
            },
            "baxis": {
             "endlinecolor": "rgb(36,36,36)",
             "gridcolor": "white",
             "linecolor": "white",
             "minorgridcolor": "white",
             "startlinecolor": "rgb(36,36,36)"
            },
            "type": "carpet"
           }
          ],
          "choropleth": [
           {
            "colorbar": {
             "outlinewidth": 1,
             "tickcolor": "rgb(36,36,36)",
             "ticks": "outside"
            },
            "type": "choropleth"
           }
          ],
          "contour": [
           {
            "colorbar": {
             "outlinewidth": 1,
             "tickcolor": "rgb(36,36,36)",
             "ticks": "outside"
            },
            "colorscale": [
             [
              0,
              "#440154"
             ],
             [
              0.1111111111111111,
              "#482878"
             ],
             [
              0.2222222222222222,
              "#3e4989"
             ],
             [
              0.3333333333333333,
              "#31688e"
             ],
             [
              0.4444444444444444,
              "#26828e"
             ],
             [
              0.5555555555555556,
              "#1f9e89"
             ],
             [
              0.6666666666666666,
              "#35b779"
             ],
             [
              0.7777777777777778,
              "#6ece58"
             ],
             [
              0.8888888888888888,
              "#b5de2b"
             ],
             [
              1,
              "#fde725"
             ]
            ],
            "type": "contour"
           }
          ],
          "contourcarpet": [
           {
            "colorbar": {
             "outlinewidth": 1,
             "tickcolor": "rgb(36,36,36)",
             "ticks": "outside"
            },
            "type": "contourcarpet"
           }
          ],
          "heatmap": [
           {
            "colorbar": {
             "outlinewidth": 1,
             "tickcolor": "rgb(36,36,36)",
             "ticks": "outside"
            },
            "colorscale": [
             [
              0,
              "#440154"
             ],
             [
              0.1111111111111111,
              "#482878"
             ],
             [
              0.2222222222222222,
              "#3e4989"
             ],
             [
              0.3333333333333333,
              "#31688e"
             ],
             [
              0.4444444444444444,
              "#26828e"
             ],
             [
              0.5555555555555556,
              "#1f9e89"
             ],
             [
              0.6666666666666666,
              "#35b779"
             ],
             [
              0.7777777777777778,
              "#6ece58"
             ],
             [
              0.8888888888888888,
              "#b5de2b"
             ],
             [
              1,
              "#fde725"
             ]
            ],
            "type": "heatmap"
           }
          ],
          "heatmapgl": [
           {
            "colorbar": {
             "outlinewidth": 1,
             "tickcolor": "rgb(36,36,36)",
             "ticks": "outside"
            },
            "colorscale": [
             [
              0,
              "#440154"
             ],
             [
              0.1111111111111111,
              "#482878"
             ],
             [
              0.2222222222222222,
              "#3e4989"
             ],
             [
              0.3333333333333333,
              "#31688e"
             ],
             [
              0.4444444444444444,
              "#26828e"
             ],
             [
              0.5555555555555556,
              "#1f9e89"
             ],
             [
              0.6666666666666666,
              "#35b779"
             ],
             [
              0.7777777777777778,
              "#6ece58"
             ],
             [
              0.8888888888888888,
              "#b5de2b"
             ],
             [
              1,
              "#fde725"
             ]
            ],
            "type": "heatmapgl"
           }
          ],
          "histogram": [
           {
            "marker": {
             "line": {
              "color": "white",
              "width": 0.6
             }
            },
            "type": "histogram"
           }
          ],
          "histogram2d": [
           {
            "colorbar": {
             "outlinewidth": 1,
             "tickcolor": "rgb(36,36,36)",
             "ticks": "outside"
            },
            "colorscale": [
             [
              0,
              "#440154"
             ],
             [
              0.1111111111111111,
              "#482878"
             ],
             [
              0.2222222222222222,
              "#3e4989"
             ],
             [
              0.3333333333333333,
              "#31688e"
             ],
             [
              0.4444444444444444,
              "#26828e"
             ],
             [
              0.5555555555555556,
              "#1f9e89"
             ],
             [
              0.6666666666666666,
              "#35b779"
             ],
             [
              0.7777777777777778,
              "#6ece58"
             ],
             [
              0.8888888888888888,
              "#b5de2b"
             ],
             [
              1,
              "#fde725"
             ]
            ],
            "type": "histogram2d"
           }
          ],
          "histogram2dcontour": [
           {
            "colorbar": {
             "outlinewidth": 1,
             "tickcolor": "rgb(36,36,36)",
             "ticks": "outside"
            },
            "colorscale": [
             [
              0,
              "#440154"
             ],
             [
              0.1111111111111111,
              "#482878"
             ],
             [
              0.2222222222222222,
              "#3e4989"
             ],
             [
              0.3333333333333333,
              "#31688e"
             ],
             [
              0.4444444444444444,
              "#26828e"
             ],
             [
              0.5555555555555556,
              "#1f9e89"
             ],
             [
              0.6666666666666666,
              "#35b779"
             ],
             [
              0.7777777777777778,
              "#6ece58"
             ],
             [
              0.8888888888888888,
              "#b5de2b"
             ],
             [
              1,
              "#fde725"
             ]
            ],
            "type": "histogram2dcontour"
           }
          ],
          "mesh3d": [
           {
            "colorbar": {
             "outlinewidth": 1,
             "tickcolor": "rgb(36,36,36)",
             "ticks": "outside"
            },
            "type": "mesh3d"
           }
          ],
          "parcoords": [
           {
            "line": {
             "colorbar": {
              "outlinewidth": 1,
              "tickcolor": "rgb(36,36,36)",
              "ticks": "outside"
             }
            },
            "type": "parcoords"
           }
          ],
          "pie": [
           {
            "automargin": true,
            "type": "pie"
           }
          ],
          "scatter": [
           {
            "fillpattern": {
             "fillmode": "overlay",
             "size": 10,
             "solidity": 0.2
            },
            "type": "scatter"
           }
          ],
          "scatter3d": [
           {
            "line": {
             "colorbar": {
              "outlinewidth": 1,
              "tickcolor": "rgb(36,36,36)",
              "ticks": "outside"
             }
            },
            "marker": {
             "colorbar": {
              "outlinewidth": 1,
              "tickcolor": "rgb(36,36,36)",
              "ticks": "outside"
             }
            },
            "type": "scatter3d"
           }
          ],
          "scattercarpet": [
           {
            "marker": {
             "colorbar": {
              "outlinewidth": 1,
              "tickcolor": "rgb(36,36,36)",
              "ticks": "outside"
             }
            },
            "type": "scattercarpet"
           }
          ],
          "scattergeo": [
           {
            "marker": {
             "colorbar": {
              "outlinewidth": 1,
              "tickcolor": "rgb(36,36,36)",
              "ticks": "outside"
             }
            },
            "type": "scattergeo"
           }
          ],
          "scattergl": [
           {
            "marker": {
             "colorbar": {
              "outlinewidth": 1,
              "tickcolor": "rgb(36,36,36)",
              "ticks": "outside"
             }
            },
            "type": "scattergl"
           }
          ],
          "scattermapbox": [
           {
            "marker": {
             "colorbar": {
              "outlinewidth": 1,
              "tickcolor": "rgb(36,36,36)",
              "ticks": "outside"
             }
            },
            "type": "scattermapbox"
           }
          ],
          "scatterpolar": [
           {
            "marker": {
             "colorbar": {
              "outlinewidth": 1,
              "tickcolor": "rgb(36,36,36)",
              "ticks": "outside"
             }
            },
            "type": "scatterpolar"
           }
          ],
          "scatterpolargl": [
           {
            "marker": {
             "colorbar": {
              "outlinewidth": 1,
              "tickcolor": "rgb(36,36,36)",
              "ticks": "outside"
             }
            },
            "type": "scatterpolargl"
           }
          ],
          "scatterternary": [
           {
            "marker": {
             "colorbar": {
              "outlinewidth": 1,
              "tickcolor": "rgb(36,36,36)",
              "ticks": "outside"
             }
            },
            "type": "scatterternary"
           }
          ],
          "surface": [
           {
            "colorbar": {
             "outlinewidth": 1,
             "tickcolor": "rgb(36,36,36)",
             "ticks": "outside"
            },
            "colorscale": [
             [
              0,
              "#440154"
             ],
             [
              0.1111111111111111,
              "#482878"
             ],
             [
              0.2222222222222222,
              "#3e4989"
             ],
             [
              0.3333333333333333,
              "#31688e"
             ],
             [
              0.4444444444444444,
              "#26828e"
             ],
             [
              0.5555555555555556,
              "#1f9e89"
             ],
             [
              0.6666666666666666,
              "#35b779"
             ],
             [
              0.7777777777777778,
              "#6ece58"
             ],
             [
              0.8888888888888888,
              "#b5de2b"
             ],
             [
              1,
              "#fde725"
             ]
            ],
            "type": "surface"
           }
          ],
          "table": [
           {
            "cells": {
             "fill": {
              "color": "rgb(237,237,237)"
             },
             "line": {
              "color": "white"
             }
            },
            "header": {
             "fill": {
              "color": "rgb(217,217,217)"
             },
             "line": {
              "color": "white"
             }
            },
            "type": "table"
           }
          ]
         },
         "layout": {
          "annotationdefaults": {
           "arrowhead": 0,
           "arrowwidth": 1
          },
          "autotypenumbers": "strict",
          "coloraxis": {
           "colorbar": {
            "outlinewidth": 1,
            "tickcolor": "rgb(36,36,36)",
            "ticks": "outside"
           }
          },
          "colorscale": {
           "diverging": [
            [
             0,
             "rgb(103,0,31)"
            ],
            [
             0.1,
             "rgb(178,24,43)"
            ],
            [
             0.2,
             "rgb(214,96,77)"
            ],
            [
             0.3,
             "rgb(244,165,130)"
            ],
            [
             0.4,
             "rgb(253,219,199)"
            ],
            [
             0.5,
             "rgb(247,247,247)"
            ],
            [
             0.6,
             "rgb(209,229,240)"
            ],
            [
             0.7,
             "rgb(146,197,222)"
            ],
            [
             0.8,
             "rgb(67,147,195)"
            ],
            [
             0.9,
             "rgb(33,102,172)"
            ],
            [
             1,
             "rgb(5,48,97)"
            ]
           ],
           "sequential": [
            [
             0,
             "#440154"
            ],
            [
             0.1111111111111111,
             "#482878"
            ],
            [
             0.2222222222222222,
             "#3e4989"
            ],
            [
             0.3333333333333333,
             "#31688e"
            ],
            [
             0.4444444444444444,
             "#26828e"
            ],
            [
             0.5555555555555556,
             "#1f9e89"
            ],
            [
             0.6666666666666666,
             "#35b779"
            ],
            [
             0.7777777777777778,
             "#6ece58"
            ],
            [
             0.8888888888888888,
             "#b5de2b"
            ],
            [
             1,
             "#fde725"
            ]
           ],
           "sequentialminus": [
            [
             0,
             "#440154"
            ],
            [
             0.1111111111111111,
             "#482878"
            ],
            [
             0.2222222222222222,
             "#3e4989"
            ],
            [
             0.3333333333333333,
             "#31688e"
            ],
            [
             0.4444444444444444,
             "#26828e"
            ],
            [
             0.5555555555555556,
             "#1f9e89"
            ],
            [
             0.6666666666666666,
             "#35b779"
            ],
            [
             0.7777777777777778,
             "#6ece58"
            ],
            [
             0.8888888888888888,
             "#b5de2b"
            ],
            [
             1,
             "#fde725"
            ]
           ]
          },
          "colorway": [
           "#1F77B4",
           "#FF7F0E",
           "#2CA02C",
           "#D62728",
           "#9467BD",
           "#8C564B",
           "#E377C2",
           "#7F7F7F",
           "#BCBD22",
           "#17BECF"
          ],
          "font": {
           "color": "rgb(36,36,36)"
          },
          "geo": {
           "bgcolor": "white",
           "lakecolor": "white",
           "landcolor": "white",
           "showlakes": true,
           "showland": true,
           "subunitcolor": "white"
          },
          "hoverlabel": {
           "align": "left"
          },
          "hovermode": "closest",
          "mapbox": {
           "style": "light"
          },
          "paper_bgcolor": "white",
          "plot_bgcolor": "white",
          "polar": {
           "angularaxis": {
            "gridcolor": "rgb(232,232,232)",
            "linecolor": "rgb(36,36,36)",
            "showgrid": false,
            "showline": true,
            "ticks": "outside"
           },
           "bgcolor": "white",
           "radialaxis": {
            "gridcolor": "rgb(232,232,232)",
            "linecolor": "rgb(36,36,36)",
            "showgrid": false,
            "showline": true,
            "ticks": "outside"
           }
          },
          "scene": {
           "xaxis": {
            "backgroundcolor": "white",
            "gridcolor": "rgb(232,232,232)",
            "gridwidth": 2,
            "linecolor": "rgb(36,36,36)",
            "showbackground": true,
            "showgrid": false,
            "showline": true,
            "ticks": "outside",
            "zeroline": false,
            "zerolinecolor": "rgb(36,36,36)"
           },
           "yaxis": {
            "backgroundcolor": "white",
            "gridcolor": "rgb(232,232,232)",
            "gridwidth": 2,
            "linecolor": "rgb(36,36,36)",
            "showbackground": true,
            "showgrid": false,
            "showline": true,
            "ticks": "outside",
            "zeroline": false,
            "zerolinecolor": "rgb(36,36,36)"
           },
           "zaxis": {
            "backgroundcolor": "white",
            "gridcolor": "rgb(232,232,232)",
            "gridwidth": 2,
            "linecolor": "rgb(36,36,36)",
            "showbackground": true,
            "showgrid": false,
            "showline": true,
            "ticks": "outside",
            "zeroline": false,
            "zerolinecolor": "rgb(36,36,36)"
           }
          },
          "shapedefaults": {
           "fillcolor": "black",
           "line": {
            "width": 0
           },
           "opacity": 0.3
          },
          "ternary": {
           "aaxis": {
            "gridcolor": "rgb(232,232,232)",
            "linecolor": "rgb(36,36,36)",
            "showgrid": false,
            "showline": true,
            "ticks": "outside"
           },
           "baxis": {
            "gridcolor": "rgb(232,232,232)",
            "linecolor": "rgb(36,36,36)",
            "showgrid": false,
            "showline": true,
            "ticks": "outside"
           },
           "bgcolor": "white",
           "caxis": {
            "gridcolor": "rgb(232,232,232)",
            "linecolor": "rgb(36,36,36)",
            "showgrid": false,
            "showline": true,
            "ticks": "outside"
           }
          },
          "title": {
           "x": 0.05
          },
          "xaxis": {
           "automargin": true,
           "gridcolor": "rgb(232,232,232)",
           "linecolor": "rgb(36,36,36)",
           "showgrid": false,
           "showline": true,
           "ticks": "outside",
           "title": {
            "standoff": 15
           },
           "zeroline": false,
           "zerolinecolor": "rgb(36,36,36)"
          },
          "yaxis": {
           "automargin": true,
           "gridcolor": "rgb(232,232,232)",
           "linecolor": "rgb(36,36,36)",
           "showgrid": false,
           "showline": true,
           "ticks": "outside",
           "title": {
            "standoff": 15
           },
           "zeroline": false,
           "zerolinecolor": "rgb(36,36,36)"
          }
         }
        },
        "title": {
         "text": "VAR and ES by Catalyst"
        },
        "xaxis": {
         "anchor": "y",
         "domain": [
          0,
          1
         ],
         "tickangle": 0,
         "title": {
          "text": "VaR & ES"
         }
        },
        "yaxis": {
         "anchor": "x",
         "domain": [
          0,
          1
         ],
         "title": {
          "text": "Catalyst"
         }
        }
       }
      }
     },
     "metadata": {},
     "output_type": "display_data"
    }
   ],
   "source": [
    "\n",
    "def calculate_var_es(data):\n",
    "    var = np.percentile(data, 100 * (1 - 0.9))\n",
    "    tail_losses = data[data < var]\n",
    "    es = tail_losses.mean()\n",
    "    return pd.Series({'VAR': var, 'ES': es})\n",
    "\n",
    "results = df_ee.groupby('Catalyst_Ar_grp')['Predicted ee'].apply(calculate_var_es).reset_index()\n",
    "results = results.sort_values(by=\"Predicted ee\",ascending=True)\n",
    "\n",
    "\n",
    "fig = px.bar(results, y='Catalyst_Ar_grp', x='Predicted ee', title='VAR and ES by Catalyst',\n",
    "             labels={'variable': 'Metric', 'value': 'Value'}, barmode='group',color='level_1',template='simple_white',)\n",
    "fig.update_layout(\n",
    "    font_size=8,\n",
    ")\n",
    "# Customize the layout\n",
    "fig.update_layout(xaxis_title='VaR & ES', yaxis_title='Catalyst', legend_title=None, xaxis_tickangle=0)\n",
    "\n",
    "# Show the plot\n",
    "fig.show()\n"
   ]
  },
  {
   "cell_type": "markdown",
   "metadata": {},
   "source": [
    "# Dominance"
   ]
  },
  {
   "cell_type": "code",
   "execution_count": 36,
   "metadata": {},
   "outputs": [
    {
     "data": {
      "application/vnd.plotly.v1+json": {
       "config": {
        "plotlyServerURL": "https://plot.ly"
       },
       "data": [
        {
         "alignmentgroup": "True",
         "hovertemplate": "x=%{x}<br>y=%{y}<extra></extra>",
         "legendgroup": "",
         "marker": {
          "color": "#4C78A8",
          "pattern": {
           "shape": ""
          }
         },
         "name": "",
         "offsetgroup": "",
         "orientation": "h",
         "showlegend": false,
         "textposition": "auto",
         "type": "bar",
         "x": [
          0.17560928094599465,
          0.20002364283635304,
          0.23506362431990147,
          0.2595930204540046,
          0.2901429192496495,
          0.2953098912865717,
          0.4197525120885649,
          0.46361344323929315,
          0.4687024377866066,
          0.5229251284073853,
          0.5723935856415493,
          0.5998404174155357,
          0.6476623953329478,
          0.6877681571246675,
          0.9449512878791835
         ],
         "xaxis": "x",
         "y": [
          "L2",
          "L1",
          "L13",
          "L6",
          "L4",
          "L5",
          "L8",
          "L7",
          "L15",
          "L16",
          "L12",
          "L9",
          "L10",
          "L11",
          "L14"
         ],
         "yaxis": "y"
        }
       ],
       "layout": {
        "barmode": "group",
        "font": {
         "size": 12
        },
        "height": 720,
        "legend": {
         "orientation": "h",
         "title": {
          "text": ""
         },
         "tracegroupgap": 0,
         "x": 0.01,
         "xanchor": "left",
         "y": 1.01,
         "yanchor": "bottom"
        },
        "template": {
         "data": {
          "bar": [
           {
            "error_x": {
             "color": "rgb(36,36,36)"
            },
            "error_y": {
             "color": "rgb(36,36,36)"
            },
            "marker": {
             "line": {
              "color": "white",
              "width": 0.5
             },
             "pattern": {
              "fillmode": "overlay",
              "size": 10,
              "solidity": 0.2
             }
            },
            "type": "bar"
           }
          ],
          "barpolar": [
           {
            "marker": {
             "line": {
              "color": "white",
              "width": 0.5
             },
             "pattern": {
              "fillmode": "overlay",
              "size": 10,
              "solidity": 0.2
             }
            },
            "type": "barpolar"
           }
          ],
          "carpet": [
           {
            "aaxis": {
             "endlinecolor": "rgb(36,36,36)",
             "gridcolor": "white",
             "linecolor": "white",
             "minorgridcolor": "white",
             "startlinecolor": "rgb(36,36,36)"
            },
            "baxis": {
             "endlinecolor": "rgb(36,36,36)",
             "gridcolor": "white",
             "linecolor": "white",
             "minorgridcolor": "white",
             "startlinecolor": "rgb(36,36,36)"
            },
            "type": "carpet"
           }
          ],
          "choropleth": [
           {
            "colorbar": {
             "outlinewidth": 1,
             "tickcolor": "rgb(36,36,36)",
             "ticks": "outside"
            },
            "type": "choropleth"
           }
          ],
          "contour": [
           {
            "colorbar": {
             "outlinewidth": 1,
             "tickcolor": "rgb(36,36,36)",
             "ticks": "outside"
            },
            "colorscale": [
             [
              0,
              "#440154"
             ],
             [
              0.1111111111111111,
              "#482878"
             ],
             [
              0.2222222222222222,
              "#3e4989"
             ],
             [
              0.3333333333333333,
              "#31688e"
             ],
             [
              0.4444444444444444,
              "#26828e"
             ],
             [
              0.5555555555555556,
              "#1f9e89"
             ],
             [
              0.6666666666666666,
              "#35b779"
             ],
             [
              0.7777777777777778,
              "#6ece58"
             ],
             [
              0.8888888888888888,
              "#b5de2b"
             ],
             [
              1,
              "#fde725"
             ]
            ],
            "type": "contour"
           }
          ],
          "contourcarpet": [
           {
            "colorbar": {
             "outlinewidth": 1,
             "tickcolor": "rgb(36,36,36)",
             "ticks": "outside"
            },
            "type": "contourcarpet"
           }
          ],
          "heatmap": [
           {
            "colorbar": {
             "outlinewidth": 1,
             "tickcolor": "rgb(36,36,36)",
             "ticks": "outside"
            },
            "colorscale": [
             [
              0,
              "#440154"
             ],
             [
              0.1111111111111111,
              "#482878"
             ],
             [
              0.2222222222222222,
              "#3e4989"
             ],
             [
              0.3333333333333333,
              "#31688e"
             ],
             [
              0.4444444444444444,
              "#26828e"
             ],
             [
              0.5555555555555556,
              "#1f9e89"
             ],
             [
              0.6666666666666666,
              "#35b779"
             ],
             [
              0.7777777777777778,
              "#6ece58"
             ],
             [
              0.8888888888888888,
              "#b5de2b"
             ],
             [
              1,
              "#fde725"
             ]
            ],
            "type": "heatmap"
           }
          ],
          "heatmapgl": [
           {
            "colorbar": {
             "outlinewidth": 1,
             "tickcolor": "rgb(36,36,36)",
             "ticks": "outside"
            },
            "colorscale": [
             [
              0,
              "#440154"
             ],
             [
              0.1111111111111111,
              "#482878"
             ],
             [
              0.2222222222222222,
              "#3e4989"
             ],
             [
              0.3333333333333333,
              "#31688e"
             ],
             [
              0.4444444444444444,
              "#26828e"
             ],
             [
              0.5555555555555556,
              "#1f9e89"
             ],
             [
              0.6666666666666666,
              "#35b779"
             ],
             [
              0.7777777777777778,
              "#6ece58"
             ],
             [
              0.8888888888888888,
              "#b5de2b"
             ],
             [
              1,
              "#fde725"
             ]
            ],
            "type": "heatmapgl"
           }
          ],
          "histogram": [
           {
            "marker": {
             "line": {
              "color": "white",
              "width": 0.6
             }
            },
            "type": "histogram"
           }
          ],
          "histogram2d": [
           {
            "colorbar": {
             "outlinewidth": 1,
             "tickcolor": "rgb(36,36,36)",
             "ticks": "outside"
            },
            "colorscale": [
             [
              0,
              "#440154"
             ],
             [
              0.1111111111111111,
              "#482878"
             ],
             [
              0.2222222222222222,
              "#3e4989"
             ],
             [
              0.3333333333333333,
              "#31688e"
             ],
             [
              0.4444444444444444,
              "#26828e"
             ],
             [
              0.5555555555555556,
              "#1f9e89"
             ],
             [
              0.6666666666666666,
              "#35b779"
             ],
             [
              0.7777777777777778,
              "#6ece58"
             ],
             [
              0.8888888888888888,
              "#b5de2b"
             ],
             [
              1,
              "#fde725"
             ]
            ],
            "type": "histogram2d"
           }
          ],
          "histogram2dcontour": [
           {
            "colorbar": {
             "outlinewidth": 1,
             "tickcolor": "rgb(36,36,36)",
             "ticks": "outside"
            },
            "colorscale": [
             [
              0,
              "#440154"
             ],
             [
              0.1111111111111111,
              "#482878"
             ],
             [
              0.2222222222222222,
              "#3e4989"
             ],
             [
              0.3333333333333333,
              "#31688e"
             ],
             [
              0.4444444444444444,
              "#26828e"
             ],
             [
              0.5555555555555556,
              "#1f9e89"
             ],
             [
              0.6666666666666666,
              "#35b779"
             ],
             [
              0.7777777777777778,
              "#6ece58"
             ],
             [
              0.8888888888888888,
              "#b5de2b"
             ],
             [
              1,
              "#fde725"
             ]
            ],
            "type": "histogram2dcontour"
           }
          ],
          "mesh3d": [
           {
            "colorbar": {
             "outlinewidth": 1,
             "tickcolor": "rgb(36,36,36)",
             "ticks": "outside"
            },
            "type": "mesh3d"
           }
          ],
          "parcoords": [
           {
            "line": {
             "colorbar": {
              "outlinewidth": 1,
              "tickcolor": "rgb(36,36,36)",
              "ticks": "outside"
             }
            },
            "type": "parcoords"
           }
          ],
          "pie": [
           {
            "automargin": true,
            "type": "pie"
           }
          ],
          "scatter": [
           {
            "fillpattern": {
             "fillmode": "overlay",
             "size": 10,
             "solidity": 0.2
            },
            "type": "scatter"
           }
          ],
          "scatter3d": [
           {
            "line": {
             "colorbar": {
              "outlinewidth": 1,
              "tickcolor": "rgb(36,36,36)",
              "ticks": "outside"
             }
            },
            "marker": {
             "colorbar": {
              "outlinewidth": 1,
              "tickcolor": "rgb(36,36,36)",
              "ticks": "outside"
             }
            },
            "type": "scatter3d"
           }
          ],
          "scattercarpet": [
           {
            "marker": {
             "colorbar": {
              "outlinewidth": 1,
              "tickcolor": "rgb(36,36,36)",
              "ticks": "outside"
             }
            },
            "type": "scattercarpet"
           }
          ],
          "scattergeo": [
           {
            "marker": {
             "colorbar": {
              "outlinewidth": 1,
              "tickcolor": "rgb(36,36,36)",
              "ticks": "outside"
             }
            },
            "type": "scattergeo"
           }
          ],
          "scattergl": [
           {
            "marker": {
             "colorbar": {
              "outlinewidth": 1,
              "tickcolor": "rgb(36,36,36)",
              "ticks": "outside"
             }
            },
            "type": "scattergl"
           }
          ],
          "scattermapbox": [
           {
            "marker": {
             "colorbar": {
              "outlinewidth": 1,
              "tickcolor": "rgb(36,36,36)",
              "ticks": "outside"
             }
            },
            "type": "scattermapbox"
           }
          ],
          "scatterpolar": [
           {
            "marker": {
             "colorbar": {
              "outlinewidth": 1,
              "tickcolor": "rgb(36,36,36)",
              "ticks": "outside"
             }
            },
            "type": "scatterpolar"
           }
          ],
          "scatterpolargl": [
           {
            "marker": {
             "colorbar": {
              "outlinewidth": 1,
              "tickcolor": "rgb(36,36,36)",
              "ticks": "outside"
             }
            },
            "type": "scatterpolargl"
           }
          ],
          "scatterternary": [
           {
            "marker": {
             "colorbar": {
              "outlinewidth": 1,
              "tickcolor": "rgb(36,36,36)",
              "ticks": "outside"
             }
            },
            "type": "scatterternary"
           }
          ],
          "surface": [
           {
            "colorbar": {
             "outlinewidth": 1,
             "tickcolor": "rgb(36,36,36)",
             "ticks": "outside"
            },
            "colorscale": [
             [
              0,
              "#440154"
             ],
             [
              0.1111111111111111,
              "#482878"
             ],
             [
              0.2222222222222222,
              "#3e4989"
             ],
             [
              0.3333333333333333,
              "#31688e"
             ],
             [
              0.4444444444444444,
              "#26828e"
             ],
             [
              0.5555555555555556,
              "#1f9e89"
             ],
             [
              0.6666666666666666,
              "#35b779"
             ],
             [
              0.7777777777777778,
              "#6ece58"
             ],
             [
              0.8888888888888888,
              "#b5de2b"
             ],
             [
              1,
              "#fde725"
             ]
            ],
            "type": "surface"
           }
          ],
          "table": [
           {
            "cells": {
             "fill": {
              "color": "rgb(237,237,237)"
             },
             "line": {
              "color": "white"
             }
            },
            "header": {
             "fill": {
              "color": "rgb(217,217,217)"
             },
             "line": {
              "color": "white"
             }
            },
            "type": "table"
           }
          ]
         },
         "layout": {
          "annotationdefaults": {
           "arrowhead": 0,
           "arrowwidth": 1
          },
          "autotypenumbers": "strict",
          "coloraxis": {
           "colorbar": {
            "outlinewidth": 1,
            "tickcolor": "rgb(36,36,36)",
            "ticks": "outside"
           }
          },
          "colorscale": {
           "diverging": [
            [
             0,
             "rgb(103,0,31)"
            ],
            [
             0.1,
             "rgb(178,24,43)"
            ],
            [
             0.2,
             "rgb(214,96,77)"
            ],
            [
             0.3,
             "rgb(244,165,130)"
            ],
            [
             0.4,
             "rgb(253,219,199)"
            ],
            [
             0.5,
             "rgb(247,247,247)"
            ],
            [
             0.6,
             "rgb(209,229,240)"
            ],
            [
             0.7,
             "rgb(146,197,222)"
            ],
            [
             0.8,
             "rgb(67,147,195)"
            ],
            [
             0.9,
             "rgb(33,102,172)"
            ],
            [
             1,
             "rgb(5,48,97)"
            ]
           ],
           "sequential": [
            [
             0,
             "#440154"
            ],
            [
             0.1111111111111111,
             "#482878"
            ],
            [
             0.2222222222222222,
             "#3e4989"
            ],
            [
             0.3333333333333333,
             "#31688e"
            ],
            [
             0.4444444444444444,
             "#26828e"
            ],
            [
             0.5555555555555556,
             "#1f9e89"
            ],
            [
             0.6666666666666666,
             "#35b779"
            ],
            [
             0.7777777777777778,
             "#6ece58"
            ],
            [
             0.8888888888888888,
             "#b5de2b"
            ],
            [
             1,
             "#fde725"
            ]
           ],
           "sequentialminus": [
            [
             0,
             "#440154"
            ],
            [
             0.1111111111111111,
             "#482878"
            ],
            [
             0.2222222222222222,
             "#3e4989"
            ],
            [
             0.3333333333333333,
             "#31688e"
            ],
            [
             0.4444444444444444,
             "#26828e"
            ],
            [
             0.5555555555555556,
             "#1f9e89"
            ],
            [
             0.6666666666666666,
             "#35b779"
            ],
            [
             0.7777777777777778,
             "#6ece58"
            ],
            [
             0.8888888888888888,
             "#b5de2b"
            ],
            [
             1,
             "#fde725"
            ]
           ]
          },
          "colorway": [
           "#1F77B4",
           "#FF7F0E",
           "#2CA02C",
           "#D62728",
           "#9467BD",
           "#8C564B",
           "#E377C2",
           "#7F7F7F",
           "#BCBD22",
           "#17BECF"
          ],
          "font": {
           "color": "rgb(36,36,36)"
          },
          "geo": {
           "bgcolor": "white",
           "lakecolor": "white",
           "landcolor": "white",
           "showlakes": true,
           "showland": true,
           "subunitcolor": "white"
          },
          "hoverlabel": {
           "align": "left"
          },
          "hovermode": "closest",
          "mapbox": {
           "style": "light"
          },
          "paper_bgcolor": "white",
          "plot_bgcolor": "white",
          "polar": {
           "angularaxis": {
            "gridcolor": "rgb(232,232,232)",
            "linecolor": "rgb(36,36,36)",
            "showgrid": false,
            "showline": true,
            "ticks": "outside"
           },
           "bgcolor": "white",
           "radialaxis": {
            "gridcolor": "rgb(232,232,232)",
            "linecolor": "rgb(36,36,36)",
            "showgrid": false,
            "showline": true,
            "ticks": "outside"
           }
          },
          "scene": {
           "xaxis": {
            "backgroundcolor": "white",
            "gridcolor": "rgb(232,232,232)",
            "gridwidth": 2,
            "linecolor": "rgb(36,36,36)",
            "showbackground": true,
            "showgrid": false,
            "showline": true,
            "ticks": "outside",
            "zeroline": false,
            "zerolinecolor": "rgb(36,36,36)"
           },
           "yaxis": {
            "backgroundcolor": "white",
            "gridcolor": "rgb(232,232,232)",
            "gridwidth": 2,
            "linecolor": "rgb(36,36,36)",
            "showbackground": true,
            "showgrid": false,
            "showline": true,
            "ticks": "outside",
            "zeroline": false,
            "zerolinecolor": "rgb(36,36,36)"
           },
           "zaxis": {
            "backgroundcolor": "white",
            "gridcolor": "rgb(232,232,232)",
            "gridwidth": 2,
            "linecolor": "rgb(36,36,36)",
            "showbackground": true,
            "showgrid": false,
            "showline": true,
            "ticks": "outside",
            "zeroline": false,
            "zerolinecolor": "rgb(36,36,36)"
           }
          },
          "shapedefaults": {
           "fillcolor": "black",
           "line": {
            "width": 0
           },
           "opacity": 0.3
          },
          "ternary": {
           "aaxis": {
            "gridcolor": "rgb(232,232,232)",
            "linecolor": "rgb(36,36,36)",
            "showgrid": false,
            "showline": true,
            "ticks": "outside"
           },
           "baxis": {
            "gridcolor": "rgb(232,232,232)",
            "linecolor": "rgb(36,36,36)",
            "showgrid": false,
            "showline": true,
            "ticks": "outside"
           },
           "bgcolor": "white",
           "caxis": {
            "gridcolor": "rgb(232,232,232)",
            "linecolor": "rgb(36,36,36)",
            "showgrid": false,
            "showline": true,
            "ticks": "outside"
           }
          },
          "title": {
           "x": 0.05
          },
          "xaxis": {
           "automargin": true,
           "gridcolor": "rgb(232,232,232)",
           "linecolor": "rgb(36,36,36)",
           "showgrid": false,
           "showline": true,
           "ticks": "outside",
           "title": {
            "standoff": 15
           },
           "zeroline": false,
           "zerolinecolor": "rgb(36,36,36)"
          },
          "yaxis": {
           "automargin": true,
           "gridcolor": "rgb(232,232,232)",
           "linecolor": "rgb(36,36,36)",
           "showgrid": false,
           "showline": true,
           "ticks": "outside",
           "title": {
            "standoff": 15
           },
           "zeroline": false,
           "zerolinecolor": "rgb(36,36,36)"
          }
         }
        },
        "title": {
         "text": "Dominance"
        },
        "width": 980,
        "xaxis": {
         "anchor": "y",
         "domain": [
          0,
          1
         ],
         "mirror": true,
         "title": {
          "text": "Dominance"
         }
        },
        "yaxis": {
         "anchor": "x",
         "domain": [
          0,
          1
         ],
         "mirror": true,
         "title": {
          "text": "Catalyst"
         }
        }
       }
      }
     },
     "metadata": {},
     "output_type": "display_data"
    }
   ],
   "source": [
    "df_ee['Normalized_rank'] = (df_ee.groupby('rxn')['Predicted ee'].transform(lambda g: (g-g.min())/(g.max()-g.min())))\n",
    "mean_quant = df_ee.groupby(['Catalyst_Ar_grp',\"cluster_label\"])['Normalized_rank'].mean()\n",
    "df_split =  pd.DataFrame(mean_quant)\n",
    "\n",
    "Dominance = df_split.groupby(['Catalyst_Ar_grp' ])['Normalized_rank'].mean()\n",
    "Dominance = Dominance.sort_values( ascending=True)\n",
    "\n",
    "fig = px.bar(x=Dominance, y=Dominance.index,\n",
    "                title='Dominance',\n",
    "                barmode='group',\n",
    "                labels={'Catalyst_Type':'Catalyst Class', 'Catalyst_Ar_grp':'Catalyst'},\n",
    "                template='simple_white', orientation='h',\n",
    "                color_discrete_sequence=[px.colors.qualitative.T10[0],\n",
    "                px.colors.qualitative.T10[0],\n",
    "                px.colors.qualitative.T10[4]],\n",
    "                  width=980, height=720,\n",
    "                )\n",
    "\n",
    "fig.update_xaxes(mirror=True)\n",
    "fig.update_yaxes(mirror=True)\n",
    "\n",
    "fig.update_layout(\n",
    "    font_size=12,xaxis_title='Dominance', yaxis_title='Catalyst', \n",
    ")\n",
    "\n",
    "fig.update_layout(\n",
    "    legend=dict(\n",
    "        yanchor=\"bottom\",\n",
    "        y=1.01,\n",
    "        xanchor=\"left\",\n",
    "        x=0.01,\n",
    "        orientation='h',\n",
    "    ),\n",
    "    legend_title_text=''\n",
    ")\n",
    "\n",
    "\n",
    "fig.show()\n",
    "\n"
   ]
  }
 ],
 "metadata": {
  "kernelspec": {
   "display_name": "Python 3",
   "language": "python",
   "name": "python3"
  },
  "language_info": {
   "codemirror_mode": {
    "name": "ipython",
    "version": 3
   },
   "file_extension": ".py",
   "mimetype": "text/x-python",
   "name": "python",
   "nbconvert_exporter": "python",
   "pygments_lexer": "ipython3",
   "version": "3.10.11"
  },
  "orig_nbformat": 4
 },
 "nbformat": 4,
 "nbformat_minor": 2
}
