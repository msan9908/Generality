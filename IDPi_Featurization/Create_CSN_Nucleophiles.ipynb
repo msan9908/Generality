{
 "cells": [
  {
   "cell_type": "markdown",
   "id": "929aa236-1516-44b1-b042-2a7c87441fba",
   "metadata": {},
   "source": [
    "# Chemical Space Network "
   ]
  },
  {
   "cell_type": "markdown",
   "id": "196b5cc2-edd8-4e2b-b1e9-5ace6a79668b",
   "metadata": {},
   "source": [
    "## 1. Import RDKit, Networkx, and other libraries"
   ]
  },
  {
   "cell_type": "code",
   "execution_count": 1,
   "id": "e5205ce9-98f9-4ceb-91a5-550c667e7d68",
   "metadata": {},
   "outputs": [],
   "source": [
    "# RDKit stuff\n",
    "from rdkit import Chem\n",
    "from rdkit import rdBase\n",
    "from rdkit.Chem import Draw\n",
    "from rdkit.Chem.Draw import rdMolDraw2D\n",
    "from rdkit.Chem import rdDepictor\n",
    "rdDepictor.SetPreferCoordGen(True)\n",
    "from rdkit.Chem import rdMolDescriptors\n",
    "from rdkit.Chem import rdFMCS\n",
    "from rdkit import DataStructs\n",
    "from rdkit.Chem import rdmolops\n",
    "\n",
    "# numpy\n",
    "import numpy as np\n",
    "\n",
    "# pandas\n",
    "import pandas as pd\n",
    "\n",
    "# networkx\n",
    "import networkx as nx\n",
    "\n",
    "# matplotlib\n",
    "import matplotlib as mpl\n",
    "import matplotlib.pyplot as plt"
   ]
  },
  {
   "cell_type": "code",
   "execution_count": 2,
   "id": "e3ad87a5-e66f-4c9d-bc4b-a0c2e23eca39",
   "metadata": {},
   "outputs": [
    {
     "name": "stdout",
     "output_type": "stream",
     "text": [
      "RDKit version:  2023.09.6\n",
      "Numpy version: 1.24.4\n",
      "Pandas version: 2.0.1\n",
      "Networkx version 2.8.8\n",
      "MatplotLib version: 3.7.1\n"
     ]
    }
   ],
   "source": [
    "# Print versions of libraries used\n",
    "print('RDKit version: ',rdBase.rdkitVersion)\n",
    "print('Numpy version:', np.__version__)\n",
    "print('Pandas version:', pd.__version__)\n",
    "print('Networkx version',nx.__version__)\n",
    "print('MatplotLib version:', mpl.__version__)"
   ]
  },
  {
   "cell_type": "markdown",
   "id": "73f130a2-d387-4a0d-9bc3-551ca9e42817",
   "metadata": {},
   "source": [
    "## 2. Load Data\n"
   ]
  },
  {
   "cell_type": "code",
   "execution_count": 3,
   "id": "5419fa09-efad-4377-b9cd-8306ae1123b5",
   "metadata": {},
   "outputs": [],
   "source": [
    "full_df = pd.read_excel(\"../Data/IDPI_DataSet_Final_JPR.xlsx\")\n"
   ]
  },
  {
   "cell_type": "markdown",
   "id": "203adcfe-0dfa-4231-a16b-2f270a04f8af",
   "metadata": {},
   "source": [
    "# 3. Data Preparation and Checks\n",
    "\n"
   ]
  },
  {
   "cell_type": "code",
   "execution_count": 4,
   "id": "63477d03-a005-47fd-b76b-bbea6734731d",
   "metadata": {},
   "outputs": [
    {
     "data": {
      "text/plain": [
       "True"
      ]
     },
     "execution_count": 4,
     "metadata": {},
     "output_type": "execute_result"
    }
   ],
   "source": [
    "# Check for presence of disconnected SMILES notation via string matching \n",
    "df1 = full_df[~full_df['nucleophile SMILES'].str.contains(\"\\.\")]\n",
    "len(df1)==len(full_df)"
   ]
  },
  {
   "cell_type": "code",
   "execution_count": 5,
   "id": "1421d761-1794-4428-b6fc-07d9a65cf1d0",
   "metadata": {},
   "outputs": [],
   "source": [
    "\n",
    "smis = df1['nucleophile SMILES'].tolist()\n",
    "num_frags = []\n",
    "for smi in smis:\n",
    "    mol = Chem.MolFromSmiles(smi)\n",
    "    num_frags.append(len(Chem.GetMolFrags(mol))) # returns number of fragments"
   ]
  },
  {
   "cell_type": "code",
   "execution_count": 6,
   "id": "5a554e53-202e-4d5d-87dc-11d5150460b7",
   "metadata": {},
   "outputs": [
    {
     "data": {
      "text/plain": [
       "True"
      ]
     },
     "execution_count": 6,
     "metadata": {},
     "output_type": "execute_result"
    }
   ],
   "source": [
    "# now check that all molecules have only one fragment\n",
    "all(frag == 1 for frag in num_frags)"
   ]
  },
  {
   "cell_type": "code",
   "execution_count": 7,
   "id": "cd024930-94da-4942-bf3d-23ef74e85569",
   "metadata": {},
   "outputs": [
    {
     "data": {
      "text/plain": [
       "True"
      ]
     },
     "execution_count": 7,
     "metadata": {},
     "output_type": "execute_result"
    }
   ],
   "source": [
    "# Double check that all SMILES are unique (different) compounds\n",
    "# To be on the safe side, we can parse the SMILES as RDKit mol objects\n",
    "# then write out canonical smiles and check\n",
    "\n",
    "smis = np.unique(df1['nucleophile SMILES'].tolist())\n",
    "rdkit_can_smiles = []\n",
    "for smi in smis:\n",
    "    mol = Chem.MolFromSmiles(smi)       \n",
    "    rdkit_can_smiles.append(Chem.MolToSmiles(mol, canonical=True)) # default is true\n",
    "    \n",
    "set_rdkit_can_smiles = set(rdkit_can_smiles)\n",
    "len(set_rdkit_can_smiles) == len(rdkit_can_smiles)"
   ]
  },
  {
   "cell_type": "code",
   "execution_count": 8,
   "id": "f286d302-1072-42b4-9447-ac92695d4b51",
   "metadata": {},
   "outputs": [
    {
     "data": {
      "text/plain": [
       "True"
      ]
     },
     "execution_count": 8,
     "metadata": {},
     "output_type": "execute_result"
    }
   ],
   "source": [
    "# We'll use the original SMILES as unique dictionary keys, so we should verify that the\n",
    "# ChEMBL SMILES are unique strings too.\n",
    "set_smis = set(smis)\n",
    "len(set_smis) == len(smis)"
   ]
  },
  {
   "cell_type": "markdown",
   "id": "6629bd41-d88d-40c2-9786-1d29f94950da",
   "metadata": {},
   "source": [
    "## 4. Compile Node data"
   ]
  },
  {
   "cell_type": "code",
   "execution_count": 9,
   "id": "e3e52811-d33d-4989-a9fb-d9dd520c246d",
   "metadata": {},
   "outputs": [],
   "source": [
    "# set the dataframe index as Smiles (we already verified they are all unique from eachother)\n",
    "df2 = df1.set_index('nucleophile SMILES')"
   ]
  },
  {
   "cell_type": "code",
   "execution_count": 10,
   "id": "aff35e15",
   "metadata": {},
   "outputs": [
    {
     "data": {
      "text/html": [
       "<div>\n",
       "<style scoped>\n",
       "    .dataframe tbody tr th:only-of-type {\n",
       "        vertical-align: middle;\n",
       "    }\n",
       "\n",
       "    .dataframe tbody tr th {\n",
       "        vertical-align: top;\n",
       "    }\n",
       "\n",
       "    .dataframe thead th {\n",
       "        text-align: right;\n",
       "    }\n",
       "</style>\n",
       "<table border=\"1\" class=\"dataframe\">\n",
       "  <thead>\n",
       "    <tr style=\"text-align: right;\">\n",
       "      <th></th>\n",
       "      <th>reaction</th>\n",
       "      <th>starting electrophile SMILES</th>\n",
       "      <th>input electrophile SMILES</th>\n",
       "      <th>3,3 Catalyst Substituent</th>\n",
       "      <th>N Catalyst Substituent</th>\n",
       "      <th>solvent</th>\n",
       "      <th>Temperature (Celsius)</th>\n",
       "      <th>Temperature (Kelvin)</th>\n",
       "      <th>yield (%)</th>\n",
       "      <th>ee (%)</th>\n",
       "      <th>e.r. 1</th>\n",
       "      <th>e.r. 2</th>\n",
       "      <th>ddG</th>\n",
       "      <th>reference</th>\n",
       "      <th>Link</th>\n",
       "    </tr>\n",
       "    <tr>\n",
       "      <th>nucleophile SMILES</th>\n",
       "      <th></th>\n",
       "      <th></th>\n",
       "      <th></th>\n",
       "      <th></th>\n",
       "      <th></th>\n",
       "      <th></th>\n",
       "      <th></th>\n",
       "      <th></th>\n",
       "      <th></th>\n",
       "      <th></th>\n",
       "      <th></th>\n",
       "      <th></th>\n",
       "      <th></th>\n",
       "      <th></th>\n",
       "      <th></th>\n",
       "    </tr>\n",
       "  </thead>\n",
       "  <tbody>\n",
       "    <tr>\n",
       "      <th>C=CC[Si](C)(C)C</th>\n",
       "      <td>1a</td>\n",
       "      <td>O=Cc2ccc1ccccc1c2</td>\n",
       "      <td>O=Cc2ccc1ccccc1c2</td>\n",
       "      <td>c2ccc1ccccc1c2</td>\n",
       "      <td>NS(=O)(=O)C(F)(F)F</td>\n",
       "      <td>toluene</td>\n",
       "      <td>-78</td>\n",
       "      <td>195.15</td>\n",
       "      <td>92.0</td>\n",
       "      <td>92</td>\n",
       "      <td>96.0</td>\n",
       "      <td>4.0</td>\n",
       "      <td>1.231712</td>\n",
       "      <td>Angew. Chem. Int. Ed. 2016, 55, 13200–13203</td>\n",
       "      <td>https://onlinelibrary.wiley.com/doi/pdfdirect/...</td>\n",
       "    </tr>\n",
       "    <tr>\n",
       "      <th>C=CC[Si](C)(C)C</th>\n",
       "      <td>1b</td>\n",
       "      <td>COc2ccc1cc(C=O)ccc1c2</td>\n",
       "      <td>COc2ccc1cc(C=O)ccc1c2</td>\n",
       "      <td>c2ccc1ccccc1c2</td>\n",
       "      <td>NS(=O)(=O)C(F)(F)F</td>\n",
       "      <td>toluene</td>\n",
       "      <td>-78</td>\n",
       "      <td>195.15</td>\n",
       "      <td>80.0</td>\n",
       "      <td>88</td>\n",
       "      <td>94.0</td>\n",
       "      <td>6.0</td>\n",
       "      <td>1.066407</td>\n",
       "      <td>Angew. Chem. Int. Ed. 2016, 55, 13200–13204</td>\n",
       "      <td>NaN</td>\n",
       "    </tr>\n",
       "    <tr>\n",
       "      <th>C=CC[Si](C)(C)C</th>\n",
       "      <td>1c</td>\n",
       "      <td>O=Cc2ccc1cc(Br)ccc1c2</td>\n",
       "      <td>O=Cc2ccc1cc(Br)ccc1c2</td>\n",
       "      <td>c2ccc1ccccc1c2</td>\n",
       "      <td>NS(=O)(=O)C(F)(F)F</td>\n",
       "      <td>toluene</td>\n",
       "      <td>-78</td>\n",
       "      <td>195.15</td>\n",
       "      <td>57.0</td>\n",
       "      <td>86</td>\n",
       "      <td>93.0</td>\n",
       "      <td>7.0</td>\n",
       "      <td>1.002518</td>\n",
       "      <td>Angew. Chem. Int. Ed. 2016, 55, 13200–13205</td>\n",
       "      <td>NaN</td>\n",
       "    </tr>\n",
       "    <tr>\n",
       "      <th>C=CC[Si](C)(C)C</th>\n",
       "      <td>1d</td>\n",
       "      <td>O=Cc1ccccc1</td>\n",
       "      <td>O=Cc1ccccc1</td>\n",
       "      <td>c2ccc1ccccc1c2</td>\n",
       "      <td>NS(=O)(=O)C(F)(F)F</td>\n",
       "      <td>toluene</td>\n",
       "      <td>-78</td>\n",
       "      <td>195.15</td>\n",
       "      <td>85.0</td>\n",
       "      <td>82</td>\n",
       "      <td>91.0</td>\n",
       "      <td>9.0</td>\n",
       "      <td>0.896691</td>\n",
       "      <td>Angew. Chem. Int. Ed. 2016, 55, 13200–13206</td>\n",
       "      <td>NaN</td>\n",
       "    </tr>\n",
       "    <tr>\n",
       "      <th>C=CC[Si](C)(C)C</th>\n",
       "      <td>1e</td>\n",
       "      <td>O=Cc1ccccc1F</td>\n",
       "      <td>O=Cc1ccccc1F</td>\n",
       "      <td>c1ccc3c(c1)CCc2ccccc23</td>\n",
       "      <td>NS(=O)(=O)C(F)(F)F</td>\n",
       "      <td>toluene</td>\n",
       "      <td>-60</td>\n",
       "      <td>213.15</td>\n",
       "      <td>82.0</td>\n",
       "      <td>84</td>\n",
       "      <td>92.0</td>\n",
       "      <td>8.0</td>\n",
       "      <td>1.033884</td>\n",
       "      <td>Angew. Chem. Int. Ed. 2016, 55, 13200–13207</td>\n",
       "      <td>NaN</td>\n",
       "    </tr>\n",
       "    <tr>\n",
       "      <th>...</th>\n",
       "      <td>...</td>\n",
       "      <td>...</td>\n",
       "      <td>...</td>\n",
       "      <td>...</td>\n",
       "      <td>...</td>\n",
       "      <td>...</td>\n",
       "      <td>...</td>\n",
       "      <td>...</td>\n",
       "      <td>...</td>\n",
       "      <td>...</td>\n",
       "      <td>...</td>\n",
       "      <td>...</td>\n",
       "      <td>...</td>\n",
       "      <td>...</td>\n",
       "      <td>...</td>\n",
       "    </tr>\n",
       "    <tr>\n",
       "      <th>C1=CCC=C1</th>\n",
       "      <td>3e</td>\n",
       "      <td>CC/C=C(C)/C=O</td>\n",
       "      <td>CC/C=C(C)/C=O</td>\n",
       "      <td>c3ccc2ccc1ccccc1c2c3</td>\n",
       "      <td>NS(=O)(=O)C(F)(F)C(F)(F)C(F)(F)C(F)(F)F</td>\n",
       "      <td>CH2Cl2</td>\n",
       "      <td>-100</td>\n",
       "      <td>173.15</td>\n",
       "      <td>93.0</td>\n",
       "      <td>96</td>\n",
       "      <td>98.0</td>\n",
       "      <td>2.0</td>\n",
       "      <td>1.338303</td>\n",
       "      <td>Nat. Commun. 2019, 10, 770</td>\n",
       "      <td>NaN</td>\n",
       "    </tr>\n",
       "    <tr>\n",
       "      <th>C1=CCC=C1</th>\n",
       "      <td>3f</td>\n",
       "      <td>O=CC1=CCCCC1</td>\n",
       "      <td>O=CC1=CCCCC1</td>\n",
       "      <td>c3ccc2ccc1ccccc1c2c3</td>\n",
       "      <td>NS(=O)(=O)C(F)(F)C(F)(F)F</td>\n",
       "      <td>CH2Cl2</td>\n",
       "      <td>-100</td>\n",
       "      <td>173.15</td>\n",
       "      <td>93.0</td>\n",
       "      <td>96</td>\n",
       "      <td>98.0</td>\n",
       "      <td>2.0</td>\n",
       "      <td>1.338303</td>\n",
       "      <td>Nat. Commun. 2019, 10, 770</td>\n",
       "      <td>NaN</td>\n",
       "    </tr>\n",
       "    <tr>\n",
       "      <th>C1=CCC=C1</th>\n",
       "      <td>3u</td>\n",
       "      <td>C/C=C(C)/C=O</td>\n",
       "      <td>C/C=C(C)/C=O</td>\n",
       "      <td>c3ccc2ccc1ccccc1c2c3</td>\n",
       "      <td>NS(=O)(=O)C(F)(F)C(F)(F)F</td>\n",
       "      <td>CH2Cl2</td>\n",
       "      <td>-100</td>\n",
       "      <td>173.15</td>\n",
       "      <td>90.0</td>\n",
       "      <td>92</td>\n",
       "      <td>96.0</td>\n",
       "      <td>4.0</td>\n",
       "      <td>1.092856</td>\n",
       "      <td>Nat. Commun. 2019, 10, 770</td>\n",
       "      <td>NaN</td>\n",
       "    </tr>\n",
       "    <tr>\n",
       "      <th>C1=CCC=C1</th>\n",
       "      <td>3v</td>\n",
       "      <td>O=CC1=CCCC1</td>\n",
       "      <td>O=CC1=CCCC1</td>\n",
       "      <td>c3ccc2ccc1ccccc1c2c3</td>\n",
       "      <td>NS(=O)(=O)C(F)(F)C(F)(F)C(F)(F)C(F)(F)F</td>\n",
       "      <td>CH2Cl2</td>\n",
       "      <td>-100</td>\n",
       "      <td>173.15</td>\n",
       "      <td>78.0</td>\n",
       "      <td>94</td>\n",
       "      <td>97.0</td>\n",
       "      <td>3.0</td>\n",
       "      <td>1.195347</td>\n",
       "      <td>Nat. Commun. 2019, 10, 770</td>\n",
       "      <td>NaN</td>\n",
       "    </tr>\n",
       "    <tr>\n",
       "      <th>C1=CCC=C1</th>\n",
       "      <td>3w</td>\n",
       "      <td>C=CC=O</td>\n",
       "      <td>C=CC=O</td>\n",
       "      <td>c3ccc2ccc1ccccc1c2c3</td>\n",
       "      <td>NS(=O)(=O)C(F)(F)C(F)(F)F</td>\n",
       "      <td>CH2Cl2</td>\n",
       "      <td>-110</td>\n",
       "      <td>163.15</td>\n",
       "      <td>82.0</td>\n",
       "      <td>68</td>\n",
       "      <td>84.0</td>\n",
       "      <td>16.0</td>\n",
       "      <td>0.537292</td>\n",
       "      <td>Nat. Commun. 2019, 10, 770</td>\n",
       "      <td>NaN</td>\n",
       "    </tr>\n",
       "  </tbody>\n",
       "</table>\n",
       "<p>338 rows × 15 columns</p>\n",
       "</div>"
      ],
      "text/plain": [
       "                   reaction starting electrophile SMILES   \n",
       "nucleophile SMILES                                         \n",
       "C=CC[Si](C)(C)C          1a            O=Cc2ccc1ccccc1c2  \\\n",
       "C=CC[Si](C)(C)C          1b        COc2ccc1cc(C=O)ccc1c2   \n",
       "C=CC[Si](C)(C)C          1c        O=Cc2ccc1cc(Br)ccc1c2   \n",
       "C=CC[Si](C)(C)C          1d                  O=Cc1ccccc1   \n",
       "C=CC[Si](C)(C)C          1e                 O=Cc1ccccc1F   \n",
       "...                     ...                          ...   \n",
       "C1=CCC=C1                3e                CC/C=C(C)/C=O   \n",
       "C1=CCC=C1                3f                 O=CC1=CCCCC1   \n",
       "C1=CCC=C1                3u                 C/C=C(C)/C=O   \n",
       "C1=CCC=C1                3v                  O=CC1=CCCC1   \n",
       "C1=CCC=C1                3w                       C=CC=O   \n",
       "\n",
       "                   input electrophile SMILES 3,3 Catalyst Substituent    \n",
       "nucleophile SMILES                                                       \n",
       "C=CC[Si](C)(C)C            O=Cc2ccc1ccccc1c2            c2ccc1ccccc1c2  \\\n",
       "C=CC[Si](C)(C)C        COc2ccc1cc(C=O)ccc1c2            c2ccc1ccccc1c2   \n",
       "C=CC[Si](C)(C)C        O=Cc2ccc1cc(Br)ccc1c2            c2ccc1ccccc1c2   \n",
       "C=CC[Si](C)(C)C                  O=Cc1ccccc1            c2ccc1ccccc1c2   \n",
       "C=CC[Si](C)(C)C                 O=Cc1ccccc1F    c1ccc3c(c1)CCc2ccccc23   \n",
       "...                                      ...                       ...   \n",
       "C1=CCC=C1                      CC/C=C(C)/C=O      c3ccc2ccc1ccccc1c2c3   \n",
       "C1=CCC=C1                       O=CC1=CCCCC1      c3ccc2ccc1ccccc1c2c3   \n",
       "C1=CCC=C1                       C/C=C(C)/C=O      c3ccc2ccc1ccccc1c2c3   \n",
       "C1=CCC=C1                        O=CC1=CCCC1      c3ccc2ccc1ccccc1c2c3   \n",
       "C1=CCC=C1                             C=CC=O      c3ccc2ccc1ccccc1c2c3   \n",
       "\n",
       "                                     N Catalyst Substituent  solvent   \n",
       "nucleophile SMILES                                                     \n",
       "C=CC[Si](C)(C)C                          NS(=O)(=O)C(F)(F)F  toluene  \\\n",
       "C=CC[Si](C)(C)C                          NS(=O)(=O)C(F)(F)F  toluene   \n",
       "C=CC[Si](C)(C)C                          NS(=O)(=O)C(F)(F)F  toluene   \n",
       "C=CC[Si](C)(C)C                          NS(=O)(=O)C(F)(F)F  toluene   \n",
       "C=CC[Si](C)(C)C                          NS(=O)(=O)C(F)(F)F  toluene   \n",
       "...                                                     ...      ...   \n",
       "C1=CCC=C1           NS(=O)(=O)C(F)(F)C(F)(F)C(F)(F)C(F)(F)F   CH2Cl2   \n",
       "C1=CCC=C1                         NS(=O)(=O)C(F)(F)C(F)(F)F   CH2Cl2   \n",
       "C1=CCC=C1                         NS(=O)(=O)C(F)(F)C(F)(F)F   CH2Cl2   \n",
       "C1=CCC=C1           NS(=O)(=O)C(F)(F)C(F)(F)C(F)(F)C(F)(F)F   CH2Cl2   \n",
       "C1=CCC=C1                         NS(=O)(=O)C(F)(F)C(F)(F)F   CH2Cl2   \n",
       "\n",
       "                    Temperature (Celsius)  Temperature (Kelvin)  yield (%)   \n",
       "nucleophile SMILES                                                           \n",
       "C=CC[Si](C)(C)C                       -78                195.15       92.0  \\\n",
       "C=CC[Si](C)(C)C                       -78                195.15       80.0   \n",
       "C=CC[Si](C)(C)C                       -78                195.15       57.0   \n",
       "C=CC[Si](C)(C)C                       -78                195.15       85.0   \n",
       "C=CC[Si](C)(C)C                       -60                213.15       82.0   \n",
       "...                                   ...                   ...        ...   \n",
       "C1=CCC=C1                            -100                173.15       93.0   \n",
       "C1=CCC=C1                            -100                173.15       93.0   \n",
       "C1=CCC=C1                            -100                173.15       90.0   \n",
       "C1=CCC=C1                            -100                173.15       78.0   \n",
       "C1=CCC=C1                            -110                163.15       82.0   \n",
       "\n",
       "                    ee (%)  e.r. 1  e.r. 2       ddG   \n",
       "nucleophile SMILES                                     \n",
       "C=CC[Si](C)(C)C         92    96.0     4.0  1.231712  \\\n",
       "C=CC[Si](C)(C)C         88    94.0     6.0  1.066407   \n",
       "C=CC[Si](C)(C)C         86    93.0     7.0  1.002518   \n",
       "C=CC[Si](C)(C)C         82    91.0     9.0  0.896691   \n",
       "C=CC[Si](C)(C)C         84    92.0     8.0  1.033884   \n",
       "...                    ...     ...     ...       ...   \n",
       "C1=CCC=C1               96    98.0     2.0  1.338303   \n",
       "C1=CCC=C1               96    98.0     2.0  1.338303   \n",
       "C1=CCC=C1               92    96.0     4.0  1.092856   \n",
       "C1=CCC=C1               94    97.0     3.0  1.195347   \n",
       "C1=CCC=C1               68    84.0    16.0  0.537292   \n",
       "\n",
       "                                                     reference    \n",
       "nucleophile SMILES                                                \n",
       "C=CC[Si](C)(C)C     Angew. Chem. Int. Ed. 2016, 55, 13200–13203  \\\n",
       "C=CC[Si](C)(C)C     Angew. Chem. Int. Ed. 2016, 55, 13200–13204   \n",
       "C=CC[Si](C)(C)C     Angew. Chem. Int. Ed. 2016, 55, 13200–13205   \n",
       "C=CC[Si](C)(C)C     Angew. Chem. Int. Ed. 2016, 55, 13200–13206   \n",
       "C=CC[Si](C)(C)C     Angew. Chem. Int. Ed. 2016, 55, 13200–13207   \n",
       "...                                                         ...   \n",
       "C1=CCC=C1                            Nat. Commun. 2019, 10, 770   \n",
       "C1=CCC=C1                            Nat. Commun. 2019, 10, 770   \n",
       "C1=CCC=C1                            Nat. Commun. 2019, 10, 770   \n",
       "C1=CCC=C1                            Nat. Commun. 2019, 10, 770   \n",
       "C1=CCC=C1                            Nat. Commun. 2019, 10, 770   \n",
       "\n",
       "                                                                 Link  \n",
       "nucleophile SMILES                                                     \n",
       "C=CC[Si](C)(C)C     https://onlinelibrary.wiley.com/doi/pdfdirect/...  \n",
       "C=CC[Si](C)(C)C                                                   NaN  \n",
       "C=CC[Si](C)(C)C                                                   NaN  \n",
       "C=CC[Si](C)(C)C                                                   NaN  \n",
       "C=CC[Si](C)(C)C                                                   NaN  \n",
       "...                                                               ...  \n",
       "C1=CCC=C1                                                         NaN  \n",
       "C1=CCC=C1                                                         NaN  \n",
       "C1=CCC=C1                                                         NaN  \n",
       "C1=CCC=C1                                                         NaN  \n",
       "C1=CCC=C1                                                         NaN  \n",
       "\n",
       "[338 rows x 15 columns]"
      ]
     },
     "execution_count": 10,
     "metadata": {},
     "output_type": "execute_result"
    }
   ],
   "source": [
    "df2"
   ]
  },
  {
   "cell_type": "code",
   "execution_count": 11,
   "id": "db1d4d6f-1398-4575-9637-1d989fde9f79",
   "metadata": {},
   "outputs": [],
   "source": [
    "# save to a dictionary\n",
    "node_data = np.unique(df2.index)"
   ]
  },
  {
   "cell_type": "markdown",
   "id": "879bca9c-acc9-467b-ba85-8e6bbe4fc0f2",
   "metadata": {},
   "source": [
    "## 5. Compute and Compile Edge Data"
   ]
  },
  {
   "cell_type": "code",
   "execution_count": 12,
   "id": "541bc5e7-51e9-4d29-aa15-1024d56ecb35",
   "metadata": {},
   "outputs": [
    {
     "data": {
      "text/plain": [
       "1176"
      ]
     },
     "execution_count": 12,
     "metadata": {},
     "output_type": "execute_result"
    }
   ],
   "source": [
    "# We first need to create subset pairs of the SMILES\n",
    "smis = [] \n",
    "for key in node_data:\n",
    "    smis.append(key)\n",
    "\n",
    "from itertools import combinations\n",
    "smis_subsets = list(combinations(smis,2))\n",
    "len(smis_subsets)"
   ]
  },
  {
   "cell_type": "code",
   "execution_count": 13,
   "id": "8f2b1bc5-db14-4c25-84e1-10f22f3c71a5",
   "metadata": {},
   "outputs": [
    {
     "data": {
      "text/plain": [
       "1176"
      ]
     },
     "execution_count": 13,
     "metadata": {},
     "output_type": "execute_result"
    }
   ],
   "source": [
    "# create a dictionary, subsets\n",
    "subsets = {}\n",
    "for i, (smi1,smi2) in enumerate(smis_subsets):\n",
    "    field = {}\n",
    "    field[\"smi1\"] = smi1\n",
    "    subsets[i] = field\n",
    "    \n",
    "    field[\"smi2\"] = smi2\n",
    "    subsets[i] = field\n",
    "len(subsets)"
   ]
  },
  {
   "cell_type": "code",
   "execution_count": 14,
   "id": "ba2d098a-d803-46f2-9849-f305aaf9872e",
   "metadata": {},
   "outputs": [],
   "source": [
    "# add mol objects to our subsets dictionary\n",
    "for key,value in subsets.items():\n",
    "    subsets[key].update({\"mol1\": Chem.MolFromSmiles(value['smi1'])})\n",
    "    subsets[key].update({\"mol2\": Chem.MolFromSmiles(value['smi2'])})"
   ]
  },
  {
   "cell_type": "code",
   "execution_count": 15,
   "id": "c73dc0cb-fd5c-4922-836f-179903ca07ce",
   "metadata": {},
   "outputs": [
    {
     "data": {
      "text/plain": [
       "{'smi1': 'C/C(=C\\\\CCCCCl)C(=O)/C=C/C(C)C',\n",
       " 'smi2': 'C/C(=C\\\\CCc1ccccc1)C(=O)/C=C/C(C)C',\n",
       " 'mol1': <rdkit.Chem.rdchem.Mol at 0x12226b990>,\n",
       " 'mol2': <rdkit.Chem.rdchem.Mol at 0x12226b220>}"
      ]
     },
     "execution_count": 15,
     "metadata": {},
     "output_type": "execute_result"
    }
   ],
   "source": [
    "list(subsets.values())[0]"
   ]
  },
  {
   "cell_type": "markdown",
   "id": "dac8a0db-3345-40d1-982a-33853c7e7c1d",
   "metadata": {},
   "source": [
    "### Compute Tanimoto Similarity (RDKit fingerprint based)"
   ]
  },
  {
   "cell_type": "code",
   "execution_count": 16,
   "id": "67f35c55-999d-4940-8a7a-2d41048d1a07",
   "metadata": {},
   "outputs": [],
   "source": [
    "# compute and add Tanimoto Similarity using default RDKit fingerprints\n",
    "for key,value in subsets.items():\n",
    "    fp1 = Chem.RDKFingerprint(value['mol1'])\n",
    "    fp2 = Chem.RDKFingerprint(value['mol2'])\n",
    "    tan_sim = round(DataStructs.TanimotoSimilarity(fp1,fp2), 3)\n",
    "    subsets[key].update({\"tan_similarity\": tan_sim})"
   ]
  },
  {
   "cell_type": "code",
   "execution_count": 17,
   "id": "6ccd0d34-50d8-4920-b841-16eda7925bf3",
   "metadata": {},
   "outputs": [
    {
     "data": {
      "text/plain": [
       "{'smi1': 'C/C(=C\\\\CCCCCl)C(=O)/C=C/C(C)C',\n",
       " 'smi2': 'C/C(=C\\\\CCc1ccccc1)C(=O)/C=C/C(C)C',\n",
       " 'mol1': <rdkit.Chem.rdchem.Mol at 0x12226b990>,\n",
       " 'mol2': <rdkit.Chem.rdchem.Mol at 0x12226b220>,\n",
       " 'tan_similarity': 0.489}"
      ]
     },
     "execution_count": 17,
     "metadata": {},
     "output_type": "execute_result"
    }
   ],
   "source": [
    "list(subsets.values())[0]"
   ]
  },
  {
   "cell_type": "markdown",
   "id": "ed144778-3aa9-4794-bead-0e111c884d1f",
   "metadata": {},
   "source": [
    "### Compute MCS-based Tanimoto Coefficient (multiprocessing)"
   ]
  },
  {
   "cell_type": "code",
   "execution_count": 21,
   "id": "a081d570-4516-47a6-93da-0f98e0639686",
   "metadata": {},
   "outputs": [
    {
     "name": "stdout",
     "output_type": "stream",
     "text": [
      "4\n"
     ]
    }
   ],
   "source": [
    "# get number of processors\n",
    "import multiprocessing\n",
    "print(multiprocessing.cpu_count())"
   ]
  },
  {
   "cell_type": "code",
   "execution_count": 33,
   "id": "e09d4377-d12f-4fd0-9a24-8f0e8cf7a97f",
   "metadata": {},
   "outputs": [],
   "source": [
    "# From the Python docs, this below is number of usable CPUs (works on Unix/Linux)\n",
    "# https://docs.python.org/3/library/multiprocessing.html\n",
    "# we subtracted 2 from total number, so that we can still easily use computer for other tasks\n",
    "import os\n",
    "num_cpus = len(os.sched_getaffinity(0)) - 2\n",
    "num_cpus"
   ]
  },
  {
   "cell_type": "code",
   "execution_count": null,
   "id": "f460e9a2-8aa0-4a15-b272-47cee0555b8d",
   "metadata": {},
   "outputs": [],
   "source": [
    "# Add maximum common substructure (MCS)-based Tanimoto Coefficient\n",
    "\n",
    "#############\n",
    "#############\n",
    "\n",
    "def tc_mcs(mol1,mol2,key):\n",
    "    # get maximum common substructure instance\n",
    "    mcs = rdFMCS.FindMCS([mol1,mol2],timeout=10) # adding a 10 second timeout\n",
    "    \n",
    "    # get number of common bonds\n",
    "    mcs_bonds = mcs.numBonds\n",
    "    \n",
    "    # get number of bonds for each\n",
    "    # default is only heavy atom bonds\n",
    "    mol1_bonds = mol1.GetNumBonds()\n",
    "    mol2_bonds = mol2.GetNumBonds()\n",
    "    \n",
    "    # compute MCS-based Tanimoto\n",
    "    tan_mcs = mcs_bonds / (mol1_bonds + mol2_bonds - mcs_bonds)\n",
    "    return key, tan_mcs\n",
    "\n",
    "# create a list of mol1, mol2, and their dictionary key as tuples\n",
    "mol_tuples = []\n",
    "for key, value in subsets.items():\n",
    "    mol_tuples.append((value['mol1'],value['mol2'], key))\n",
    "\n",
    "# run multiprocessing on the tc_mcs function\n",
    "from multiprocessing import Pool\n",
    "\n",
    "if __name__ == '__main__':\n",
    "    with Pool(num_cpus) as p: # In our case, num_cpus = 14\n",
    "        star_map = p.starmap(tc_mcs, mol_tuples)\n",
    "    for key, tan_mcs in star_map:\n",
    "        subsets[key].update({\"tan_mcs\": round(tan_mcs,3)})"
   ]
  },
  {
   "cell_type": "code",
   "execution_count": null,
   "id": "9b28221d-f1ee-4bbb-ba78-9bdf0efa43c5",
   "metadata": {},
   "outputs": [
    {
     "data": {
      "text/plain": [
       "[{'smi1': 'C/C(=C\\\\CCCCCl)C(=O)/C=C/C(C)C',\n",
       "  'smi2': 'C/C(=C\\\\CCc1ccccc1)C(=O)/C=C/C(C)C',\n",
       "  'mol1': <rdkit.Chem.rdchem.Mol at 0x7fbf5fdc9f50>,\n",
       "  'mol2': <rdkit.Chem.rdchem.Mol at 0x7fbf5fdca0a0>,\n",
       "  'tan_similarity': 0.489,\n",
       "  'tan_mcs': 0.684},\n",
       " {'smi1': 'C/C(=C\\\\CCCCCl)C(=O)/C=C/C(C)C',\n",
       "  'smi2': 'C/C=C(C)/C(=O)/C=C/C(C)(C)C',\n",
       "  'mol1': <rdkit.Chem.rdchem.Mol at 0x7fbf5fdca110>,\n",
       "  'mol2': <rdkit.Chem.rdchem.Mol at 0x7fbf5fdca180>,\n",
       "  'tan_similarity': 0.68,\n",
       "  'tan_mcs': 0.667},\n",
       " {'smi1': 'C/C(=C\\\\CCCCCl)C(=O)/C=C/C(C)C',\n",
       "  'smi2': 'C/C=C(C)/C(=O)/C=C/C(C)C',\n",
       "  'mol1': <rdkit.Chem.rdchem.Mol at 0x7fbf5fdca2d0>,\n",
       "  'mol2': <rdkit.Chem.rdchem.Mol at 0x7fbf5fdc9d20>,\n",
       "  'tan_similarity': 0.719,\n",
       "  'tan_mcs': 0.714},\n",
       " {'smi1': 'C/C(=C\\\\CCCCCl)C(=O)/C=C/C(C)C',\n",
       "  'smi2': 'C/C=C(C)/C=C/CCO',\n",
       "  'mol1': <rdkit.Chem.rdchem.Mol at 0x7fbf5fdca340>,\n",
       "  'mol2': <rdkit.Chem.rdchem.Mol at 0x7fbf5fdca3b0>,\n",
       "  'tan_similarity': 0.152,\n",
       "  'tan_mcs': 0.294},\n",
       " {'smi1': 'C/C(=C\\\\CCCCCl)C(=O)/C=C/C(C)C',\n",
       "  'smi2': 'C1=CCC=C1',\n",
       "  'mol1': <rdkit.Chem.rdchem.Mol at 0x7fbf5fdca420>,\n",
       "  'mol2': <rdkit.Chem.rdchem.Mol at 0x7fbf5fdca490>,\n",
       "  'tan_similarity': 0.103,\n",
       "  'tan_mcs': 0.267}]"
      ]
     },
     "execution_count": 26,
     "metadata": {},
     "output_type": "execute_result"
    }
   ],
   "source": [
    "list(subsets.values())[0:5]"
   ]
  },
  {
   "cell_type": "markdown",
   "id": "35164e55-347a-4141-9a0d-8ccf29e562fe",
   "metadata": {},
   "source": [
    "# 6. Save Data"
   ]
  },
  {
   "cell_type": "markdown",
   "id": "5d4ff35b-02f9-42a1-8298-72b1fd780a61",
   "metadata": {},
   "source": []
  },
  {
   "cell_type": "code",
   "execution_count": null,
   "id": "c7036baf-e9be-4e3a-b4be-f966022497e4",
   "metadata": {},
   "outputs": [],
   "source": [
    "# Save the subsets data as a pickle\n",
    "import pickle\n",
    "with open('../Data/subsets_nucleophile.pickle', 'wb') as outfile:\n",
    "    pickle.dump(subsets, outfile, pickle.HIGHEST_PROTOCOL)"
   ]
  }
 ],
 "metadata": {
  "kernelspec": {
   "display_name": "Python 3 (ipykernel)",
   "language": "python",
   "name": "python3"
  },
  "language_info": {
   "codemirror_mode": {
    "name": "ipython",
    "version": 3
   },
   "file_extension": ".py",
   "mimetype": "text/x-python",
   "name": "python",
   "nbconvert_exporter": "python",
   "pygments_lexer": "ipython3",
   "version": "3.10.11"
  }
 },
 "nbformat": 4,
 "nbformat_minor": 5
}
