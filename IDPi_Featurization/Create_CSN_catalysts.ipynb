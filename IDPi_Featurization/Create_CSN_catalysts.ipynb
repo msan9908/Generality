{
 "cells": [
  {
   "cell_type": "markdown",
   "id": "929aa236-1516-44b1-b042-2a7c87441fba",
   "metadata": {},
   "source": [
    "# Chemical Space Network \n"
   ]
  },
  {
   "cell_type": "markdown",
   "id": "196b5cc2-edd8-4e2b-b1e9-5ace6a79668b",
   "metadata": {},
   "source": [
    "## 1. Import RDKit, Networkx, and other libraries"
   ]
  },
  {
   "cell_type": "code",
   "execution_count": 49,
   "id": "e5205ce9-98f9-4ceb-91a5-550c667e7d68",
   "metadata": {},
   "outputs": [],
   "source": [
    "from rdkit import Chem\n",
    "from rdkit import rdBase\n",
    "from rdkit.Chem import Draw\n",
    "from rdkit.Chem.Draw import rdMolDraw2D\n",
    "from rdkit.Chem import rdDepictor\n",
    "rdDepictor.SetPreferCoordGen(True)\n",
    "from rdkit.Chem import rdMolDescriptors\n",
    "from rdkit.Chem import rdFMCS\n",
    "from rdkit import DataStructs\n",
    "from rdkit.Chem import rdmolops\n",
    "\n",
    "import numpy as np\n",
    "\n",
    "import pandas as pd\n",
    "\n",
    "import networkx as nx\n",
    "\n",
    "import matplotlib as mpl\n",
    "import matplotlib.pyplot as plt"
   ]
  },
  {
   "cell_type": "code",
   "execution_count": 50,
   "id": "e3ad87a5-e66f-4c9d-bc4b-a0c2e23eca39",
   "metadata": {},
   "outputs": [
    {
     "name": "stdout",
     "output_type": "stream",
     "text": [
      "RDKit version:  2023.03.1\n",
      "Networkx version 2.8.8\n"
     ]
    }
   ],
   "source": [
    "# Print versions of libraries used\n",
    "print('RDKit version: ',rdBase.rdkitVersion)\n",
    "print('Networkx version',nx.__version__)\n"
   ]
  },
  {
   "cell_type": "markdown",
   "id": "73f130a2-d387-4a0d-9bc3-551ca9e42817",
   "metadata": {},
   "source": [
    "## 2. Load Data"
   ]
  },
  {
   "cell_type": "code",
   "execution_count": 51,
   "id": "5419fa09-efad-4377-b9cd-8306ae1123b5",
   "metadata": {},
   "outputs": [],
   "source": [
    "full_df = pd.read_csv(\"../Data/Virtualpredictions.csv\")\n"
   ]
  },
  {
   "cell_type": "markdown",
   "id": "203adcfe-0dfa-4231-a16b-2f270a04f8af",
   "metadata": {},
   "source": [
    "# 3. Data Preparation and Checks\n"
   ]
  },
  {
   "cell_type": "code",
   "execution_count": 52,
   "id": "63477d03-a005-47fd-b76b-bbea6734731d",
   "metadata": {},
   "outputs": [
    {
     "data": {
      "text/plain": [
       "True"
      ]
     },
     "execution_count": 52,
     "metadata": {},
     "output_type": "execute_result"
    }
   ],
   "source": [
    "# Check for presence of disconnected SMILES notation via string matching \n",
    "df1 = full_df[~full_df['3,3 Catalyst Substituent '].str.contains(\"\\.\")]\n",
    "len(full_df)==len(df1)"
   ]
  },
  {
   "cell_type": "code",
   "execution_count": 53,
   "id": "1421d761-1794-4428-b6fc-07d9a65cf1d0",
   "metadata": {},
   "outputs": [],
   "source": [
    "\n",
    "smis = df1['3,3 Catalyst Substituent '].tolist()\n",
    "num_frags = []\n",
    "for smi in smis:\n",
    "    mol = Chem.MolFromSmiles(smi)\n",
    "    num_frags.append(len(Chem.GetMolFrags(mol))) # returns number of fragments"
   ]
  },
  {
   "cell_type": "code",
   "execution_count": 54,
   "id": "5a554e53-202e-4d5d-87dc-11d5150460b7",
   "metadata": {},
   "outputs": [
    {
     "data": {
      "text/plain": [
       "True"
      ]
     },
     "execution_count": 54,
     "metadata": {},
     "output_type": "execute_result"
    }
   ],
   "source": [
    "# now check that all molecules have only one fragment\n",
    "all(frag == 1 for frag in num_frags)"
   ]
  },
  {
   "cell_type": "code",
   "execution_count": 55,
   "id": "f286d302-1072-42b4-9447-ac92695d4b51",
   "metadata": {},
   "outputs": [
    {
     "data": {
      "text/plain": [
       "False"
      ]
     },
     "execution_count": 55,
     "metadata": {},
     "output_type": "execute_result"
    }
   ],
   "source": [
    "# We'll use the original SMILES as unique dictionary keys, so we should verify that the\n",
    "#  SMILES are unique strings too.\n",
    "set_smis = set(smis)\n",
    "len(set_smis) == len(smis)"
   ]
  },
  {
   "cell_type": "markdown",
   "id": "6629bd41-d88d-40c2-9786-1d29f94950da",
   "metadata": {},
   "source": [
    "## 4. Compile Node data"
   ]
  },
  {
   "cell_type": "code",
   "execution_count": 56,
   "id": "e3e52811-d33d-4989-a9fb-d9dd520c246d",
   "metadata": {},
   "outputs": [],
   "source": [
    "# set the dataframe index as Smiles (we already verified they are all unique from eachother)\n",
    "df2 = df1.set_index('3,3 Catalyst Substituent ')"
   ]
  },
  {
   "cell_type": "code",
   "execution_count": 57,
   "id": "aff35e15",
   "metadata": {},
   "outputs": [
    {
     "data": {
      "text/html": [
       "<div>\n",
       "<style scoped>\n",
       "    .dataframe tbody tr th:only-of-type {\n",
       "        vertical-align: middle;\n",
       "    }\n",
       "\n",
       "    .dataframe tbody tr th {\n",
       "        vertical-align: top;\n",
       "    }\n",
       "\n",
       "    .dataframe thead th {\n",
       "        text-align: right;\n",
       "    }\n",
       "</style>\n",
       "<table border=\"1\" class=\"dataframe\">\n",
       "  <thead>\n",
       "    <tr style=\"text-align: right;\">\n",
       "      <th></th>\n",
       "      <th>Unnamed: 0</th>\n",
       "      <th>nucleophile SMILES</th>\n",
       "      <th>starting electrophile SMILES</th>\n",
       "      <th>N Catalyst Substituent</th>\n",
       "      <th>ddg</th>\n",
       "      <th>ee</th>\n",
       "      <th>cluster</th>\n",
       "    </tr>\n",
       "    <tr>\n",
       "      <th>3,3 Catalyst Substituent</th>\n",
       "      <th></th>\n",
       "      <th></th>\n",
       "      <th></th>\n",
       "      <th></th>\n",
       "      <th></th>\n",
       "      <th></th>\n",
       "      <th></th>\n",
       "    </tr>\n",
       "  </thead>\n",
       "  <tbody>\n",
       "    <tr>\n",
       "      <th>c2ccc1ccccc1c2</th>\n",
       "      <td>0</td>\n",
       "      <td>C=CC[Si](C)(C)C</td>\n",
       "      <td>O=Cc2ccc1ccccc1c2</td>\n",
       "      <td>NS(=O)(=O)C(F)(F)F</td>\n",
       "      <td>1.186380</td>\n",
       "      <td>0.910254</td>\n",
       "      <td>10</td>\n",
       "    </tr>\n",
       "    <tr>\n",
       "      <th>c2ccc1ccccc1c2</th>\n",
       "      <td>1</td>\n",
       "      <td>C=CC[Si](C)(C)C</td>\n",
       "      <td>O=Cc2ccc1ccccc1c2</td>\n",
       "      <td>NS(=O)(=O)C(F)(F)C(F)(F)F</td>\n",
       "      <td>1.221371</td>\n",
       "      <td>0.917676</td>\n",
       "      <td>10</td>\n",
       "    </tr>\n",
       "    <tr>\n",
       "      <th>c2ccc1ccccc1c2</th>\n",
       "      <td>2</td>\n",
       "      <td>C=CC[Si](C)(C)C</td>\n",
       "      <td>O=Cc2ccc1ccccc1c2</td>\n",
       "      <td>NS(=O)(=O)c1c(F)c(F)c(F)c(F)c1F</td>\n",
       "      <td>1.334461</td>\n",
       "      <td>0.937845</td>\n",
       "      <td>10</td>\n",
       "    </tr>\n",
       "    <tr>\n",
       "      <th>c2ccc1ccccc1c2</th>\n",
       "      <td>3</td>\n",
       "      <td>C=CC[Si](C)(C)C</td>\n",
       "      <td>O=Cc2ccc1ccccc1c2</td>\n",
       "      <td>NS(=O)(=O)C(F)(F)C(F)(F)C(F)(F)C(F)(F)F</td>\n",
       "      <td>1.260528</td>\n",
       "      <td>0.925284</td>\n",
       "      <td>10</td>\n",
       "    </tr>\n",
       "    <tr>\n",
       "      <th>c2ccc1ccccc1c2</th>\n",
       "      <td>4</td>\n",
       "      <td>C=CC[Si](C)(C)C</td>\n",
       "      <td>O=Cc2ccc1ccccc1c2</td>\n",
       "      <td>NS(=O)(=O)C(F)(F)C(F)(F)C(F)(F)C(F)(F)C(F)(F)C...</td>\n",
       "      <td>1.259334</td>\n",
       "      <td>0.925062</td>\n",
       "      <td>10</td>\n",
       "    </tr>\n",
       "    <tr>\n",
       "      <th>...</th>\n",
       "      <td>...</td>\n",
       "      <td>...</td>\n",
       "      <td>...</td>\n",
       "      <td>...</td>\n",
       "      <td>...</td>\n",
       "      <td>...</td>\n",
       "      <td>...</td>\n",
       "    </tr>\n",
       "    <tr>\n",
       "      <th>c3ccc2ccc1ccccc1c2c3</th>\n",
       "      <td>363995</td>\n",
       "      <td>C1=CCCC=C1</td>\n",
       "      <td>C=CC=O</td>\n",
       "      <td>NS(=O)(=O)C(F)(F)F</td>\n",
       "      <td>1.192303</td>\n",
       "      <td>0.911554</td>\n",
       "      <td>1</td>\n",
       "    </tr>\n",
       "    <tr>\n",
       "      <th>c3ccc2ccc1ccccc1c2c3</th>\n",
       "      <td>363996</td>\n",
       "      <td>C1=CCCC=C1</td>\n",
       "      <td>C=CC=O</td>\n",
       "      <td>NS(=O)(=O)C(F)(F)C(F)(F)F</td>\n",
       "      <td>1.261160</td>\n",
       "      <td>0.925401</td>\n",
       "      <td>1</td>\n",
       "    </tr>\n",
       "    <tr>\n",
       "      <th>c3ccc2ccc1ccccc1c2c3</th>\n",
       "      <td>363997</td>\n",
       "      <td>C1=CCCC=C1</td>\n",
       "      <td>C=CC=O</td>\n",
       "      <td>NS(=O)(=O)c1c(F)c(F)c(F)c(F)c1F</td>\n",
       "      <td>1.276828</td>\n",
       "      <td>0.928248</td>\n",
       "      <td>1</td>\n",
       "    </tr>\n",
       "    <tr>\n",
       "      <th>c3ccc2ccc1ccccc1c2c3</th>\n",
       "      <td>363998</td>\n",
       "      <td>C1=CCCC=C1</td>\n",
       "      <td>C=CC=O</td>\n",
       "      <td>NS(=O)(=O)C(F)(F)C(F)(F)C(F)(F)C(F)(F)F</td>\n",
       "      <td>1.295856</td>\n",
       "      <td>0.931565</td>\n",
       "      <td>1</td>\n",
       "    </tr>\n",
       "    <tr>\n",
       "      <th>c3ccc2ccc1ccccc1c2c3</th>\n",
       "      <td>363999</td>\n",
       "      <td>C1=CCCC=C1</td>\n",
       "      <td>C=CC=O</td>\n",
       "      <td>NS(=O)(=O)C(F)(F)C(F)(F)C(F)(F)C(F)(F)C(F)(F)C...</td>\n",
       "      <td>1.295856</td>\n",
       "      <td>0.931565</td>\n",
       "      <td>1</td>\n",
       "    </tr>\n",
       "  </tbody>\n",
       "</table>\n",
       "<p>364000 rows × 7 columns</p>\n",
       "</div>"
      ],
      "text/plain": [
       "                           Unnamed: 0 nucleophile SMILES  \\\n",
       "3,3 Catalyst Substituent                                   \n",
       "c2ccc1ccccc1c2                      0    C=CC[Si](C)(C)C   \n",
       "c2ccc1ccccc1c2                      1    C=CC[Si](C)(C)C   \n",
       "c2ccc1ccccc1c2                      2    C=CC[Si](C)(C)C   \n",
       "c2ccc1ccccc1c2                      3    C=CC[Si](C)(C)C   \n",
       "c2ccc1ccccc1c2                      4    C=CC[Si](C)(C)C   \n",
       "...                               ...                ...   \n",
       "c3ccc2ccc1ccccc1c2c3           363995         C1=CCCC=C1   \n",
       "c3ccc2ccc1ccccc1c2c3           363996         C1=CCCC=C1   \n",
       "c3ccc2ccc1ccccc1c2c3           363997         C1=CCCC=C1   \n",
       "c3ccc2ccc1ccccc1c2c3           363998         C1=CCCC=C1   \n",
       "c3ccc2ccc1ccccc1c2c3           363999         C1=CCCC=C1   \n",
       "\n",
       "                          starting electrophile SMILES  \\\n",
       "3,3 Catalyst Substituent                                 \n",
       "c2ccc1ccccc1c2                       O=Cc2ccc1ccccc1c2   \n",
       "c2ccc1ccccc1c2                       O=Cc2ccc1ccccc1c2   \n",
       "c2ccc1ccccc1c2                       O=Cc2ccc1ccccc1c2   \n",
       "c2ccc1ccccc1c2                       O=Cc2ccc1ccccc1c2   \n",
       "c2ccc1ccccc1c2                       O=Cc2ccc1ccccc1c2   \n",
       "...                                                ...   \n",
       "c3ccc2ccc1ccccc1c2c3                            C=CC=O   \n",
       "c3ccc2ccc1ccccc1c2c3                            C=CC=O   \n",
       "c3ccc2ccc1ccccc1c2c3                            C=CC=O   \n",
       "c3ccc2ccc1ccccc1c2c3                            C=CC=O   \n",
       "c3ccc2ccc1ccccc1c2c3                            C=CC=O   \n",
       "\n",
       "                                                      N Catalyst Substituent  \\\n",
       "3,3 Catalyst Substituent                                                       \n",
       "c2ccc1ccccc1c2                                            NS(=O)(=O)C(F)(F)F   \n",
       "c2ccc1ccccc1c2                                     NS(=O)(=O)C(F)(F)C(F)(F)F   \n",
       "c2ccc1ccccc1c2                               NS(=O)(=O)c1c(F)c(F)c(F)c(F)c1F   \n",
       "c2ccc1ccccc1c2                       NS(=O)(=O)C(F)(F)C(F)(F)C(F)(F)C(F)(F)F   \n",
       "c2ccc1ccccc1c2             NS(=O)(=O)C(F)(F)C(F)(F)C(F)(F)C(F)(F)C(F)(F)C...   \n",
       "...                                                                      ...   \n",
       "c3ccc2ccc1ccccc1c2c3                                      NS(=O)(=O)C(F)(F)F   \n",
       "c3ccc2ccc1ccccc1c2c3                               NS(=O)(=O)C(F)(F)C(F)(F)F   \n",
       "c3ccc2ccc1ccccc1c2c3                         NS(=O)(=O)c1c(F)c(F)c(F)c(F)c1F   \n",
       "c3ccc2ccc1ccccc1c2c3                 NS(=O)(=O)C(F)(F)C(F)(F)C(F)(F)C(F)(F)F   \n",
       "c3ccc2ccc1ccccc1c2c3       NS(=O)(=O)C(F)(F)C(F)(F)C(F)(F)C(F)(F)C(F)(F)C...   \n",
       "\n",
       "                                ddg        ee  cluster  \n",
       "3,3 Catalyst Substituent                                \n",
       "c2ccc1ccccc1c2             1.186380  0.910254       10  \n",
       "c2ccc1ccccc1c2             1.221371  0.917676       10  \n",
       "c2ccc1ccccc1c2             1.334461  0.937845       10  \n",
       "c2ccc1ccccc1c2             1.260528  0.925284       10  \n",
       "c2ccc1ccccc1c2             1.259334  0.925062       10  \n",
       "...                             ...       ...      ...  \n",
       "c3ccc2ccc1ccccc1c2c3       1.192303  0.911554        1  \n",
       "c3ccc2ccc1ccccc1c2c3       1.261160  0.925401        1  \n",
       "c3ccc2ccc1ccccc1c2c3       1.276828  0.928248        1  \n",
       "c3ccc2ccc1ccccc1c2c3       1.295856  0.931565        1  \n",
       "c3ccc2ccc1ccccc1c2c3       1.295856  0.931565        1  \n",
       "\n",
       "[364000 rows x 7 columns]"
      ]
     },
     "execution_count": 57,
     "metadata": {},
     "output_type": "execute_result"
    }
   ],
   "source": [
    "df2"
   ]
  },
  {
   "cell_type": "code",
   "execution_count": 58,
   "id": "db1d4d6f-1398-4575-9637-1d989fde9f79",
   "metadata": {},
   "outputs": [
    {
     "data": {
      "text/plain": [
       "array(['CC(C)(C)c1ccccc1', 'CC(C)CCc1cccc(CCC(C)C)c1',\n",
       "       'CC3(C)c1ccccc1c2ccccc23', 'CCCCCCc1cccc(CCCCCC)c1',\n",
       "       'CCCc1cccc(CCC)c1', 'CCc1cccc(CC)c1',\n",
       "       'Cc1cc(C)c2CCc4cccc3CCc1c2c34', 'Cc1cc(C)c2ccc4cccc3ccc1c2c34',\n",
       "       'Cc1cc(C)ccc1', 'Cc1cccc(C)c1C', 'Cc1ccccc1',\n",
       "       'FC(F)(F)C(F)(F)C(F)(F)c1cccc(C(F)(F)C(F)(F)C(F)(F)F)c1',\n",
       "       'FC(F)(F)C(F)(c1cccc(C(F)(C(F)(F)F)C(F)(F)F)c1)C(F)(F)F',\n",
       "       'FC(F)(F)c1cccc(C(F)(F)F)c1',\n",
       "       'FS(F)(F)(F)(F)c1cccc(S(F)(F)(F)(F)F)c1', 'FS(F)(F)(F)(F)c1ccccc1',\n",
       "       'c1ccc3c(c1)CCc2ccccc23', 'c1cccc2ccccc12', 'c1ccccc1',\n",
       "       'c2ccc1ccccc1c2', 'c2cccc(c1ccccc1)c2', 'c3ccc2ccc1ccccc1c2c3',\n",
       "       'c4ccc3c1ccccc1C2(CCC2)c3c4', 'c4ccc3c1ccccc1C2(CCCC2)c3c4',\n",
       "       'c4ccc3c1ccccc1c2ccccc2c3c4'], dtype=object)"
      ]
     },
     "execution_count": 58,
     "metadata": {},
     "output_type": "execute_result"
    }
   ],
   "source": [
    "node_data = np.unique(df2.index)\n",
    "node_data\n"
   ]
  },
  {
   "cell_type": "code",
   "execution_count": 59,
   "id": "82e155ec",
   "metadata": {},
   "outputs": [
    {
     "data": {
      "text/plain": [
       "0.899319951570055"
      ]
     },
     "execution_count": 59,
     "metadata": {},
     "output_type": "execute_result"
    }
   ],
   "source": [
    "node_subset = df2.groupby(['3,3 Catalyst Substituent '])['ee'].mean().to_dict()\n",
    "node_subset['CC(C)(C)c1ccccc1']"
   ]
  },
  {
   "cell_type": "markdown",
   "id": "879bca9c-acc9-467b-ba85-8e6bbe4fc0f2",
   "metadata": {},
   "source": [
    "## 5. Compute and Compile Edge Data"
   ]
  },
  {
   "cell_type": "code",
   "execution_count": 60,
   "id": "541bc5e7-51e9-4d29-aa15-1024d56ecb35",
   "metadata": {},
   "outputs": [
    {
     "data": {
      "text/plain": [
       "300"
      ]
     },
     "execution_count": 60,
     "metadata": {},
     "output_type": "execute_result"
    }
   ],
   "source": [
    "# We first need to create subset pairs of the SMILES\n",
    "smis = [] \n",
    "for key in node_data:\n",
    "    smis.append(key)\n",
    "\n",
    "from itertools import combinations\n",
    "smis_subsets = list(combinations(smis,2))\n",
    "len(smis_subsets)"
   ]
  },
  {
   "cell_type": "code",
   "execution_count": 61,
   "id": "8f2b1bc5-db14-4c25-84e1-10f22f3c71a5",
   "metadata": {},
   "outputs": [
    {
     "data": {
      "text/plain": [
       "300"
      ]
     },
     "execution_count": 61,
     "metadata": {},
     "output_type": "execute_result"
    }
   ],
   "source": [
    "# create a dictionary, subsets\n",
    "subsets = {}\n",
    "for i, (smi1,smi2) in enumerate(smis_subsets):\n",
    "    field = {}\n",
    "    field[\"smi1\"] = smi1\n",
    "    subsets[i] = field\n",
    "    \n",
    "    field[\"smi2\"] = smi2\n",
    "    subsets[i] = field\n",
    "len(subsets)"
   ]
  },
  {
   "cell_type": "code",
   "execution_count": 62,
   "id": "ba2d098a-d803-46f2-9849-f305aaf9872e",
   "metadata": {},
   "outputs": [],
   "source": [
    "# add mol objects to our subsets dictionary\n",
    "for key,value in subsets.items():\n",
    "    subsets[key].update({\"mol1\": Chem.MolFromSmiles(value['smi1'])})\n",
    "    subsets[key].update({\"mol2\": Chem.MolFromSmiles(value['smi2'])})"
   ]
  },
  {
   "cell_type": "markdown",
   "id": "dac8a0db-3345-40d1-982a-33853c7e7c1d",
   "metadata": {},
   "source": [
    "### Compute Tanimoto Similarity (RDKit fingerprint based)"
   ]
  },
  {
   "cell_type": "code",
   "execution_count": 63,
   "id": "67f35c55-999d-4940-8a7a-2d41048d1a07",
   "metadata": {},
   "outputs": [],
   "source": [
    "# compute and add Tanimoto Similarity using default RDKit fingerprints\n",
    "for key,value in subsets.items():\n",
    "    fp1 = Chem.RDKFingerprint(value['mol1'])\n",
    "    fp2 = Chem.RDKFingerprint(value['mol2'])\n",
    "    tan_sim = round(DataStructs.TanimotoSimilarity(fp1,fp2), 3)\n",
    "    subsets[key].update({\"tan_similarity\": tan_sim})"
   ]
  },
  {
   "cell_type": "markdown",
   "id": "ed144778-3aa9-4794-bead-0e111c884d1f",
   "metadata": {},
   "source": [
    "### Compute MCS-based Tanimoto Coefficient (multiprocessing)"
   ]
  },
  {
   "cell_type": "code",
   "execution_count": 64,
   "id": "a081d570-4516-47a6-93da-0f98e0639686",
   "metadata": {},
   "outputs": [
    {
     "name": "stdout",
     "output_type": "stream",
     "text": [
      "8\n"
     ]
    }
   ],
   "source": [
    "# get number of processors\n",
    "import multiprocessing\n",
    "print(multiprocessing.cpu_count())\n",
    "num_cpus=2"
   ]
  },
  {
   "cell_type": "code",
   "execution_count": 65,
   "id": "f460e9a2-8aa0-4a15-b272-47cee0555b8d",
   "metadata": {},
   "outputs": [],
   "source": [
    "# Add maximum common substructure (MCS)-based Tanimoto Coefficient\n",
    "\n",
    "\n",
    "def tc_mcs(mol1,mol2,key):\n",
    "    # get maximum common substructure instance\n",
    "    mcs = rdFMCS.FindMCS([mol1,mol2],timeout=10) # adding a 10 second timeout\n",
    "    \n",
    "    # get number of common bonds\n",
    "    mcs_bonds = mcs.numBonds\n",
    "    \n",
    "    # get number of bonds for each\n",
    "    # default is only heavy atom bonds\n",
    "    mol1_bonds = mol1.GetNumBonds()\n",
    "    mol2_bonds = mol2.GetNumBonds()\n",
    "    \n",
    "    # compute MCS-based Tanimoto\n",
    "    tan_mcs = mcs_bonds / (mol1_bonds + mol2_bonds - mcs_bonds)\n",
    "    return key, tan_mcs\n",
    "\n",
    "# create a list of mol1, mol2, and their dictionary key as tuples\n",
    "mol_tuples = []\n",
    "for key, value in subsets.items():\n",
    "    mol_tuples.append((value['mol1'],value['mol2'], key))\n",
    "\n",
    "# run multiprocessing on the tc_mcs function\n",
    "from multiprocessing import Pool\n",
    "\n",
    "if __name__ == '__main__':\n",
    "\n",
    "    for  mol1, mol2, key in mol_tuples:\n",
    "        subsets[key].update({\"tan_mcs\": tc_mcs(mol1, mol2,key)[1]})"
   ]
  },
  {
   "cell_type": "code",
   "execution_count": 66,
   "id": "9b28221d-f1ee-4bbb-ba78-9bdf0efa43c5",
   "metadata": {},
   "outputs": [
    {
     "data": {
      "text/plain": [
       "[{'smi1': 'CC(C)(C)c1ccccc1',\n",
       "  'smi2': 'CC(C)CCc1cccc(CCC(C)C)c1',\n",
       "  'mol1': <rdkit.Chem.rdchem.Mol at 0x177a50ba0>,\n",
       "  'mol2': <rdkit.Chem.rdchem.Mol at 0x177a50b30>,\n",
       "  'tan_similarity': 0.382,\n",
       "  'tan_mcs': 0.4444444444444444},\n",
       " {'smi1': 'CC(C)(C)c1ccccc1',\n",
       "  'smi2': 'CC3(C)c1ccccc1c2ccccc23',\n",
       "  'mol1': <rdkit.Chem.rdchem.Mol at 0x177a50d60>,\n",
       "  'mol2': <rdkit.Chem.rdchem.Mol at 0x177a50dd0>,\n",
       "  'tan_similarity': 0.186,\n",
       "  'tan_mcs': 0.5882352941176471},\n",
       " {'smi1': 'CC(C)(C)c1ccccc1',\n",
       "  'smi2': 'CCCCCCc1cccc(CCCCCC)c1',\n",
       "  'mol1': <rdkit.Chem.rdchem.Mol at 0x177a50e40>,\n",
       "  'mol2': <rdkit.Chem.rdchem.Mol at 0x177a50eb0>,\n",
       "  'tan_similarity': 0.361,\n",
       "  'tan_mcs': 0.4},\n",
       " {'smi1': 'CC(C)(C)c1ccccc1',\n",
       "  'smi2': 'CCCc1cccc(CCC)c1',\n",
       "  'mol1': <rdkit.Chem.rdchem.Mol at 0x177a50190>,\n",
       "  'mol2': <rdkit.Chem.rdchem.Mol at 0x177a50f20>,\n",
       "  'tan_similarity': 0.431,\n",
       "  'tan_mcs': 0.5714285714285714},\n",
       " {'smi1': 'CC(C)(C)c1ccccc1',\n",
       "  'smi2': 'CCc1cccc(CC)c1',\n",
       "  'mol1': <rdkit.Chem.rdchem.Mol at 0x177a51620>,\n",
       "  'mol2': <rdkit.Chem.rdchem.Mol at 0x177a51150>,\n",
       "  'tan_similarity': 0.5,\n",
       "  'tan_mcs': 0.6666666666666666}]"
      ]
     },
     "execution_count": 66,
     "metadata": {},
     "output_type": "execute_result"
    }
   ],
   "source": [
    "list(subsets.values())[0:5]"
   ]
  },
  {
   "cell_type": "markdown",
   "id": "35164e55-347a-4141-9a0d-8ccf29e562fe",
   "metadata": {},
   "source": [
    "# 6. Save Data"
   ]
  },
  {
   "cell_type": "markdown",
   "id": "5d4ff35b-02f9-42a1-8298-72b1fd780a61",
   "metadata": {},
   "source": [
    "Save the data, so you don't have to re-compute the tanimoto and MCS similarity again."
   ]
  },
  {
   "cell_type": "code",
   "execution_count": 67,
   "id": "c7036baf-e9be-4e3a-b4be-f966022497e4",
   "metadata": {},
   "outputs": [],
   "source": [
    "# Save the subsets data as a pickle\n",
    "import pickle\n",
    "with open('../Data/subsets_cata.pickle', 'wb') as outfile:\n",
    "    pickle.dump(subsets, outfile, pickle.HIGHEST_PROTOCOL)"
   ]
  },
  {
   "cell_type": "code",
   "execution_count": 68,
   "id": "8b70b393",
   "metadata": {},
   "outputs": [],
   "source": [
    "import pickle\n",
    "with open('../Data/node_data_cata.pickle', 'wb') as outfile:\n",
    "    pickle.dump(node_subset, outfile, pickle.HIGHEST_PROTOCOL)"
   ]
  }
 ],
 "metadata": {
  "kernelspec": {
   "display_name": "Python 3 (ipykernel)",
   "language": "python",
   "name": "python3"
  },
  "language_info": {
   "codemirror_mode": {
    "name": "ipython",
    "version": 3
   },
   "file_extension": ".py",
   "mimetype": "text/x-python",
   "name": "python",
   "nbconvert_exporter": "python",
   "pygments_lexer": "ipython3",
   "version": "3.11.7"
  }
 },
 "nbformat": 4,
 "nbformat_minor": 5
}
